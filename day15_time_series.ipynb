{
  "cells": [
    {
      "cell_type": "markdown",
      "metadata": {
        "id": "view-in-github",
        "colab_type": "text"
      },
      "source": [
        "<a href=\"https://colab.research.google.com/github/jo-soobin/numpy-pandas/blob/master/day15_time_series.ipynb\" target=\"_parent\"><img src=\"https://colab.research.google.com/assets/colab-badge.svg\" alt=\"Open In Colab\"/></a>"
      ]
    },
    {
      "cell_type": "markdown",
      "metadata": {
        "id": "RYeOPasPxfLr"
      },
      "source": [
        "## Agenda\n",
        "- TimeSeries Data\n",
        "- 시간의 흐름에 따라 변화 하는 data\n",
        "  - 온도\n",
        "  - 코로나 확진자\n",
        "  - 구매량\n",
        "  - 주가"
      ]
    },
    {
      "cell_type": "code",
      "execution_count": null,
      "metadata": {
        "id": "R_c87XwRxfLu"
      },
      "outputs": [],
      "source": [
        "import pandas as pd\n",
        "import numpy as np\n",
        "\n",
        "np.random.seed(252)"
      ]
    },
    {
      "cell_type": "markdown",
      "metadata": {
        "id": "YM2ysTooxfLv"
      },
      "source": [
        "## Time Series"
      ]
    },
    {
      "cell_type": "markdown",
      "metadata": {
        "id": "lWeDQpImxfLv"
      },
      "source": [
        "- \"timeseries\" 데이터는 `DatetimeIndex` 또는 `PeriodIndex`로 구성된 데이터 셋이다"
      ]
    },
    {
      "cell_type": "markdown",
      "metadata": {
        "id": "D57CRlGYxfLw"
      },
      "source": [
        "### to_datetime\n",
        "- datetime으로 data의 type을 변경해주는 함수"
      ]
    },
    {
      "cell_type": "code",
      "execution_count": null,
      "metadata": {
        "colab": {
          "base_uri": "https://localhost:8080/"
        },
        "id": "u-8K9MJQxfLw",
        "outputId": "f35b9a17-40d1-4dc9-b66a-2ca5cbd6e4e6"
      },
      "outputs": [
        {
          "output_type": "execute_result",
          "data": {
            "text/plain": [
              "str"
            ]
          },
          "metadata": {},
          "execution_count": 5
        }
      ],
      "source": [
        "date = \"20220720\"\n",
        "type(date)"
      ]
    },
    {
      "cell_type": "code",
      "source": [
        "pd.to_datetime(date)"
      ],
      "metadata": {
        "colab": {
          "base_uri": "https://localhost:8080/"
        },
        "id": "qe4w0_d5yqSC",
        "outputId": "b9881e41-fc9a-4dd3-8948-9faf45c59679"
      },
      "execution_count": null,
      "outputs": [
        {
          "output_type": "execute_result",
          "data": {
            "text/plain": [
              "Timestamp('2022-07-20 00:00:00')"
            ]
          },
          "metadata": {},
          "execution_count": 6
        }
      ]
    },
    {
      "cell_type": "code",
      "source": [
        "date = \"2022-07-20\"\n",
        "pd.to_datetime(date)"
      ],
      "metadata": {
        "colab": {
          "base_uri": "https://localhost:8080/"
        },
        "id": "U9A_BWTIy8RS",
        "outputId": "98972b8f-f266-4d51-89b1-f3eff3bfc68b"
      },
      "execution_count": null,
      "outputs": [
        {
          "output_type": "execute_result",
          "data": {
            "text/plain": [
              "Timestamp('2022-07-20 00:00:00')"
            ]
          },
          "metadata": {},
          "execution_count": 7
        }
      ]
    },
    {
      "cell_type": "markdown",
      "source": [
        "- format 을이용 "
      ],
      "metadata": {
        "id": "ikA-yqp6zG5J"
      }
    },
    {
      "cell_type": "code",
      "source": [
        "date = \"20220720\"\n",
        "type(date)\n",
        "pd.to_datetime(date, format = \"%Y%m%d\")"
      ],
      "metadata": {
        "colab": {
          "base_uri": "https://localhost:8080/"
        },
        "id": "pgJ8marbzLs5",
        "outputId": "0b09faa3-e03f-4094-c528-1488ed06d502"
      },
      "execution_count": null,
      "outputs": [
        {
          "output_type": "execute_result",
          "data": {
            "text/plain": [
              "Timestamp('2022-07-20 00:00:00')"
            ]
          },
          "metadata": {},
          "execution_count": 8
        }
      ]
    },
    {
      "cell_type": "code",
      "source": [
        "date = 20220720\n",
        "type(date)\n",
        "pd.to_datetime(date)"
      ],
      "metadata": {
        "colab": {
          "base_uri": "https://localhost:8080/"
        },
        "id": "yX8AUE-TzYaa",
        "outputId": "a8cc2da2-2827-4bdc-8418-03e9a384cede"
      },
      "execution_count": null,
      "outputs": [
        {
          "output_type": "execute_result",
          "data": {
            "text/plain": [
              "Timestamp('1970-01-01 00:00:00.020220720')"
            ]
          },
          "metadata": {},
          "execution_count": 10
        }
      ]
    },
    {
      "cell_type": "code",
      "source": [
        "date = 20220720\n",
        "type(date)\n",
        "pd.to_datetime(date, format = \"%Y%m%d\")"
      ],
      "metadata": {
        "colab": {
          "base_uri": "https://localhost:8080/"
        },
        "id": "yMvK8DwvzS4j",
        "outputId": "6e8fd355-0e01-4dd9-92d7-f74eca369c38"
      },
      "execution_count": null,
      "outputs": [
        {
          "output_type": "execute_result",
          "data": {
            "text/plain": [
              "Timestamp('2022-07-20 00:00:00')"
            ]
          },
          "metadata": {},
          "execution_count": 9
        }
      ]
    },
    {
      "cell_type": "code",
      "source": [
        "date = \"2022년07월20일\"\n",
        "type(date)\n",
        "pd.to_datetime(date, format = \"%Y년%m월%d일\")"
      ],
      "metadata": {
        "colab": {
          "base_uri": "https://localhost:8080/"
        },
        "id": "8D_Nv_49zXJS",
        "outputId": "be3ec142-25d1-43a7-d94d-be39cc59244f"
      },
      "execution_count": null,
      "outputs": [
        {
          "output_type": "execute_result",
          "data": {
            "text/plain": [
              "Timestamp('2022-07-20 00:00:00')"
            ]
          },
          "metadata": {},
          "execution_count": 17
        }
      ]
    },
    {
      "cell_type": "code",
      "source": [
        "time_data = pd.to_datetime(date, format = \"%Y년%m월%d일\")\n",
        "type(time_data)"
      ],
      "metadata": {
        "colab": {
          "base_uri": "https://localhost:8080/"
        },
        "id": "XiRsmWuAz5Zi",
        "outputId": "369d97da-9389-4505-ae78-bc52267f1815"
      },
      "execution_count": null,
      "outputs": [
        {
          "output_type": "execute_result",
          "data": {
            "text/plain": [
              "pandas._libs.tslibs.timestamps.Timestamp"
            ]
          },
          "metadata": {},
          "execution_count": 18
        }
      ]
    },
    {
      "cell_type": "code",
      "source": [
        "time_data.day"
      ],
      "metadata": {
        "colab": {
          "base_uri": "https://localhost:8080/"
        },
        "id": "_lFJXWBV0IlS",
        "outputId": "e1bfa233-4eae-4662-a41a-02bc8abb457e"
      },
      "execution_count": null,
      "outputs": [
        {
          "output_type": "execute_result",
          "data": {
            "text/plain": [
              "20"
            ]
          },
          "metadata": {},
          "execution_count": 22
        }
      ]
    },
    {
      "cell_type": "code",
      "source": [
        "time_data.year"
      ],
      "metadata": {
        "colab": {
          "base_uri": "https://localhost:8080/"
        },
        "id": "OmlFc-Aj0dGS",
        "outputId": "ee2e9ee9-ee73-4919-a48f-38e9c7034604"
      },
      "execution_count": null,
      "outputs": [
        {
          "output_type": "execute_result",
          "data": {
            "text/plain": [
              "2022"
            ]
          },
          "metadata": {},
          "execution_count": 23
        }
      ]
    },
    {
      "cell_type": "markdown",
      "metadata": {
        "id": "6j3wo-SNxfLw"
      },
      "source": [
        "### sample data 생성"
      ]
    },
    {
      "cell_type": "code",
      "execution_count": null,
      "metadata": {
        "id": "iyHTkIiSxfLx"
      },
      "outputs": [],
      "source": [
        "def random_series(dts):\n",
        "    res = pd.Series(np.random.randn(len(dts)), index=dts)\n",
        "    return res"
      ]
    },
    {
      "cell_type": "markdown",
      "metadata": {
        "id": "xeZ93PTlxfLx"
      },
      "source": [
        "`Timestamp` 를 이용해 시간 객체 생성"
      ]
    },
    {
      "cell_type": "code",
      "execution_count": null,
      "metadata": {
        "id": "CtBO1QZRxfLy"
      },
      "outputs": [],
      "source": [
        "ts = pd.Timestamp(\"2022-07-20 13:18\")"
      ]
    },
    {
      "cell_type": "code",
      "source": [
        "ts"
      ],
      "metadata": {
        "colab": {
          "base_uri": "https://localhost:8080/"
        },
        "id": "G9_hBfLw09g6",
        "outputId": "2aa100fb-fec2-406b-b172-ac09832b36e7"
      },
      "execution_count": null,
      "outputs": [
        {
          "output_type": "execute_result",
          "data": {
            "text/plain": [
              "Timestamp('2022-07-20 13:18:00')"
            ]
          },
          "metadata": {},
          "execution_count": 26
        }
      ]
    },
    {
      "cell_type": "code",
      "source": [
        "s_1 = pd.Series(111.2, index=[ts])"
      ],
      "metadata": {
        "id": "Jsm8k1t80_cy"
      },
      "execution_count": null,
      "outputs": []
    },
    {
      "cell_type": "code",
      "source": [
        "s_1"
      ],
      "metadata": {
        "colab": {
          "base_uri": "https://localhost:8080/"
        },
        "id": "iTPyWM8g1JYU",
        "outputId": "54e52b1f-c770-46b8-eb11-9f8616c39826"
      },
      "execution_count": null,
      "outputs": [
        {
          "output_type": "execute_result",
          "data": {
            "text/plain": [
              "2022-07-20 13:18:00    111.2\n",
              "dtype: float64"
            ]
          },
          "metadata": {},
          "execution_count": 29
        }
      ]
    },
    {
      "cell_type": "code",
      "source": [
        "s_1.index"
      ],
      "metadata": {
        "colab": {
          "base_uri": "https://localhost:8080/"
        },
        "id": "Rrz4-2qT1J0w",
        "outputId": "22097b93-58b8-4911-cbf6-4bf951c946cf"
      },
      "execution_count": null,
      "outputs": [
        {
          "output_type": "execute_result",
          "data": {
            "text/plain": [
              "DatetimeIndex(['2022-07-20 13:18:00'], dtype='datetime64[ns]', freq=None)"
            ]
          },
          "metadata": {},
          "execution_count": 30
        }
      ]
    },
    {
      "cell_type": "markdown",
      "metadata": {
        "id": "cjgDcLINxfLy"
      },
      "source": [
        "## Time Series의 함수들\n",
        "- `date_range` : 시작일과 종료일 또는 시작일과 기간을 입력하면 범위 내의 인덱스 생성\n",
        "```\n",
        "s: 초\n",
        "T: 분\n",
        "H: 시간\n",
        "D: 일(day)\n",
        "B: 주말이 아닌 평일\n",
        "W: 주(일요일)\n",
        "W-MON: 주(월요일)\n",
        "M: 각 달(month)의 마지막 날\n",
        "MS: 각 달의 첫날\n",
        "BM: 주말이 아닌 평일 중에서 각 달의 마지막 날\n",
        "BMS: 주말이 아닌 평일 중에서 각 달의 첫날\n",
        "WOM-2THU: 각 달의 두번째 목요일\n",
        "Q-JAN: 각 분기의 첫달의 마지막 날\n",
        "Q-DEC: 각 분기의 마지막 달의 마지막 날\n",
        "```"
      ]
    },
    {
      "cell_type": "code",
      "execution_count": null,
      "metadata": {
        "id": "gw9wBJNQxfLz"
      },
      "outputs": [],
      "source": [
        "dts = pd.date_range(\"2022-01-01\", \"2023-12-31\", freq=\"B\") # 주 5일 기준으로 생성"
      ]
    },
    {
      "cell_type": "code",
      "source": [
        "pd.date_range(\"2022-01-01\", \"2023-12-31\", freq=\"6D\") #6일 간격으로 생성\n",
        "# pd.date_range(\"2022-01-01\", \"2023-12-31\", periods=6)"
      ],
      "metadata": {
        "colab": {
          "base_uri": "https://localhost:8080/"
        },
        "id": "636dO7Ll2k3E",
        "outputId": "eb2038be-bf6c-49cb-f2ee-6fe2c8c281e1"
      },
      "execution_count": null,
      "outputs": [
        {
          "output_type": "execute_result",
          "data": {
            "text/plain": [
              "DatetimeIndex(['2022-01-01 00:00:00', '2022-05-26 19:12:00',\n",
              "               '2022-10-19 14:24:00', '2023-03-14 09:36:00',\n",
              "               '2023-08-07 04:48:00', '2023-12-31 00:00:00'],\n",
              "              dtype='datetime64[ns]', freq=None)"
            ]
          },
          "metadata": {},
          "execution_count": 40
        }
      ]
    },
    {
      "cell_type": "code",
      "source": [
        "ts = pd.Series(np.random.randn(len(dts)), index = dts)"
      ],
      "metadata": {
        "id": "bEzpvSgH3WSr"
      },
      "execution_count": null,
      "outputs": []
    },
    {
      "cell_type": "code",
      "source": [
        "ts.head()"
      ],
      "metadata": {
        "colab": {
          "base_uri": "https://localhost:8080/"
        },
        "id": "6asAkzjG3dqd",
        "outputId": "81b5dca4-d039-4cd3-d50b-617395f80e81"
      },
      "execution_count": null,
      "outputs": [
        {
          "output_type": "execute_result",
          "data": {
            "text/plain": [
              "2022-01-03   -0.011498\n",
              "2022-01-04   -0.085123\n",
              "2022-01-05    0.075910\n",
              "2022-01-06   -1.649279\n",
              "2022-01-07   -0.751812\n",
              "Freq: B, dtype: float64"
            ]
          },
          "metadata": {},
          "execution_count": 43
        }
      ]
    },
    {
      "cell_type": "markdown",
      "metadata": {
        "id": "HdxGVA48xfLz"
      },
      "source": [
        "## 시계열 데이터에서의 indexing 과 slicing"
      ]
    },
    {
      "cell_type": "markdown",
      "metadata": {
        "id": "q-pY9UbbxfLz"
      },
      "source": [
        "- indexing"
      ]
    },
    {
      "cell_type": "code",
      "execution_count": null,
      "metadata": {
        "colab": {
          "base_uri": "https://localhost:8080/"
        },
        "id": "-jMB9zO9xfLz",
        "outputId": "5ad48fc3-68d0-4d6c-f190-0298ab5cec1e"
      },
      "outputs": [
        {
          "output_type": "execute_result",
          "data": {
            "text/plain": [
              "0.5063759061902118"
            ]
          },
          "metadata": {},
          "execution_count": 45
        }
      ],
      "source": [
        "ts[\"2023-03-15\"]"
      ]
    },
    {
      "cell_type": "code",
      "source": [
        "ts[\"2023-11-14\"]#오민엽 생일"
      ],
      "metadata": {
        "colab": {
          "base_uri": "https://localhost:8080/"
        },
        "id": "C0Y2jN3X3vkz",
        "outputId": "e3fef6af-765d-46f8-f5c4-f627e7913b53"
      },
      "execution_count": null,
      "outputs": [
        {
          "output_type": "execute_result",
          "data": {
            "text/plain": [
              "-1.2240878839187168"
            ]
          },
          "metadata": {},
          "execution_count": 52
        }
      ]
    },
    {
      "cell_type": "code",
      "source": [
        "ts[\"2023-11-18\"]#11월 18일은 휴일"
      ],
      "metadata": {
        "id": "o3Ggtd7330aj"
      },
      "execution_count": null,
      "outputs": []
    },
    {
      "cell_type": "markdown",
      "metadata": {
        "id": "kzGYCrlkxfL0"
      },
      "source": [
        "- slicing"
      ]
    },
    {
      "cell_type": "code",
      "execution_count": null,
      "metadata": {
        "scrolled": true,
        "colab": {
          "base_uri": "https://localhost:8080/"
        },
        "id": "K9QCw-cBxfL0",
        "outputId": "3b5c0b61-8059-4eb1-ea1d-4579496693b6"
      },
      "outputs": [
        {
          "output_type": "execute_result",
          "data": {
            "text/plain": [
              "2023-11-20    1.126263\n",
              "2023-11-21   -0.151621\n",
              "2023-11-22    0.735057\n",
              "2023-11-23   -0.915439\n",
              "2023-11-24   -0.824778\n",
              "Freq: B, dtype: float64"
            ]
          },
          "metadata": {},
          "execution_count": 54
        }
      ],
      "source": [
        "ts[\"2023-11-18\": \"2023-11-25\"] #휴일이 껴있어도 slicing은 가능하다."
      ]
    },
    {
      "cell_type": "markdown",
      "metadata": {
        "id": "xpTAjNcpxfL0"
      },
      "source": [
        "- 달별 선택"
      ]
    },
    {
      "cell_type": "code",
      "execution_count": null,
      "metadata": {
        "colab": {
          "base_uri": "https://localhost:8080/"
        },
        "id": "UcLLKWRPxfL0",
        "outputId": "72c11a8d-43dd-44f7-d5be-4b5d1791aa2c"
      },
      "outputs": [
        {
          "output_type": "execute_result",
          "data": {
            "text/plain": [
              "2023-11-01   -0.842949\n",
              "2023-11-02   -1.405563\n",
              "2023-11-03   -0.820971\n",
              "2023-11-06   -1.767894\n",
              "2023-11-07   -0.296673\n",
              "Freq: B, dtype: float64"
            ]
          },
          "metadata": {},
          "execution_count": 56
        }
      ],
      "source": [
        "ts[\"2023-11\"].head()"
      ]
    },
    {
      "cell_type": "markdown",
      "metadata": {
        "id": "cP4S-6eLxfL0"
      },
      "source": [
        "- 연별 선택"
      ]
    },
    {
      "cell_type": "code",
      "execution_count": null,
      "metadata": {
        "colab": {
          "base_uri": "https://localhost:8080/"
        },
        "id": "PMiLBlz2xfL1",
        "outputId": "c654a0f9-20c5-4c48-f5a9-b3e0955bb8ff"
      },
      "outputs": [
        {
          "output_type": "execute_result",
          "data": {
            "text/plain": [
              "2023-01-02    1.356573\n",
              "2023-01-03    0.708200\n",
              "2023-01-04   -0.382089\n",
              "2023-01-05   -1.095396\n",
              "2023-01-06    2.584973\n",
              "Freq: B, dtype: float64"
            ]
          },
          "metadata": {},
          "execution_count": 57
        }
      ],
      "source": [
        "ts[\"2023\"].head()"
      ]
    },
    {
      "cell_type": "code",
      "source": [
        "# 특정 달만 가능할까?\n",
        "# ts[\"%Y02\"].head()"
      ],
      "metadata": {
        "id": "o_doWn7q5Ao8"
      },
      "execution_count": null,
      "outputs": []
    },
    {
      "cell_type": "markdown",
      "metadata": {
        "id": "7NA4EjrGxfL1"
      },
      "source": [
        "## 시계열 데이터의 이동 \n",
        "- `shift()` 를 이용해 이동할 수 있다. \n",
        "- [참고](https://towardsdatascience.com/all-the-pandas-shift-you-should-know-for-data-analysis-791c1692b5e)"
      ]
    },
    {
      "cell_type": "markdown",
      "metadata": {
        "id": "m6qciO_jxfL1"
      },
      "source": [
        "### Lagging(후행)"
      ]
    },
    {
      "cell_type": "code",
      "execution_count": null,
      "metadata": {
        "colab": {
          "base_uri": "https://localhost:8080/"
        },
        "id": "ru11Uk_PxfL1",
        "outputId": "76a5dcfb-f43f-49d4-be2c-5372f3a29bb6"
      },
      "outputs": [
        {
          "output_type": "execute_result",
          "data": {
            "text/plain": [
              "2022-01-03   -0.011498\n",
              "2022-01-04   -0.085123\n",
              "2022-01-05    0.075910\n",
              "2022-01-06   -1.649279\n",
              "2022-01-07   -0.751812\n",
              "2022-01-28   -0.858197\n",
              "2022-01-31    1.681411\n",
              "dtype: float64"
            ]
          },
          "metadata": {},
          "execution_count": 61
        }
      ],
      "source": [
        "ts[\"2022-01\"].iloc[[0,1,2,3,4,-2,-1]]"
      ]
    },
    {
      "cell_type": "code",
      "source": [
        "ts22 = ts[\"2022-01\"].copy()\n",
        "ts22.shift(1).iloc[[0,1,2,3,4,-2,-1]]"
      ],
      "metadata": {
        "colab": {
          "base_uri": "https://localhost:8080/"
        },
        "id": "b0c82W4F6CvN",
        "outputId": "837d4b39-f3cc-4ee2-b4c5-34516cb55171"
      },
      "execution_count": null,
      "outputs": [
        {
          "output_type": "execute_result",
          "data": {
            "text/plain": [
              "2022-01-03         NaN\n",
              "2022-01-04   -0.011498\n",
              "2022-01-05   -0.085123\n",
              "2022-01-06    0.075910\n",
              "2022-01-07   -1.649279\n",
              "2022-01-28   -1.724383\n",
              "2022-01-31   -0.858197\n",
              "dtype: float64"
            ]
          },
          "metadata": {},
          "execution_count": 62
        }
      ]
    },
    {
      "cell_type": "markdown",
      "metadata": {
        "id": "8IfLRIkZxfL1"
      },
      "source": [
        "### Leading(선행)"
      ]
    },
    {
      "cell_type": "code",
      "execution_count": null,
      "metadata": {
        "colab": {
          "base_uri": "https://localhost:8080/"
        },
        "id": "PLhV9Qw6xfL1",
        "outputId": "2d3a286b-e7ee-4cf2-ed2e-80ba47f47cbd"
      },
      "outputs": [
        {
          "output_type": "execute_result",
          "data": {
            "text/plain": [
              "2022-01-03   -0.085123\n",
              "2022-01-04    0.075910\n",
              "2022-01-05   -1.649279\n",
              "2022-01-06   -0.751812\n",
              "2022-01-07    1.247329\n",
              "2022-01-28    1.681411\n",
              "2022-01-31         NaN\n",
              "dtype: float64"
            ]
          },
          "metadata": {},
          "execution_count": 63
        }
      ],
      "source": [
        "ts22 = ts[\"2022-01\"].copy()\n",
        "ts22.shift(-1).iloc[[0,1,2,3,4,-2,-1]]"
      ]
    },
    {
      "cell_type": "markdown",
      "metadata": {
        "id": "OpeNPGC9xfL1"
      },
      "source": [
        "## 간격 재조정\n",
        "- `resample` : 시간 간격을 재조정하는 resampling 가능"
      ]
    },
    {
      "cell_type": "code",
      "execution_count": null,
      "metadata": {
        "id": "NRNdnOxJxfL2"
      },
      "outputs": [],
      "source": [
        "dts_1 = pd.date_range(\"2022-01-01\", \"2022-03-31\", freq=\"D\")\n",
        "tsd_2 = pd.Series(np.random.randn(len(dts_1)), index=dts_1)"
      ]
    },
    {
      "cell_type": "code",
      "source": [
        "tsd_2"
      ],
      "metadata": {
        "colab": {
          "base_uri": "https://localhost:8080/"
        },
        "id": "XJ_XD9Xt7OD1",
        "outputId": "950cff94-2964-4ab2-cba1-e2b4b85c9d1f"
      },
      "execution_count": null,
      "outputs": [
        {
          "output_type": "execute_result",
          "data": {
            "text/plain": [
              "2022-01-01    0.945041\n",
              "2022-01-02   -2.043699\n",
              "2022-01-03    0.553808\n",
              "2022-01-04   -0.796250\n",
              "2022-01-05    1.270916\n",
              "                ...   \n",
              "2022-03-27    0.867220\n",
              "2022-03-28   -0.008305\n",
              "2022-03-29    0.596703\n",
              "2022-03-30   -0.762014\n",
              "2022-03-31    0.432501\n",
              "Freq: D, Length: 90, dtype: float64"
            ]
          },
          "metadata": {},
          "execution_count": 69
        }
      ]
    },
    {
      "cell_type": "code",
      "source": [
        "grp = tsd_2.resample(\"M\")"
      ],
      "metadata": {
        "id": "eO3jbng17GUF"
      },
      "execution_count": null,
      "outputs": []
    },
    {
      "cell_type": "code",
      "source": [
        "grp #그냥 resampling된 object"
      ],
      "metadata": {
        "colab": {
          "base_uri": "https://localhost:8080/"
        },
        "id": "ltzeruXM7Rpt",
        "outputId": "42720066-738c-43f5-dfde-aadd89d28776"
      },
      "execution_count": null,
      "outputs": [
        {
          "output_type": "execute_result",
          "data": {
            "text/plain": [
              "<pandas.core.resample.DatetimeIndexResampler object at 0x7f0fdbff1e50>"
            ]
          },
          "metadata": {},
          "execution_count": 72
        }
      ]
    },
    {
      "cell_type": "code",
      "source": [
        "grp.mean()"
      ],
      "metadata": {
        "colab": {
          "base_uri": "https://localhost:8080/"
        },
        "id": "KDJyX0EJ66DV",
        "outputId": "227f0582-d2dc-4ef3-d6ae-0e1ac986dff1"
      },
      "execution_count": null,
      "outputs": [
        {
          "output_type": "execute_result",
          "data": {
            "text/plain": [
              "2022-01-31   -0.252756\n",
              "2022-02-28   -0.264503\n",
              "2022-03-31    0.076831\n",
              "Freq: M, dtype: float64"
            ]
          },
          "metadata": {},
          "execution_count": 73
        }
      ]
    },
    {
      "cell_type": "markdown",
      "metadata": {
        "id": "grkYwGaHxfL2"
      },
      "source": [
        "- Resampling은 groupby와 비슷하게 동작한다. "
      ]
    },
    {
      "cell_type": "code",
      "execution_count": null,
      "metadata": {
        "colab": {
          "base_uri": "https://localhost:8080/",
          "height": 143
        },
        "id": "t1LtYieDxfL2",
        "outputId": "5c6d407f-5bfe-4c95-82f1-8481eb7ae667"
      },
      "outputs": [
        {
          "output_type": "execute_result",
          "data": {
            "text/plain": [
              "                mean       std\n",
              "2022-01-31 -0.252756  0.970751\n",
              "2022-02-28 -0.264503  0.943184\n",
              "2022-03-31  0.076831  0.940313"
            ],
            "text/html": [
              "\n",
              "  <div id=\"df-08421604-9e85-441a-aad4-069caee4a666\">\n",
              "    <div class=\"colab-df-container\">\n",
              "      <div>\n",
              "<style scoped>\n",
              "    .dataframe tbody tr th:only-of-type {\n",
              "        vertical-align: middle;\n",
              "    }\n",
              "\n",
              "    .dataframe tbody tr th {\n",
              "        vertical-align: top;\n",
              "    }\n",
              "\n",
              "    .dataframe thead th {\n",
              "        text-align: right;\n",
              "    }\n",
              "</style>\n",
              "<table border=\"1\" class=\"dataframe\">\n",
              "  <thead>\n",
              "    <tr style=\"text-align: right;\">\n",
              "      <th></th>\n",
              "      <th>mean</th>\n",
              "      <th>std</th>\n",
              "    </tr>\n",
              "  </thead>\n",
              "  <tbody>\n",
              "    <tr>\n",
              "      <th>2022-01-31</th>\n",
              "      <td>-0.252756</td>\n",
              "      <td>0.970751</td>\n",
              "    </tr>\n",
              "    <tr>\n",
              "      <th>2022-02-28</th>\n",
              "      <td>-0.264503</td>\n",
              "      <td>0.943184</td>\n",
              "    </tr>\n",
              "    <tr>\n",
              "      <th>2022-03-31</th>\n",
              "      <td>0.076831</td>\n",
              "      <td>0.940313</td>\n",
              "    </tr>\n",
              "  </tbody>\n",
              "</table>\n",
              "</div>\n",
              "      <button class=\"colab-df-convert\" onclick=\"convertToInteractive('df-08421604-9e85-441a-aad4-069caee4a666')\"\n",
              "              title=\"Convert this dataframe to an interactive table.\"\n",
              "              style=\"display:none;\">\n",
              "        \n",
              "  <svg xmlns=\"http://www.w3.org/2000/svg\" height=\"24px\"viewBox=\"0 0 24 24\"\n",
              "       width=\"24px\">\n",
              "    <path d=\"M0 0h24v24H0V0z\" fill=\"none\"/>\n",
              "    <path d=\"M18.56 5.44l.94 2.06.94-2.06 2.06-.94-2.06-.94-.94-2.06-.94 2.06-2.06.94zm-11 1L8.5 8.5l.94-2.06 2.06-.94-2.06-.94L8.5 2.5l-.94 2.06-2.06.94zm10 10l.94 2.06.94-2.06 2.06-.94-2.06-.94-.94-2.06-.94 2.06-2.06.94z\"/><path d=\"M17.41 7.96l-1.37-1.37c-.4-.4-.92-.59-1.43-.59-.52 0-1.04.2-1.43.59L10.3 9.45l-7.72 7.72c-.78.78-.78 2.05 0 2.83L4 21.41c.39.39.9.59 1.41.59.51 0 1.02-.2 1.41-.59l7.78-7.78 2.81-2.81c.8-.78.8-2.07 0-2.86zM5.41 20L4 18.59l7.72-7.72 1.47 1.35L5.41 20z\"/>\n",
              "  </svg>\n",
              "      </button>\n",
              "      \n",
              "  <style>\n",
              "    .colab-df-container {\n",
              "      display:flex;\n",
              "      flex-wrap:wrap;\n",
              "      gap: 12px;\n",
              "    }\n",
              "\n",
              "    .colab-df-convert {\n",
              "      background-color: #E8F0FE;\n",
              "      border: none;\n",
              "      border-radius: 50%;\n",
              "      cursor: pointer;\n",
              "      display: none;\n",
              "      fill: #1967D2;\n",
              "      height: 32px;\n",
              "      padding: 0 0 0 0;\n",
              "      width: 32px;\n",
              "    }\n",
              "\n",
              "    .colab-df-convert:hover {\n",
              "      background-color: #E2EBFA;\n",
              "      box-shadow: 0px 1px 2px rgba(60, 64, 67, 0.3), 0px 1px 3px 1px rgba(60, 64, 67, 0.15);\n",
              "      fill: #174EA6;\n",
              "    }\n",
              "\n",
              "    [theme=dark] .colab-df-convert {\n",
              "      background-color: #3B4455;\n",
              "      fill: #D2E3FC;\n",
              "    }\n",
              "\n",
              "    [theme=dark] .colab-df-convert:hover {\n",
              "      background-color: #434B5C;\n",
              "      box-shadow: 0px 1px 3px 1px rgba(0, 0, 0, 0.15);\n",
              "      filter: drop-shadow(0px 1px 2px rgba(0, 0, 0, 0.3));\n",
              "      fill: #FFFFFF;\n",
              "    }\n",
              "  </style>\n",
              "\n",
              "      <script>\n",
              "        const buttonEl =\n",
              "          document.querySelector('#df-08421604-9e85-441a-aad4-069caee4a666 button.colab-df-convert');\n",
              "        buttonEl.style.display =\n",
              "          google.colab.kernel.accessAllowed ? 'block' : 'none';\n",
              "\n",
              "        async function convertToInteractive(key) {\n",
              "          const element = document.querySelector('#df-08421604-9e85-441a-aad4-069caee4a666');\n",
              "          const dataTable =\n",
              "            await google.colab.kernel.invokeFunction('convertToInteractive',\n",
              "                                                     [key], {});\n",
              "          if (!dataTable) return;\n",
              "\n",
              "          const docLinkHtml = 'Like what you see? Visit the ' +\n",
              "            '<a target=\"_blank\" href=https://colab.research.google.com/notebooks/data_table.ipynb>data table notebook</a>'\n",
              "            + ' to learn more about interactive tables.';\n",
              "          element.innerHTML = '';\n",
              "          dataTable['output_type'] = 'display_data';\n",
              "          await google.colab.output.renderOutput(dataTable, element);\n",
              "          const docLink = document.createElement('div');\n",
              "          docLink.innerHTML = docLinkHtml;\n",
              "          element.appendChild(docLink);\n",
              "        }\n",
              "      </script>\n",
              "    </div>\n",
              "  </div>\n",
              "  "
            ]
          },
          "metadata": {},
          "execution_count": 74
        }
      ],
      "source": [
        "grp.agg([\"mean\", \"std\"])"
      ]
    },
    {
      "cell_type": "code",
      "source": [
        "grp = tsd_2.resample(\"2M\")"
      ],
      "metadata": {
        "id": "RqfN46no7uF1"
      },
      "execution_count": null,
      "outputs": []
    },
    {
      "cell_type": "code",
      "source": [
        "grp.mean()"
      ],
      "metadata": {
        "colab": {
          "base_uri": "https://localhost:8080/"
        },
        "id": "bsD0HK1p7yHl",
        "outputId": "705300f4-8057-45e5-93b0-80793accdc64"
      },
      "execution_count": null,
      "outputs": [
        {
          "output_type": "execute_result",
          "data": {
            "text/plain": [
              "2022-01-31   -0.252756\n",
              "2022-03-31   -0.085158\n",
              "Freq: 2M, dtype: float64"
            ]
          },
          "metadata": {},
          "execution_count": 77
        }
      ]
    },
    {
      "cell_type": "markdown",
      "metadata": {
        "id": "jVIEu42CxfL2"
      },
      "source": [
        "## dt접근자\n",
        "- datetime 자료형 시리즈에는 dt 접근자존재\n",
        "- datetime 자료형이 가진 몇가지 유용한 속성과 메서드를 사용할"
      ]
    },
    {
      "cell_type": "code",
      "execution_count": null,
      "metadata": {
        "colab": {
          "base_uri": "https://localhost:8080/"
        },
        "id": "_Tz8VnIZxfL2",
        "outputId": "34201d4a-6e3e-4c73-8eaa-ef824e92094c"
      },
      "outputs": [
        {
          "output_type": "execute_result",
          "data": {
            "text/plain": [
              "0      2022년, 01월, 03일\n",
              "1      2022년, 01월, 04일\n",
              "2      2022년, 01월, 05일\n",
              "3      2022년, 01월, 06일\n",
              "4      2022년, 01월, 07일\n",
              "            ...       \n",
              "515    2023년, 12월, 25일\n",
              "516    2023년, 12월, 26일\n",
              "517    2023년, 12월, 27일\n",
              "518    2023년, 12월, 28일\n",
              "519    2023년, 12월, 29일\n",
              "Length: 520, dtype: object"
            ]
          },
          "metadata": {},
          "execution_count": 83
        }
      ],
      "source": [
        "pd.Series(ts.index).dt.strftime(date_format = \"%Y년, %m월, %d일\")"
      ]
    }
  ],
  "metadata": {
    "celltoolbar": "Slideshow",
    "kernelspec": {
      "display_name": "Python 3 (ipykernel)",
      "language": "python",
      "name": "python3"
    },
    "language_info": {
      "codemirror_mode": {
        "name": "ipython",
        "version": 3
      },
      "file_extension": ".py",
      "mimetype": "text/x-python",
      "name": "python",
      "nbconvert_exporter": "python",
      "pygments_lexer": "ipython3",
      "version": "3.9.12"
    },
    "toc": {
      "base_numbering": 1,
      "nav_menu": {},
      "number_sections": false,
      "sideBar": true,
      "skip_h1_title": true,
      "title_cell": "Table of Contents",
      "title_sidebar": "Contents",
      "toc_cell": false,
      "toc_position": {
        "height": "calc(100% - 180px)",
        "left": "10px",
        "top": "150px",
        "width": "384px"
      },
      "toc_section_display": true,
      "toc_window_display": true
    },
    "colab": {
      "name": "day15-time-series.ipynb",
      "provenance": [],
      "collapsed_sections": [],
      "include_colab_link": true
    }
  },
  "nbformat": 4,
  "nbformat_minor": 0
}