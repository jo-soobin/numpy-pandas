{
  "cells": [
    {
      "cell_type": "markdown",
      "metadata": {
        "id": "view-in-github",
        "colab_type": "text"
      },
      "source": [
        "<a href=\"https://colab.research.google.com/github/jo-soobin/numpy-pandas/blob/master/0_Ipynb.ipynb\" target=\"_parent\"><img src=\"https://colab.research.google.com/assets/colab-badge.svg\" alt=\"Open In Colab\"/></a>"
      ]
    },
    {
      "cell_type": "markdown",
      "metadata": {
        "id": "5wQKXKefRYqw"
      },
      "source": [
        "# introspection 인트로스펙션\n",
        "- ? : 객체나 함수일때 정의되어 있는 문서를 출력해준다.\n",
        "- ?? : 가능한경우 함수의 소스 코드도 보여준다."
      ]
    },
    {
      "cell_type": "code",
      "execution_count": null,
      "metadata": {
        "id": "Ix_GiiRMRYq0"
      },
      "outputs": [],
      "source": [
        "a = [1,2,3,4]"
      ]
    },
    {
      "cell_type": "code",
      "execution_count": null,
      "metadata": {
        "scrolled": true,
        "id": "c6qHEcVLRYq1",
        "outputId": "f6d4a8d3-3e4a-42d0-8659-3385ae73f4fd"
      },
      "outputs": [
        {
          "data": {
            "text/plain": [
              "\u001b[1;31mType:\u001b[0m        list\n",
              "\u001b[1;31mString form:\u001b[0m [1, 2, 3, 4]\n",
              "\u001b[1;31mLength:\u001b[0m      4\n",
              "\u001b[1;31mDocstring:\u001b[0m  \n",
              "Built-in mutable sequence.\n",
              "\n",
              "If no argument is given, the constructor creates a new empty list.\n",
              "The argument must be an iterable if specified.\n"
            ]
          },
          "metadata": {},
          "output_type": "display_data"
        }
      ],
      "source": [
        "a?"
      ]
    },
    {
      "cell_type": "code",
      "execution_count": null,
      "metadata": {
        "scrolled": true,
        "id": "Y_CTR5KSRYq2",
        "outputId": "25b48a25-8980-48f5-8ef9-ba0c514822c7"
      },
      "outputs": [
        {
          "data": {
            "text/plain": [
              "\u001b[1;31mDocstring:\u001b[0m\n",
              "print(value, ..., sep=' ', end='\\n', file=sys.stdout, flush=False)\n",
              "\n",
              "Prints the values to a stream, or to sys.stdout by default.\n",
              "Optional keyword arguments:\n",
              "file:  a file-like object (stream); defaults to the current sys.stdout.\n",
              "sep:   string inserted between values, default a space.\n",
              "end:   string appended after the last value, default a newline.\n",
              "flush: whether to forcibly flush the stream.\n",
              "\u001b[1;31mType:\u001b[0m      builtin_function_or_method\n"
            ]
          },
          "metadata": {},
          "output_type": "display_data"
        }
      ],
      "source": [
        "print?"
      ]
    },
    {
      "cell_type": "code",
      "execution_count": null,
      "metadata": {
        "id": "BsWWkYc2RYq3"
      },
      "outputs": [],
      "source": [
        "def func_1(a,b):\n",
        "    return a+b"
      ]
    },
    {
      "cell_type": "code",
      "execution_count": null,
      "metadata": {
        "id": "HhwaKOasRYq3",
        "outputId": "4d2d34a9-22f5-4832-f3e8-54be45b6259c"
      },
      "outputs": [
        {
          "data": {
            "text/plain": [
              "\u001b[1;31mSignature:\u001b[0m \u001b[0mfunc_1\u001b[0m\u001b[1;33m(\u001b[0m\u001b[0ma\u001b[0m\u001b[1;33m,\u001b[0m \u001b[0mb\u001b[0m\u001b[1;33m)\u001b[0m\u001b[1;33m\u001b[0m\u001b[1;33m\u001b[0m\u001b[0m\n",
              "\u001b[1;31mDocstring:\u001b[0m <no docstring>\n",
              "\u001b[1;31mSource:\u001b[0m   \n",
              "\u001b[1;32mdef\u001b[0m \u001b[0mfunc_1\u001b[0m\u001b[1;33m(\u001b[0m\u001b[0ma\u001b[0m\u001b[1;33m,\u001b[0m\u001b[0mb\u001b[0m\u001b[1;33m)\u001b[0m\u001b[1;33m:\u001b[0m\u001b[1;33m\n",
              "\u001b[0m    \u001b[1;32mreturn\u001b[0m \u001b[0ma\u001b[0m\u001b[1;33m+\u001b[0m\u001b[0mb\u001b[0m\u001b[1;33m\u001b[0m\u001b[1;33m\u001b[0m\u001b[0m\n",
              "\u001b[1;31mFile:\u001b[0m      c:\\users\\apollo\\onedrive -\\data\\datasience\\<ipython-input-19-41e494ecc00d>\n",
              "\u001b[1;31mType:\u001b[0m      function\n"
            ]
          },
          "metadata": {},
          "output_type": "display_data"
        }
      ],
      "source": [
        "func_1??"
      ]
    },
    {
      "cell_type": "code",
      "execution_count": null,
      "metadata": {
        "id": "wPMWleeBRYq4",
        "outputId": "6e32a118-1fb8-45d7-8e5c-16e42be596ac"
      },
      "outputs": [
        {
          "data": {
            "text/plain": [
              "\u001b[1;31mDocstring:\u001b[0m\n",
              "print(value, ..., sep=' ', end='\\n', file=sys.stdout, flush=False)\n",
              "\n",
              "Prints the values to a stream, or to sys.stdout by default.\n",
              "Optional keyword arguments:\n",
              "file:  a file-like object (stream); defaults to the current sys.stdout.\n",
              "sep:   string inserted between values, default a space.\n",
              "end:   string appended after the last value, default a newline.\n",
              "flush: whether to forcibly flush the stream.\n",
              "\u001b[1;31mType:\u001b[0m      builtin_function_or_method\n"
            ]
          },
          "metadata": {},
          "output_type": "display_data"
        }
      ],
      "source": [
        "print??"
      ]
    },
    {
      "cell_type": "code",
      "execution_count": null,
      "metadata": {
        "id": "WrJBzJ2URYq4"
      },
      "outputs": [],
      "source": [
        "import numpy as np"
      ]
    },
    {
      "cell_type": "code",
      "execution_count": null,
      "metadata": {
        "id": "XQTWZA-DRYq5",
        "outputId": "a03d8093-a918-4a85-cbe4-cf9c1afd3520"
      },
      "outputs": [
        {
          "data": {
            "text/plain": [
              "np.__loader__\n",
              "np.load\n",
              "np.loads\n",
              "np.loadtxt"
            ]
          },
          "metadata": {},
          "output_type": "display_data"
        }
      ],
      "source": [
        "np.*load*?"
      ]
    },
    {
      "cell_type": "markdown",
      "metadata": {
        "id": "g609mxgGRYq6"
      },
      "source": [
        "# 매직명령어\n",
        "- 파이썬 자체에는 존재하지 않는 '매직'명령어라고 하는 여러 가지 특수한 명령어를 포함하고 있다.\n",
        "- 명령어 앞에 % 기호를 붙여 사용한다.\n",
        "\n",
        "    - %magic : 모든 매직함수에 대한 상세 도움말 출력\n",
        "    - %time *statement* : statement의 단일 실행 시간을 출력\n",
        "    - %timeit *statement* : statement를 여러 차례 실행한 후 평균 실행 시간을 출력, 매우 짧은 시간 안에 끝나는 코드를 측정할때 유용하다.\n",
        "    - %pwd : 현재 위치를 나타낸다.\n",
        "    - %matplotlib : 콘솔세션에 영향받지 않고 띄울수 있게 해준다. (통합되어서 작성하지 않아도 된다.)"
      ]
    },
    {
      "cell_type": "code",
      "execution_count": null,
      "metadata": {
        "id": "jxSQfCl4RYq7",
        "outputId": "e5d0147b-e016-4270-d0a1-c48d7bde962d"
      },
      "outputs": [
        {
          "name": "stdout",
          "output_type": "stream",
          "text": [
            "Wall time: 0 ns\n"
          ]
        },
        {
          "data": {
            "text/plain": [
              "[0, 1, 2, 3, 4, 5, 6, 7, 8, 9]"
            ]
          },
          "execution_count": 42,
          "metadata": {},
          "output_type": "execute_result"
        }
      ],
      "source": [
        "%time [i for i in range(10)]"
      ]
    },
    {
      "cell_type": "code",
      "execution_count": null,
      "metadata": {
        "id": "OZIM7Rz0RYq7",
        "outputId": "5004c05c-a30b-47ee-f3c3-f9bfd23b72e2"
      },
      "outputs": [
        {
          "name": "stdout",
          "output_type": "stream",
          "text": [
            "708 ns ± 1.56 ns per loop (mean ± std. dev. of 7 runs, 1000000 loops each)\n"
          ]
        }
      ],
      "source": [
        "%timeit [i for i in range(10)]"
      ]
    },
    {
      "cell_type": "code",
      "execution_count": null,
      "metadata": {
        "id": "U2b0-aSTRYq8",
        "outputId": "6a77b1bb-8006-4aab-adb0-ddc1391cba8b"
      },
      "outputs": [
        {
          "data": {
            "text/plain": [
              "'C:\\\\Users\\\\apollo\\\\OneDrive -\\\\data\\\\datasience'"
            ]
          },
          "execution_count": 44,
          "metadata": {},
          "output_type": "execute_result"
        }
      ],
      "source": [
        "%pwd"
      ]
    },
    {
      "cell_type": "code",
      "execution_count": null,
      "metadata": {
        "jupyter": {
          "source_hidden": true
        },
        "scrolled": true,
        "id": "JwgEUQ6URYq9"
      },
      "outputs": [],
      "source": [
        "%magic"
      ]
    },
    {
      "cell_type": "markdown",
      "metadata": {
        "id": "Anr-Bh_nRYq9"
      },
      "source": [
        "# 입출력 변수\n",
        "- 함수의 실행 결과를 바로 반영할수 있도록 해준다."
      ]
    },
    {
      "cell_type": "code",
      "execution_count": null,
      "metadata": {
        "id": "leDshBOjRYq9",
        "outputId": "510bdb2d-f3a4-4dfc-d978-da6b1308cf57"
      },
      "outputs": [
        {
          "data": {
            "text/plain": [
              "1048576"
            ]
          },
          "execution_count": 1,
          "metadata": {},
          "output_type": "execute_result"
        }
      ],
      "source": [
        "2**20"
      ]
    },
    {
      "cell_type": "code",
      "execution_count": null,
      "metadata": {
        "id": "wXM8hEd9RYq-",
        "outputId": "7b0a3be2-1ed6-4559-ced1-4e943613ea71"
      },
      "outputs": [
        {
          "data": {
            "text/plain": [
              "1048576"
            ]
          },
          "execution_count": 2,
          "metadata": {},
          "output_type": "execute_result"
        }
      ],
      "source": [
        "_"
      ]
    },
    {
      "cell_type": "code",
      "execution_count": null,
      "metadata": {
        "id": "5RVzf9VQRYq-",
        "outputId": "5d04d4b5-73d5-41dc-9e85-aea83c7163fe"
      },
      "outputs": [
        {
          "data": {
            "text/plain": [
              "1048577"
            ]
          },
          "execution_count": 3,
          "metadata": {},
          "output_type": "execute_result"
        }
      ],
      "source": [
        "_+1"
      ]
    },
    {
      "cell_type": "markdown",
      "metadata": {
        "id": "uuTgBY7rRYq-"
      },
      "source": [
        "# 운영체제 명령어\n",
        "- ! : 명령어를 실행할수 있다.\n",
        "- %env : 시스템 환경변수 출력"
      ]
    },
    {
      "cell_type": "code",
      "execution_count": null,
      "metadata": {
        "id": "5dopB42CRYq-",
        "outputId": "fb06d21a-598e-4c87-c859-5620e907ff77"
      },
      "outputs": [
        {
          "name": "stdout",
          "output_type": "stream",
          "text": [
            " C 드라이브의 볼륨에는 이름이 없습니다.\n",
            " 볼륨 일련 번호: 980D-3F52\n",
            "\n",
            " C:\\Users\\apollo\\OneDrive -\\data\\datasience 디렉터리\n",
            "\n",
            "2020-08-27  오후 04:12    <DIR>          .\n",
            "2020-08-27  오후 04:12    <DIR>          ..\n",
            "2020-08-27  오후 03:52    <DIR>          .ipynb_checkpoints\n",
            "2020-08-27  오전 08:55            82,273 4_numpy.ipynb\n",
            "2020-08-19  오후 05:50    <DIR>          matplotlib\n",
            "2020-08-26  오전 11:40               586 savez_array.npz\n",
            "2020-08-26  오전 11:38               168 save_array.npy\n",
            "2020-08-27  오후 04:12           138,856 Untitled.ipynb\n",
            "               4개 파일             221,883 바이트\n",
            "               4개 디렉터리  159,855,824,896 바이트 남음\n"
          ]
        }
      ],
      "source": [
        "!dir"
      ]
    },
    {
      "cell_type": "code",
      "execution_count": null,
      "metadata": {
        "id": "CavV9VwcRYq_",
        "outputId": "f484353c-0b24-420b-cd26-139b04f31f23"
      },
      "outputs": [
        {
          "name": "stdout",
          "output_type": "stream",
          "text": [
            "\n",
            "Windows IP 구성\n",
            "\n",
            "\n",
            "이더넷 어댑터 이더넷:\n",
            "\n",
            "   연결별 DNS 접미사. . . . : \n",
            "   링크-로컬 IPv6 주소 . . . . : fe80::e933:14ae:cef2:1f5b%14\n",
            "   IPv4 주소 . . . . . . . . . : 192.168.0.4\n",
            "   서브넷 마스크 . . . . . . . : 255.255.255.0\n",
            "   기본 게이트웨이 . . . . . . : 192.168.0.1\n"
          ]
        }
      ],
      "source": [
        "!ipconfig"
      ]
    },
    {
      "cell_type": "code",
      "execution_count": null,
      "metadata": {
        "scrolled": true,
        "id": "bgabvbl8RYq_"
      },
      "outputs": [],
      "source": [
        "%env"
      ]
    },
    {
      "cell_type": "code",
      "execution_count": null,
      "metadata": {
        "id": "9qzJCffZRYq_"
      },
      "outputs": [],
      "source": [
        ""
      ]
    }
  ],
  "metadata": {
    "kernelspec": {
      "display_name": "Python 3",
      "language": "python",
      "name": "python3"
    },
    "language_info": {
      "codemirror_mode": {
        "name": "ipython",
        "version": 3
      },
      "file_extension": ".py",
      "mimetype": "text/x-python",
      "name": "python",
      "nbconvert_exporter": "python",
      "pygments_lexer": "ipython3",
      "version": "3.8.5"
    },
    "colab": {
      "name": "0_Ipynb.ipynb",
      "provenance": [],
      "collapsed_sections": [],
      "include_colab_link": true
    }
  },
  "nbformat": 4,
  "nbformat_minor": 0
}