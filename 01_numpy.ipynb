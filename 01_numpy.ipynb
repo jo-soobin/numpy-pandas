{
  "cells": [
    {
      "cell_type": "markdown",
      "metadata": {
        "id": "view-in-github",
        "colab_type": "text"
      },
      "source": [
        "<a href=\"https://colab.research.google.com/github/jo-soobin/numpy-pandas/blob/master/01_numpy.ipynb\" target=\"_parent\"><img src=\"https://colab.research.google.com/assets/colab-badge.svg\" alt=\"Open In Colab\"/></a>"
      ]
    },
    {
      "cell_type": "code",
      "execution_count": null,
      "id": "d2337600-d7d4-4cd7-975a-6a92bd91f2fd",
      "metadata": {
        "id": "d2337600-d7d4-4cd7-975a-6a92bd91f2fd",
        "outputId": "5343fe55-2351-464b-d932-35f50dfffab2"
      },
      "outputs": [
        {
          "name": "stdout",
          "output_type": "stream",
          "text": [
            "Collecting numpy\n",
            "  Downloading numpy-1.23.1-cp39-cp39-win_amd64.whl (14.7 MB)\n",
            "Installing collected packages: numpy\n",
            "Successfully installed numpy-1.23.1\n"
          ]
        }
      ],
      "source": [
        "!pip install numpy"
      ]
    },
    {
      "cell_type": "code",
      "execution_count": null,
      "id": "4eaeb8e6-3c07-4ceb-a8e4-2062c1badc85",
      "metadata": {
        "id": "4eaeb8e6-3c07-4ceb-a8e4-2062c1badc85"
      },
      "outputs": [],
      "source": [
        "import numpy as np"
      ]
    },
    {
      "cell_type": "code",
      "execution_count": null,
      "id": "f6350d84-8ab4-4db8-ad09-b35af1817f29",
      "metadata": {
        "id": "f6350d84-8ab4-4db8-ad09-b35af1817f29"
      },
      "outputs": [],
      "source": [
        "# array 생성\n",
        "arr_1 = np.arange(1000)"
      ]
    },
    {
      "cell_type": "code",
      "execution_count": null,
      "id": "8f6d0c85-34d4-4a83-a38e-884dbb00e0d9",
      "metadata": {
        "colab": {
          "base_uri": "https://localhost:8080/"
        },
        "id": "8f6d0c85-34d4-4a83-a38e-884dbb00e0d9",
        "outputId": "7b04a307-0f3c-4aa6-91eb-f83ff9d3b160"
      },
      "outputs": [
        {
          "output_type": "execute_result",
          "data": {
            "text/plain": [
              "numpy.ndarray"
            ]
          },
          "metadata": {},
          "execution_count": 3
        }
      ],
      "source": [
        "type(arr_1)"
      ]
    },
    {
      "cell_type": "code",
      "execution_count": null,
      "id": "2f69855e-369c-4aa8-bae7-8db24cb30ebe",
      "metadata": {
        "scrolled": true,
        "tags": [],
        "id": "2f69855e-369c-4aa8-bae7-8db24cb30ebe"
      },
      "outputs": [],
      "source": [
        "arr_1"
      ]
    },
    {
      "cell_type": "code",
      "execution_count": null,
      "id": "62b9af09-1819-4ede-8f4a-68fb18499cc4",
      "metadata": {
        "id": "62b9af09-1819-4ede-8f4a-68fb18499cc4"
      },
      "outputs": [],
      "source": [
        "# array 를 list로 변경 가능\n",
        "arr2list = list(arr_1)"
      ]
    },
    {
      "cell_type": "code",
      "execution_count": null,
      "id": "76c70637-2ae2-45af-9178-901970188ad3",
      "metadata": {
        "colab": {
          "base_uri": "https://localhost:8080/"
        },
        "id": "76c70637-2ae2-45af-9178-901970188ad3",
        "outputId": "ad80957d-0b71-4e0e-ad7c-016b056e86bb"
      },
      "outputs": [
        {
          "output_type": "execute_result",
          "data": {
            "text/plain": [
              "list"
            ]
          },
          "metadata": {},
          "execution_count": 6
        }
      ],
      "source": [
        "type(arr2list)"
      ]
    },
    {
      "cell_type": "code",
      "execution_count": null,
      "id": "a9ee1138-0a16-42a6-b5fb-042b53fb3618",
      "metadata": {
        "id": "a9ee1138-0a16-42a6-b5fb-042b53fb3618"
      },
      "outputs": [],
      "source": [
        "list_2 = [i for i in range(0,50)]"
      ]
    },
    {
      "cell_type": "code",
      "execution_count": null,
      "id": "501eea6e-20c6-42fd-a50c-a5bceb0319ef",
      "metadata": {
        "id": "501eea6e-20c6-42fd-a50c-a5bceb0319ef"
      },
      "outputs": [],
      "source": [
        "arr_2 = np.array(list_2)"
      ]
    },
    {
      "cell_type": "code",
      "execution_count": null,
      "id": "00363deb-9efd-40f8-a207-1d989371b71a",
      "metadata": {
        "colab": {
          "base_uri": "https://localhost:8080/"
        },
        "id": "00363deb-9efd-40f8-a207-1d989371b71a",
        "outputId": "961ff9ce-f935-4a40-ce7e-6a7a28cb30fe"
      },
      "outputs": [
        {
          "output_type": "execute_result",
          "data": {
            "text/plain": [
              "numpy.ndarray"
            ]
          },
          "metadata": {},
          "execution_count": 9
        }
      ],
      "source": [
        "type(arr_2)"
      ]
    },
    {
      "cell_type": "code",
      "execution_count": null,
      "id": "b9418566-83f7-4cd3-997f-5e279dc8ae48",
      "metadata": {
        "id": "b9418566-83f7-4cd3-997f-5e279dc8ae48"
      },
      "outputs": [],
      "source": [
        "list_3 = [\"1\", \"2\", \"3\"]"
      ]
    },
    {
      "cell_type": "code",
      "execution_count": null,
      "id": "5942bec0-2b28-45cb-b220-efa0cc183649",
      "metadata": {
        "id": "5942bec0-2b28-45cb-b220-efa0cc183649"
      },
      "outputs": [],
      "source": [
        "arr_3 = np.array(list_3)"
      ]
    },
    {
      "cell_type": "code",
      "execution_count": null,
      "id": "e1808b22-37b6-486a-8f6f-49e56c606547",
      "metadata": {
        "colab": {
          "base_uri": "https://localhost:8080/"
        },
        "id": "e1808b22-37b6-486a-8f6f-49e56c606547",
        "outputId": "22994b36-3a34-4b38-d108-ebabbee5c59e"
      },
      "outputs": [
        {
          "output_type": "execute_result",
          "data": {
            "text/plain": [
              "array(['1', '2', '3'], dtype='<U1')"
            ]
          },
          "metadata": {},
          "execution_count": 12
        }
      ],
      "source": [
        "arr_3"
      ]
    },
    {
      "cell_type": "code",
      "execution_count": null,
      "id": "54b42696-6774-4b64-8544-7ccef1be66a7",
      "metadata": {
        "colab": {
          "base_uri": "https://localhost:8080/"
        },
        "id": "54b42696-6774-4b64-8544-7ccef1be66a7",
        "outputId": "817703ff-b5ea-4037-a78b-be0b2d30c3d2"
      },
      "outputs": [
        {
          "output_type": "execute_result",
          "data": {
            "text/plain": [
              "array([ 0,  2,  4,  6,  8, 10, 12, 14, 16, 18, 20, 22, 24, 26, 28, 30, 32,\n",
              "       34, 36, 38, 40, 42, 44, 46, 48, 50, 52, 54, 56, 58, 60, 62, 64, 66,\n",
              "       68, 70, 72, 74, 76, 78, 80, 82, 84, 86, 88, 90, 92, 94, 96, 98])"
            ]
          },
          "metadata": {},
          "execution_count": 13
        }
      ],
      "source": [
        "arr_2*2"
      ]
    },
    {
      "cell_type": "code",
      "execution_count": null,
      "id": "cf9a0db9-356a-4461-a354-ae59bcbae74a",
      "metadata": {
        "colab": {
          "base_uri": "https://localhost:8080/",
          "height": 192
        },
        "id": "cf9a0db9-356a-4461-a354-ae59bcbae74a",
        "outputId": "affadd3d-d442-4860-91d3-eed474e6dc77"
      },
      "outputs": [
        {
          "output_type": "error",
          "ename": "UFuncTypeError",
          "evalue": "ignored",
          "traceback": [
            "\u001b[0;31m---------------------------------------------------------------------------\u001b[0m",
            "\u001b[0;31mUFuncTypeError\u001b[0m                            Traceback (most recent call last)",
            "\u001b[0;32m<ipython-input-14-07995db66499>\u001b[0m in \u001b[0;36m<module>\u001b[0;34m()\u001b[0m\n\u001b[1;32m      1\u001b[0m \u001b[0;31m# 문자가 섞여있으면 연산이 동작하지 않는다.\u001b[0m\u001b[0;34m\u001b[0m\u001b[0;34m\u001b[0m\u001b[0;34m\u001b[0m\u001b[0m\n\u001b[0;32m----> 2\u001b[0;31m \u001b[0marr_3\u001b[0m\u001b[0;34m+\u001b[0m\u001b[0;36m2\u001b[0m\u001b[0;34m\u001b[0m\u001b[0;34m\u001b[0m\u001b[0m\n\u001b[0m",
            "\u001b[0;31mUFuncTypeError\u001b[0m: ufunc 'add' did not contain a loop with signature matching types (dtype('<U1'), dtype('int64')) -> None"
          ]
        }
      ],
      "source": [
        "# 문자가 섞여있으면 연산이 동작하지 않는다. \n",
        "arr_3+2"
      ]
    },
    {
      "cell_type": "code",
      "execution_count": null,
      "id": "b46979f5-ba14-4705-9051-30c39b0bb693",
      "metadata": {
        "id": "b46979f5-ba14-4705-9051-30c39b0bb693"
      },
      "outputs": [],
      "source": [
        "my_arr = np.arange(1000000)"
      ]
    },
    {
      "cell_type": "code",
      "execution_count": null,
      "id": "c66adec5-8196-4646-9d56-603c15b1f1ae",
      "metadata": {
        "id": "c66adec5-8196-4646-9d56-603c15b1f1ae"
      },
      "outputs": [],
      "source": [
        "my_list = list(np.arange(1000000))"
      ]
    },
    {
      "cell_type": "code",
      "execution_count": null,
      "id": "1aadadd8-111c-444c-9dde-03295ce998e3",
      "metadata": {
        "colab": {
          "base_uri": "https://localhost:8080/"
        },
        "id": "1aadadd8-111c-444c-9dde-03295ce998e3",
        "outputId": "9365ba30-2acb-4f08-b340-a8d9500012e0"
      },
      "outputs": [
        {
          "output_type": "stream",
          "name": "stdout",
          "text": [
            "CPU times: user 104 ms, sys: 9.99 ms, total: 114 ms\n",
            "Wall time: 116 ms\n"
          ]
        }
      ],
      "source": [
        "%time for _ in range(100): my_arr2 = my_arr*2"
      ]
    },
    {
      "cell_type": "code",
      "execution_count": null,
      "id": "b7118ef1-bb87-4767-8dc8-6ae1974475e4",
      "metadata": {
        "colab": {
          "base_uri": "https://localhost:8080/"
        },
        "id": "b7118ef1-bb87-4767-8dc8-6ae1974475e4",
        "outputId": "a09bf07b-4611-4a28-8810-69e9d8482ba9"
      },
      "outputs": [
        {
          "output_type": "stream",
          "name": "stdout",
          "text": [
            "CPU times: user 21.2 s, sys: 1.48 s, total: 22.6 s\n",
            "Wall time: 22.9 s\n"
          ]
        }
      ],
      "source": [
        "%time for _ in range(100): my_list2 = [ i*2 for i in my_list ]"
      ]
    },
    {
      "cell_type": "code",
      "execution_count": null,
      "id": "6c5aa414-898d-43c8-bfd6-919d34cd43f5",
      "metadata": {
        "id": "6c5aa414-898d-43c8-bfd6-919d34cd43f5"
      },
      "outputs": [],
      "source": [
        "\n",
        "# m2 16 512 -> 200\n",
        "# m1pro 16 512 -> 230"
      ]
    },
    {
      "cell_type": "code",
      "source": [
        "# array 생성\n",
        "data_1 = [6,7,8,9,2]"
      ],
      "metadata": {
        "id": "Zo51bF2ebbhs"
      },
      "id": "Zo51bF2ebbhs",
      "execution_count": null,
      "outputs": []
    },
    {
      "cell_type": "code",
      "source": [
        "type(data_1)"
      ],
      "metadata": {
        "colab": {
          "base_uri": "https://localhost:8080/"
        },
        "id": "3UUuERWJbkdR",
        "outputId": "b48a1e78-da9a-4ad1-b10f-fe4428e04bdc"
      },
      "id": "3UUuERWJbkdR",
      "execution_count": null,
      "outputs": [
        {
          "output_type": "execute_result",
          "data": {
            "text/plain": [
              "list"
            ]
          },
          "metadata": {},
          "execution_count": 42
        }
      ]
    },
    {
      "cell_type": "code",
      "source": [
        "arr_1 = np.array(data_1)"
      ],
      "metadata": {
        "id": "0YeKxvuubnOs"
      },
      "id": "0YeKxvuubnOs",
      "execution_count": null,
      "outputs": []
    },
    {
      "cell_type": "code",
      "source": [
        "arr_1.ndim"
      ],
      "metadata": {
        "colab": {
          "base_uri": "https://localhost:8080/"
        },
        "id": "w8Ll-EcLbt3Z",
        "outputId": "1503c1ca-da26-49db-d7c6-1484365962b0"
      },
      "id": "w8Ll-EcLbt3Z",
      "execution_count": null,
      "outputs": [
        {
          "output_type": "execute_result",
          "data": {
            "text/plain": [
              "1"
            ]
          },
          "metadata": {},
          "execution_count": 44
        }
      ]
    },
    {
      "cell_type": "code",
      "source": [
        "data_2 = [1,2]"
      ],
      "metadata": {
        "id": "753UoMqhbvMs"
      },
      "id": "753UoMqhbvMs",
      "execution_count": null,
      "outputs": []
    },
    {
      "cell_type": "code",
      "source": [
        "arr_2 = np.array(data_2)"
      ],
      "metadata": {
        "id": "Ee2k_pKqb-2P"
      },
      "id": "Ee2k_pKqb-2P",
      "execution_count": null,
      "outputs": []
    },
    {
      "cell_type": "code",
      "source": [
        "arr_2#vector"
      ],
      "metadata": {
        "colab": {
          "base_uri": "https://localhost:8080/"
        },
        "id": "pFOefgR1cEEa",
        "outputId": "fffa5e58-ab90-4e57-8207-8e0245e6bd47"
      },
      "id": "pFOefgR1cEEa",
      "execution_count": null,
      "outputs": [
        {
          "output_type": "execute_result",
          "data": {
            "text/plain": [
              "array([1, 2])"
            ]
          },
          "metadata": {},
          "execution_count": 47
        }
      ]
    },
    {
      "cell_type": "code",
      "source": [
        "arr_2.ndim"
      ],
      "metadata": {
        "colab": {
          "base_uri": "https://localhost:8080/"
        },
        "id": "vAjzaFMlcYL3",
        "outputId": "f7cb5857-f4ce-4c99-ea84-35d2712c4205"
      },
      "id": "vAjzaFMlcYL3",
      "execution_count": null,
      "outputs": [
        {
          "output_type": "execute_result",
          "data": {
            "text/plain": [
              "1"
            ]
          },
          "metadata": {},
          "execution_count": 48
        }
      ]
    },
    {
      "cell_type": "code",
      "source": [
        "data_3 = [1,2,3]"
      ],
      "metadata": {
        "id": "FAhAB4xhcGNE"
      },
      "id": "FAhAB4xhcGNE",
      "execution_count": null,
      "outputs": []
    },
    {
      "cell_type": "code",
      "source": [
        "arr_3 = np.array(data_3)"
      ],
      "metadata": {
        "id": "LDOZrfRscRUa"
      },
      "id": "LDOZrfRscRUa",
      "execution_count": null,
      "outputs": []
    },
    {
      "cell_type": "code",
      "source": [
        "arr_3.ndim"
      ],
      "metadata": {
        "colab": {
          "base_uri": "https://localhost:8080/"
        },
        "id": "JOHFHKFWcTFn",
        "outputId": "26397f7c-f2fd-4edb-9563-cd88b4d57516"
      },
      "id": "JOHFHKFWcTFn",
      "execution_count": null,
      "outputs": [
        {
          "output_type": "execute_result",
          "data": {
            "text/plain": [
              "1"
            ]
          },
          "metadata": {},
          "execution_count": 51
        }
      ]
    },
    {
      "cell_type": "code",
      "source": [
        "data_4 = [4,5,6]"
      ],
      "metadata": {
        "id": "CFljW7WHcUAr"
      },
      "id": "CFljW7WHcUAr",
      "execution_count": null,
      "outputs": []
    },
    {
      "cell_type": "code",
      "source": [
        "arr_4 = np.array(data_4)"
      ],
      "metadata": {
        "id": "NKdpgThlc0E6"
      },
      "id": "NKdpgThlc0E6",
      "execution_count": null,
      "outputs": []
    },
    {
      "cell_type": "code",
      "source": [
        "data_5 = [data_3, data_4]"
      ],
      "metadata": {
        "id": "tfoMm-lOc25Y"
      },
      "id": "tfoMm-lOc25Y",
      "execution_count": null,
      "outputs": []
    },
    {
      "cell_type": "code",
      "source": [
        "arr_5 = np.array(data_5)"
      ],
      "metadata": {
        "id": "V4Hlcm_sc-hX"
      },
      "id": "V4Hlcm_sc-hX",
      "execution_count": null,
      "outputs": []
    },
    {
      "cell_type": "code",
      "source": [
        "arr_5#matrix"
      ],
      "metadata": {
        "colab": {
          "base_uri": "https://localhost:8080/"
        },
        "id": "h2X47eMAdBwy",
        "outputId": "0acb0075-6dbd-4464-a76b-ea64974d04a4"
      },
      "id": "h2X47eMAdBwy",
      "execution_count": null,
      "outputs": [
        {
          "output_type": "execute_result",
          "data": {
            "text/plain": [
              "array([[1, 2, 3],\n",
              "       [4, 5, 6]])"
            ]
          },
          "metadata": {},
          "execution_count": 56
        }
      ]
    },
    {
      "cell_type": "code",
      "source": [
        "arr_5.ndim"
      ],
      "metadata": {
        "colab": {
          "base_uri": "https://localhost:8080/"
        },
        "id": "H9ywwk8-dC-I",
        "outputId": "4955c47b-562f-43e2-d7ac-bd51b6d727ec"
      },
      "id": "H9ywwk8-dC-I",
      "execution_count": null,
      "outputs": [
        {
          "output_type": "execute_result",
          "data": {
            "text/plain": [
              "2"
            ]
          },
          "metadata": {},
          "execution_count": 57
        }
      ]
    },
    {
      "cell_type": "code",
      "source": [
        "data_6 = [[[1, 2, 3],[4, 5, 6]],[[7, 8, 9],[10, 11, 12]]]"
      ],
      "metadata": {
        "id": "ygx9QPxZdLRQ"
      },
      "id": "ygx9QPxZdLRQ",
      "execution_count": null,
      "outputs": []
    },
    {
      "cell_type": "code",
      "source": [
        "arr_6 = np.array(data_6)"
      ],
      "metadata": {
        "id": "80c5NobAdtWn"
      },
      "id": "80c5NobAdtWn",
      "execution_count": null,
      "outputs": []
    },
    {
      "cell_type": "code",
      "source": [
        "arr_6.ndim"
      ],
      "metadata": {
        "colab": {
          "base_uri": "https://localhost:8080/"
        },
        "id": "p1icH6p0dw0J",
        "outputId": "f3c1cb4d-2c79-494f-ac3a-5376bd20abc2"
      },
      "id": "p1icH6p0dw0J",
      "execution_count": null,
      "outputs": [
        {
          "output_type": "execute_result",
          "data": {
            "text/plain": [
              "3"
            ]
          },
          "metadata": {},
          "execution_count": 61
        }
      ]
    },
    {
      "cell_type": "code",
      "source": [
        "arr_6"
      ],
      "metadata": {
        "colab": {
          "base_uri": "https://localhost:8080/"
        },
        "id": "S-h1H52qdx-Z",
        "outputId": "24aeb4bf-c29b-4b46-df25-cfc081a24777"
      },
      "id": "S-h1H52qdx-Z",
      "execution_count": null,
      "outputs": [
        {
          "output_type": "execute_result",
          "data": {
            "text/plain": [
              "array([[[ 1,  2,  3],\n",
              "        [ 4,  5,  6]],\n",
              "\n",
              "       [[ 7,  8,  9],\n",
              "        [10, 11, 12]]])"
            ]
          },
          "metadata": {},
          "execution_count": 62
        }
      ]
    },
    {
      "cell_type": "code",
      "source": [
        "# 참고\n",
        "# np.mat 이라는 함수를 통해 matrix 를 생성할수 있지만 생성하지 않는다. "
      ],
      "metadata": {
        "id": "0rDI4ZBZd3lP"
      },
      "id": "0rDI4ZBZd3lP",
      "execution_count": null,
      "outputs": []
    },
    {
      "cell_type": "code",
      "source": [
        "# 빈 리스트 = []\n",
        "# 숫자 초기화 = 0 또는 1로 초기화\n",
        "# np.random.randn # 추정이나 예측하기 위해서 초기값으로 지정할때 "
      ],
      "metadata": {
        "id": "7gDHggWigUQN"
      },
      "id": "7gDHggWigUQN",
      "execution_count": null,
      "outputs": []
    },
    {
      "cell_type": "code",
      "source": [
        "np.random.randn(1,5)"
      ],
      "metadata": {
        "colab": {
          "base_uri": "https://localhost:8080/"
        },
        "id": "0Vn26iM1gBF8",
        "outputId": "b3e3f554-f62e-419d-a163-1ab9e0c587e3"
      },
      "id": "0Vn26iM1gBF8",
      "execution_count": null,
      "outputs": [
        {
          "output_type": "execute_result",
          "data": {
            "text/plain": [
              "array([[-0.09891324,  1.96457828, -0.65821774, -0.93266402,  0.09961043]])"
            ]
          },
          "metadata": {},
          "execution_count": 65
        }
      ]
    },
    {
      "cell_type": "code",
      "source": [
        "np.random.randn(3,5)"
      ],
      "metadata": {
        "colab": {
          "base_uri": "https://localhost:8080/"
        },
        "id": "RKMoQVYhgAr_",
        "outputId": "5b3eda03-9fad-4a89-c901-8b2b9d5e9bfe"
      },
      "id": "RKMoQVYhgAr_",
      "execution_count": null,
      "outputs": [
        {
          "output_type": "execute_result",
          "data": {
            "text/plain": [
              "array([[-0.09359006, -0.92660472, -1.42632909,  0.49077081,  0.30770944],\n",
              "       [-1.30468568, -0.34691446,  1.7737476 , -0.11729096, -0.33714811],\n",
              "       [ 0.46342275,  1.58187564, -1.55272664, -1.07910541,  2.13808451]])"
            ]
          },
          "metadata": {},
          "execution_count": 66
        }
      ]
    },
    {
      "cell_type": "code",
      "source": [
        "np.random.randn(3,5,6)"
      ],
      "metadata": {
        "colab": {
          "base_uri": "https://localhost:8080/"
        },
        "id": "ygIZy5CTgPdw",
        "outputId": "87c4bf7c-a710-443d-9758-67f444c09391"
      },
      "id": "ygIZy5CTgPdw",
      "execution_count": null,
      "outputs": [
        {
          "output_type": "execute_result",
          "data": {
            "text/plain": [
              "array([[[ 1.81946064, -0.09427805,  0.11148846,  0.94018138,\n",
              "         -0.93928009,  0.94655672],\n",
              "        [-0.80307792, -0.22713486,  0.28915325,  1.71146385,\n",
              "         -1.12661058,  0.04841711],\n",
              "        [-1.72744916, -1.01852592,  0.74616429,  0.22652579,\n",
              "         -0.05351721,  1.52918561],\n",
              "        [ 0.41315363, -1.55127071,  0.18117266, -0.40142457,\n",
              "         -0.18166324, -0.10458889],\n",
              "        [ 1.80138067, -0.15736433,  0.71089323, -1.32552522,\n",
              "          1.57774828,  1.42143728]],\n",
              "\n",
              "       [[ 1.19745332, -2.01504848,  0.6871091 ,  1.75057598,\n",
              "         -1.55935626,  1.20665632],\n",
              "        [-0.24772063, -0.17537527, -1.04310001,  0.94770618,\n",
              "         -0.47306092, -0.49230868],\n",
              "        [ 1.02468446,  2.58114683,  0.2320607 ,  0.71138204,\n",
              "          0.02572049, -0.28086979],\n",
              "        [ 0.72401734,  0.42836059,  0.57171749, -0.01509086,\n",
              "         -0.42553183,  0.80471468],\n",
              "        [-1.57823864, -0.22102428, -0.29232489, -0.57197782,\n",
              "          0.25096409,  0.03849466]],\n",
              "\n",
              "       [[ 1.74565978,  1.22892396, -0.0560545 , -0.44926642,\n",
              "         -0.08398141,  0.44006293],\n",
              "        [ 0.1058461 ,  0.70283328, -0.03525478,  0.01745326,\n",
              "         -0.88060223,  0.59348426],\n",
              "        [-0.25166958, -0.9566538 , -0.38561807,  0.22100854,\n",
              "         -0.20576371,  1.17951787],\n",
              "        [ 1.11969561, -1.38857666,  0.49540376,  0.87052846,\n",
              "          1.14346971, -0.73095414],\n",
              "        [ 0.30697902,  1.92500881, -0.35640785,  0.97559108,\n",
              "          0.1393858 , -1.05905189]]])"
            ]
          },
          "metadata": {},
          "execution_count": 67
        }
      ]
    },
    {
      "cell_type": "code",
      "source": [
        "arr_7 = np.zeros(10)"
      ],
      "metadata": {
        "id": "Qt2IrhJ-hI-0"
      },
      "id": "Qt2IrhJ-hI-0",
      "execution_count": null,
      "outputs": []
    },
    {
      "cell_type": "code",
      "source": [
        "arr_7"
      ],
      "metadata": {
        "colab": {
          "base_uri": "https://localhost:8080/"
        },
        "id": "TK1MaMdthN4p",
        "outputId": "9edba8f7-5b0f-4489-a97f-d4739ff31f5d"
      },
      "id": "TK1MaMdthN4p",
      "execution_count": null,
      "outputs": [
        {
          "output_type": "execute_result",
          "data": {
            "text/plain": [
              "array([0., 0., 0., 0., 0., 0., 0., 0., 0., 0.])"
            ]
          },
          "metadata": {},
          "execution_count": 74
        }
      ]
    },
    {
      "cell_type": "code",
      "source": [
        "arr_8 = np.zeros((10,10))"
      ],
      "metadata": {
        "id": "Zu1OjD8vhRV7"
      },
      "id": "Zu1OjD8vhRV7",
      "execution_count": null,
      "outputs": []
    },
    {
      "cell_type": "code",
      "source": [
        "arr_8 # 10x10인 값이 0으로 채워진 행렬이 생성된다."
      ],
      "metadata": {
        "colab": {
          "base_uri": "https://localhost:8080/"
        },
        "id": "fl_4nv81hYhi",
        "outputId": "03d36ccc-0688-433a-f9c2-f5f7f3f04d7b"
      },
      "id": "fl_4nv81hYhi",
      "execution_count": null,
      "outputs": [
        {
          "output_type": "execute_result",
          "data": {
            "text/plain": [
              "array([[0., 0., 0., 0., 0., 0., 0., 0., 0., 0.],\n",
              "       [0., 0., 0., 0., 0., 0., 0., 0., 0., 0.],\n",
              "       [0., 0., 0., 0., 0., 0., 0., 0., 0., 0.],\n",
              "       [0., 0., 0., 0., 0., 0., 0., 0., 0., 0.],\n",
              "       [0., 0., 0., 0., 0., 0., 0., 0., 0., 0.],\n",
              "       [0., 0., 0., 0., 0., 0., 0., 0., 0., 0.],\n",
              "       [0., 0., 0., 0., 0., 0., 0., 0., 0., 0.],\n",
              "       [0., 0., 0., 0., 0., 0., 0., 0., 0., 0.],\n",
              "       [0., 0., 0., 0., 0., 0., 0., 0., 0., 0.],\n",
              "       [0., 0., 0., 0., 0., 0., 0., 0., 0., 0.]])"
            ]
          },
          "metadata": {},
          "execution_count": 77
        }
      ]
    },
    {
      "cell_type": "code",
      "source": [
        "arr_9 = np.zeros((10,10,3))"
      ],
      "metadata": {
        "id": "gXk7cvfChepL"
      },
      "id": "gXk7cvfChepL",
      "execution_count": null,
      "outputs": []
    },
    {
      "cell_type": "code",
      "source": [
        "arr_9"
      ],
      "metadata": {
        "colab": {
          "base_uri": "https://localhost:8080/"
        },
        "id": "ym98PqIfhhzN",
        "outputId": "2970bef1-9a20-4798-ff4c-71dfc7f81459"
      },
      "id": "ym98PqIfhhzN",
      "execution_count": null,
      "outputs": [
        {
          "output_type": "execute_result",
          "data": {
            "text/plain": [
              "array([[[0., 0., 0.],\n",
              "        [0., 0., 0.],\n",
              "        [0., 0., 0.],\n",
              "        [0., 0., 0.],\n",
              "        [0., 0., 0.],\n",
              "        [0., 0., 0.],\n",
              "        [0., 0., 0.],\n",
              "        [0., 0., 0.],\n",
              "        [0., 0., 0.],\n",
              "        [0., 0., 0.]],\n",
              "\n",
              "       [[0., 0., 0.],\n",
              "        [0., 0., 0.],\n",
              "        [0., 0., 0.],\n",
              "        [0., 0., 0.],\n",
              "        [0., 0., 0.],\n",
              "        [0., 0., 0.],\n",
              "        [0., 0., 0.],\n",
              "        [0., 0., 0.],\n",
              "        [0., 0., 0.],\n",
              "        [0., 0., 0.]],\n",
              "\n",
              "       [[0., 0., 0.],\n",
              "        [0., 0., 0.],\n",
              "        [0., 0., 0.],\n",
              "        [0., 0., 0.],\n",
              "        [0., 0., 0.],\n",
              "        [0., 0., 0.],\n",
              "        [0., 0., 0.],\n",
              "        [0., 0., 0.],\n",
              "        [0., 0., 0.],\n",
              "        [0., 0., 0.]],\n",
              "\n",
              "       [[0., 0., 0.],\n",
              "        [0., 0., 0.],\n",
              "        [0., 0., 0.],\n",
              "        [0., 0., 0.],\n",
              "        [0., 0., 0.],\n",
              "        [0., 0., 0.],\n",
              "        [0., 0., 0.],\n",
              "        [0., 0., 0.],\n",
              "        [0., 0., 0.],\n",
              "        [0., 0., 0.]],\n",
              "\n",
              "       [[0., 0., 0.],\n",
              "        [0., 0., 0.],\n",
              "        [0., 0., 0.],\n",
              "        [0., 0., 0.],\n",
              "        [0., 0., 0.],\n",
              "        [0., 0., 0.],\n",
              "        [0., 0., 0.],\n",
              "        [0., 0., 0.],\n",
              "        [0., 0., 0.],\n",
              "        [0., 0., 0.]],\n",
              "\n",
              "       [[0., 0., 0.],\n",
              "        [0., 0., 0.],\n",
              "        [0., 0., 0.],\n",
              "        [0., 0., 0.],\n",
              "        [0., 0., 0.],\n",
              "        [0., 0., 0.],\n",
              "        [0., 0., 0.],\n",
              "        [0., 0., 0.],\n",
              "        [0., 0., 0.],\n",
              "        [0., 0., 0.]],\n",
              "\n",
              "       [[0., 0., 0.],\n",
              "        [0., 0., 0.],\n",
              "        [0., 0., 0.],\n",
              "        [0., 0., 0.],\n",
              "        [0., 0., 0.],\n",
              "        [0., 0., 0.],\n",
              "        [0., 0., 0.],\n",
              "        [0., 0., 0.],\n",
              "        [0., 0., 0.],\n",
              "        [0., 0., 0.]],\n",
              "\n",
              "       [[0., 0., 0.],\n",
              "        [0., 0., 0.],\n",
              "        [0., 0., 0.],\n",
              "        [0., 0., 0.],\n",
              "        [0., 0., 0.],\n",
              "        [0., 0., 0.],\n",
              "        [0., 0., 0.],\n",
              "        [0., 0., 0.],\n",
              "        [0., 0., 0.],\n",
              "        [0., 0., 0.]],\n",
              "\n",
              "       [[0., 0., 0.],\n",
              "        [0., 0., 0.],\n",
              "        [0., 0., 0.],\n",
              "        [0., 0., 0.],\n",
              "        [0., 0., 0.],\n",
              "        [0., 0., 0.],\n",
              "        [0., 0., 0.],\n",
              "        [0., 0., 0.],\n",
              "        [0., 0., 0.],\n",
              "        [0., 0., 0.]],\n",
              "\n",
              "       [[0., 0., 0.],\n",
              "        [0., 0., 0.],\n",
              "        [0., 0., 0.],\n",
              "        [0., 0., 0.],\n",
              "        [0., 0., 0.],\n",
              "        [0., 0., 0.],\n",
              "        [0., 0., 0.],\n",
              "        [0., 0., 0.],\n",
              "        [0., 0., 0.],\n",
              "        [0., 0., 0.]]])"
            ]
          },
          "metadata": {},
          "execution_count": 80
        }
      ]
    },
    {
      "cell_type": "code",
      "source": [
        "arr_9.shape"
      ],
      "metadata": {
        "colab": {
          "base_uri": "https://localhost:8080/"
        },
        "id": "sPXq_zTahp1c",
        "outputId": "1a916edc-71d5-4fd7-a0a5-57d64852138c"
      },
      "id": "sPXq_zTahp1c",
      "execution_count": null,
      "outputs": [
        {
          "output_type": "execute_result",
          "data": {
            "text/plain": [
              "(10, 10, 3)"
            ]
          },
          "metadata": {},
          "execution_count": 81
        }
      ]
    },
    {
      "cell_type": "code",
      "source": [
        "arr_7.shape"
      ],
      "metadata": {
        "colab": {
          "base_uri": "https://localhost:8080/"
        },
        "id": "xLrj2WQchpeO",
        "outputId": "345cd8de-0e4d-4ff1-bd99-cb81e39b689a"
      },
      "id": "xLrj2WQchpeO",
      "execution_count": null,
      "outputs": [
        {
          "output_type": "execute_result",
          "data": {
            "text/plain": [
              "(10,)"
            ]
          },
          "metadata": {},
          "execution_count": 83
        }
      ]
    },
    {
      "cell_type": "code",
      "source": [
        "arr_6.shape"
      ],
      "metadata": {
        "colab": {
          "base_uri": "https://localhost:8080/"
        },
        "id": "3yRpIyXUhwZc",
        "outputId": "3f54358a-2f54-4618-f5e7-1edda7c30f18"
      },
      "id": "3yRpIyXUhwZc",
      "execution_count": null,
      "outputs": [
        {
          "output_type": "execute_result",
          "data": {
            "text/plain": [
              "(2, 2, 3)"
            ]
          },
          "metadata": {},
          "execution_count": 84
        }
      ]
    },
    {
      "cell_type": "code",
      "source": [
        "arr_10 = np.empty((3,4))"
      ],
      "metadata": {
        "id": "ngpD-eaLh7xq"
      },
      "id": "ngpD-eaLh7xq",
      "execution_count": null,
      "outputs": []
    },
    {
      "cell_type": "code",
      "source": [
        "arr_11 = np.empty((3,5))"
      ],
      "metadata": {
        "id": "t599ADcml6h1"
      },
      "id": "t599ADcml6h1",
      "execution_count": null,
      "outputs": []
    },
    {
      "cell_type": "code",
      "source": [
        "arr_10"
      ],
      "metadata": {
        "colab": {
          "base_uri": "https://localhost:8080/"
        },
        "id": "6dujcE3SmECC",
        "outputId": "64143df1-4a74-4040-cedc-9df83c0957d1"
      },
      "id": "6dujcE3SmECC",
      "execution_count": null,
      "outputs": [
        {
          "output_type": "execute_result",
          "data": {
            "text/plain": [
              "array([[4.67136618e-316, 0.00000000e+000, 7.92975362e-321,\n",
              "        2.65179261e-316],\n",
              "       [6.91196642e-310, 2.65179222e-316, 6.91196642e-310,\n",
              "        6.91196642e-310],\n",
              "       [0.00000000e+000, 9.88131292e-324, 2.38828544e-314,\n",
              "        3.12237178e-120]])"
            ]
          },
          "metadata": {},
          "execution_count": 93
        }
      ]
    },
    {
      "cell_type": "code",
      "source": [
        "arr_11"
      ],
      "metadata": {
        "colab": {
          "base_uri": "https://localhost:8080/"
        },
        "id": "ndYTle2nmKPy",
        "outputId": "f56b3cd7-1300-4923-c208-cb43f3487ae0"
      },
      "id": "ndYTle2nmKPy",
      "execution_count": null,
      "outputs": [
        {
          "output_type": "execute_result",
          "data": {
            "text/plain": [
              "array([[0.09359006, 0.92660472, 1.42632909, 0.49077081, 0.30770944],\n",
              "       [1.30468568, 0.34691446, 1.7737476 , 0.11729096, 0.33714811],\n",
              "       [0.46342275, 1.58187564, 1.55272664, 1.07910541, 2.13808451]])"
            ]
          },
          "metadata": {},
          "execution_count": 94
        }
      ]
    },
    {
      "cell_type": "code",
      "source": [
        "np.full((3,4), 0)"
      ],
      "metadata": {
        "colab": {
          "base_uri": "https://localhost:8080/"
        },
        "id": "ni77oONemK8F",
        "outputId": "0fe0b75c-39a9-4511-bf05-e62718e48041"
      },
      "id": "ni77oONemK8F",
      "execution_count": null,
      "outputs": [
        {
          "output_type": "execute_result",
          "data": {
            "text/plain": [
              "array([[0, 0, 0, 0],\n",
              "       [0, 0, 0, 0],\n",
              "       [0, 0, 0, 0]])"
            ]
          },
          "metadata": {},
          "execution_count": 95
        }
      ]
    },
    {
      "cell_type": "code",
      "source": [
        "np.full((3,4), 1)"
      ],
      "metadata": {
        "colab": {
          "base_uri": "https://localhost:8080/"
        },
        "id": "Ci6DI0l0md3I",
        "outputId": "bc95fcb3-ebcc-4871-ebea-64a83b471fd2"
      },
      "id": "Ci6DI0l0md3I",
      "execution_count": null,
      "outputs": [
        {
          "output_type": "execute_result",
          "data": {
            "text/plain": [
              "array([[1, 1, 1, 1],\n",
              "       [1, 1, 1, 1],\n",
              "       [1, 1, 1, 1]])"
            ]
          },
          "metadata": {},
          "execution_count": 96
        }
      ]
    },
    {
      "cell_type": "code",
      "source": [
        "np.full((3,4), 2)"
      ],
      "metadata": {
        "colab": {
          "base_uri": "https://localhost:8080/"
        },
        "id": "U06kII7WmfKW",
        "outputId": "ec8a1e3e-8d0f-4091-a463-a029c821e106"
      },
      "id": "U06kII7WmfKW",
      "execution_count": null,
      "outputs": [
        {
          "output_type": "execute_result",
          "data": {
            "text/plain": [
              "array([[2, 2, 2, 2],\n",
              "       [2, 2, 2, 2],\n",
              "       [2, 2, 2, 2]])"
            ]
          },
          "metadata": {},
          "execution_count": 97
        }
      ]
    },
    {
      "cell_type": "code",
      "source": [
        "# numpy 배열의 산술 연산\n",
        "# numpy 배열은 반복문을 작성하지 않고 데이터를 일괄 처리할수 있다.\n",
        "# 이를 벡터화 기능이라고 한다."
      ],
      "metadata": {
        "id": "Ep5E6zyhmhJp"
      },
      "id": "Ep5E6zyhmhJp",
      "execution_count": null,
      "outputs": []
    },
    {
      "cell_type": "code",
      "source": [
        "arr_1 = np.array([[1,2,3],[4,5,6]])"
      ],
      "metadata": {
        "id": "gzcNQIXLm6ZM"
      },
      "id": "gzcNQIXLm6ZM",
      "execution_count": null,
      "outputs": []
    },
    {
      "cell_type": "code",
      "source": [
        "# 요소곱\n",
        "arr_1 * arr_1"
      ],
      "metadata": {
        "colab": {
          "base_uri": "https://localhost:8080/"
        },
        "id": "jCTY6ilFnA8g",
        "outputId": "158849d5-33b3-4093-97ce-4db78bcd37b7"
      },
      "id": "jCTY6ilFnA8g",
      "execution_count": null,
      "outputs": [
        {
          "output_type": "execute_result",
          "data": {
            "text/plain": [
              "array([[ 1,  4,  9],\n",
              "       [16, 25, 36]])"
            ]
          },
          "metadata": {},
          "execution_count": 100
        }
      ]
    },
    {
      "cell_type": "code",
      "source": [
        "# 덧셈, 뺄셈\n",
        "arr_1 + arr_1"
      ],
      "metadata": {
        "colab": {
          "base_uri": "https://localhost:8080/"
        },
        "id": "Gpmk8W6BnGF0",
        "outputId": "9bd2da9e-f076-443c-8279-76fe6d37fd20"
      },
      "id": "Gpmk8W6BnGF0",
      "execution_count": null,
      "outputs": [
        {
          "output_type": "execute_result",
          "data": {
            "text/plain": [
              "array([[ 2,  4,  6],\n",
              "       [ 8, 10, 12]])"
            ]
          },
          "metadata": {},
          "execution_count": 102
        }
      ]
    },
    {
      "cell_type": "code",
      "source": [
        "# 나눗셈\n",
        "arr_1/arr_1"
      ],
      "metadata": {
        "colab": {
          "base_uri": "https://localhost:8080/"
        },
        "id": "6tVfR6_HnNIh",
        "outputId": "ca05b532-4811-4834-a3a9-c836ece742e8"
      },
      "id": "6tVfR6_HnNIh",
      "execution_count": null,
      "outputs": [
        {
          "output_type": "execute_result",
          "data": {
            "text/plain": [
              "array([[1., 1., 1.],\n",
              "       [1., 1., 1.]])"
            ]
          },
          "metadata": {},
          "execution_count": 104
        }
      ]
    },
    {
      "cell_type": "code",
      "source": [
        "# 비교연산자 사용가능\n",
        "arr_1 >= arr_1"
      ],
      "metadata": {
        "colab": {
          "base_uri": "https://localhost:8080/"
        },
        "id": "rcqDlyQknUBY",
        "outputId": "dec92817-30e0-4512-9cdb-5b22879cafa8"
      },
      "id": "rcqDlyQknUBY",
      "execution_count": null,
      "outputs": [
        {
          "output_type": "execute_result",
          "data": {
            "text/plain": [
              "array([[ True,  True,  True],\n",
              "       [ True,  True,  True]])"
            ]
          },
          "metadata": {},
          "execution_count": 105
        }
      ]
    },
    {
      "cell_type": "code",
      "source": [
        "# 행렬곱 \n",
        "arr_2 = np.array([[1,2,3],[4,5,6]])\n",
        "arr_3 = np.array([[7,10],[8,11],[9,12]])"
      ],
      "metadata": {
        "id": "s9zBQL0bndKk"
      },
      "id": "s9zBQL0bndKk",
      "execution_count": null,
      "outputs": []
    },
    {
      "cell_type": "code",
      "source": [
        "np.dot(arr_2,arr_3) # 행렬 곱셈을 위한 연산dot"
      ],
      "metadata": {
        "colab": {
          "base_uri": "https://localhost:8080/"
        },
        "id": "yGeywpFfq-Jq",
        "outputId": "aaee5f0e-c0c6-4b2c-90de-b5d3bb241ebf"
      },
      "id": "yGeywpFfq-Jq",
      "execution_count": null,
      "outputs": [
        {
          "output_type": "execute_result",
          "data": {
            "text/plain": [
              "array([[ 50,  68],\n",
              "       [122, 167]])"
            ]
          },
          "metadata": {},
          "execution_count": 110
        }
      ]
    },
    {
      "cell_type": "code",
      "source": [
        "# 색인과 슬라이싱\n",
        "# 리스트와 동일"
      ],
      "metadata": {
        "id": "YhMDchCNrO2E"
      },
      "id": "YhMDchCNrO2E",
      "execution_count": null,
      "outputs": []
    },
    {
      "cell_type": "code",
      "source": [
        "arr_1 = np.arange(10)"
      ],
      "metadata": {
        "id": "7Uk2ope7rxCu"
      },
      "id": "7Uk2ope7rxCu",
      "execution_count": null,
      "outputs": []
    },
    {
      "cell_type": "code",
      "source": [
        "arr_1"
      ],
      "metadata": {
        "colab": {
          "base_uri": "https://localhost:8080/"
        },
        "id": "eZOjBDtdr8kH",
        "outputId": "db46cd47-8d4c-46a6-f79e-9cf8108e744f"
      },
      "id": "eZOjBDtdr8kH",
      "execution_count": null,
      "outputs": [
        {
          "output_type": "execute_result",
          "data": {
            "text/plain": [
              "array([0, 1, 2, 3, 4, 5, 6, 7, 8, 9])"
            ]
          },
          "metadata": {},
          "execution_count": 114
        }
      ]
    },
    {
      "cell_type": "code",
      "source": [
        "arr_1[5]"
      ],
      "metadata": {
        "colab": {
          "base_uri": "https://localhost:8080/"
        },
        "id": "AxIO2Mldr9c2",
        "outputId": "8f079c13-4c91-4603-de48-5dba68906f06"
      },
      "id": "AxIO2Mldr9c2",
      "execution_count": null,
      "outputs": [
        {
          "output_type": "execute_result",
          "data": {
            "text/plain": [
              "5"
            ]
          },
          "metadata": {},
          "execution_count": 115
        }
      ]
    },
    {
      "cell_type": "code",
      "source": [
        "arr_1[5:8]"
      ],
      "metadata": {
        "colab": {
          "base_uri": "https://localhost:8080/"
        },
        "id": "jsAHn0bWsB7C",
        "outputId": "a3ffddf9-e71c-480a-b5a1-b86754db0882"
      },
      "id": "jsAHn0bWsB7C",
      "execution_count": null,
      "outputs": [
        {
          "output_type": "execute_result",
          "data": {
            "text/plain": [
              "array([5, 6, 7])"
            ]
          },
          "metadata": {},
          "execution_count": 116
        }
      ]
    },
    {
      "cell_type": "code",
      "source": [
        "arr_1[-1:]"
      ],
      "metadata": {
        "colab": {
          "base_uri": "https://localhost:8080/"
        },
        "id": "ZOLsXPiwsD83",
        "outputId": "70bf4373-f92a-47b5-be61-dfac8783d511"
      },
      "id": "ZOLsXPiwsD83",
      "execution_count": null,
      "outputs": [
        {
          "output_type": "execute_result",
          "data": {
            "text/plain": [
              "array([9])"
            ]
          },
          "metadata": {},
          "execution_count": 117
        }
      ]
    },
    {
      "cell_type": "code",
      "source": [
        "고객정보\n",
        "이름 , 나이, 사는곳, 자산, 자가, 성별, 전화번호, .... , 상품 구매 여부 "
      ],
      "metadata": {
        "id": "GsNM1Ce0sMbs"
      },
      "id": "GsNM1Ce0sMbs",
      "execution_count": null,
      "outputs": []
    },
    {
      "cell_type": "code",
      "source": [
        "arr_1[-1:]"
      ],
      "metadata": {
        "colab": {
          "base_uri": "https://localhost:8080/"
        },
        "id": "nNDxAyAXsdxB",
        "outputId": "1781eec9-22b5-47ce-ba3e-8b8540ec5116"
      },
      "id": "nNDxAyAXsdxB",
      "execution_count": null,
      "outputs": [
        {
          "output_type": "execute_result",
          "data": {
            "text/plain": [
              "array([9])"
            ]
          },
          "metadata": {},
          "execution_count": 118
        }
      ]
    },
    {
      "cell_type": "code",
      "source": [
        "arr_1 = np.array([[1,2,3,4],[5,6,7,8],[9,10,11,12],[13,14,15,16],[17,18,19,20]])"
      ],
      "metadata": {
        "id": "IAFeJoCJse3I"
      },
      "id": "IAFeJoCJse3I",
      "execution_count": null,
      "outputs": []
    },
    {
      "cell_type": "code",
      "source": [
        "arr_1"
      ],
      "metadata": {
        "colab": {
          "base_uri": "https://localhost:8080/"
        },
        "id": "otZv5ZzCtEmX",
        "outputId": "a746d243-e08c-4f73-80f7-42b96639ed92"
      },
      "id": "otZv5ZzCtEmX",
      "execution_count": null,
      "outputs": [
        {
          "output_type": "execute_result",
          "data": {
            "text/plain": [
              "array([[ 1,  2,  3,  4],\n",
              "       [ 5,  6,  7,  8],\n",
              "       [ 9, 10, 11, 12],\n",
              "       [13, 14, 15, 16],\n",
              "       [17, 18, 19, 20]])"
            ]
          },
          "metadata": {},
          "execution_count": 124
        }
      ]
    },
    {
      "cell_type": "code",
      "source": [
        "arr_1.shape"
      ],
      "metadata": {
        "colab": {
          "base_uri": "https://localhost:8080/"
        },
        "id": "jmab3KWWs4Jf",
        "outputId": "4458379e-0c70-4138-a26e-6d38962a6c5b"
      },
      "id": "jmab3KWWs4Jf",
      "execution_count": null,
      "outputs": [
        {
          "output_type": "execute_result",
          "data": {
            "text/plain": [
              "(5, 4)"
            ]
          },
          "metadata": {},
          "execution_count": 123
        }
      ]
    },
    {
      "cell_type": "code",
      "source": [
        "arr_1[:,-1]"
      ],
      "metadata": {
        "colab": {
          "base_uri": "https://localhost:8080/"
        },
        "id": "X86nKqIgs5A0",
        "outputId": "9770f8fc-172d-4165-a851-2ed33bc7a0c4"
      },
      "id": "X86nKqIgs5A0",
      "execution_count": null,
      "outputs": [
        {
          "output_type": "execute_result",
          "data": {
            "text/plain": [
              "array([ 4,  8, 12, 16, 20])"
            ]
          },
          "metadata": {},
          "execution_count": 130
        }
      ]
    },
    {
      "cell_type": "code",
      "source": [
        "arr_1[:,-1].shape"
      ],
      "metadata": {
        "colab": {
          "base_uri": "https://localhost:8080/"
        },
        "id": "NZ8YnZeXtKst",
        "outputId": "df363522-d825-4ba1-bc9f-497fc7f3f4f6"
      },
      "id": "NZ8YnZeXtKst",
      "execution_count": null,
      "outputs": [
        {
          "output_type": "execute_result",
          "data": {
            "text/plain": [
              "(5,)"
            ]
          },
          "metadata": {},
          "execution_count": 131
        }
      ]
    },
    {
      "cell_type": "code",
      "source": [
        "arr_1[:,-1:].shape"
      ],
      "metadata": {
        "colab": {
          "base_uri": "https://localhost:8080/"
        },
        "id": "5bacfCuKtxIB",
        "outputId": "72d0085b-8dfe-4f9a-ba2e-dbae02b1b0c6"
      },
      "id": "5bacfCuKtxIB",
      "execution_count": null,
      "outputs": [
        {
          "output_type": "execute_result",
          "data": {
            "text/plain": [
              "(5, 1)"
            ]
          },
          "metadata": {},
          "execution_count": 132
        }
      ]
    },
    {
      "cell_type": "code",
      "source": [
        "arr_2 = np.arange(24).reshape(3,2,4) \n",
        "#에서 2,6,10,14,18,22 만 뽑아 보세요"
      ],
      "metadata": {
        "id": "tJOYkvI7ty_T"
      },
      "id": "tJOYkvI7ty_T",
      "execution_count": null,
      "outputs": []
    },
    {
      "cell_type": "code",
      "source": [
        "arr_2"
      ],
      "metadata": {
        "colab": {
          "base_uri": "https://localhost:8080/"
        },
        "id": "Vlyr-129uPRb",
        "outputId": "28023127-e772-4435-e0a8-ae608f72bdfe"
      },
      "id": "Vlyr-129uPRb",
      "execution_count": null,
      "outputs": [
        {
          "output_type": "execute_result",
          "data": {
            "text/plain": [
              "array([[[ 0,  1,  2,  3],\n",
              "        [ 4,  5,  6,  7]],\n",
              "\n",
              "       [[ 8,  9, 10, 11],\n",
              "        [12, 13, 14, 15]],\n",
              "\n",
              "       [[16, 17, 18, 19],\n",
              "        [20, 21, 22, 23]]])"
            ]
          },
          "metadata": {},
          "execution_count": 136
        }
      ]
    },
    {
      "cell_type": "code",
      "source": [
        "arr_2.shape"
      ],
      "metadata": {
        "colab": {
          "base_uri": "https://localhost:8080/"
        },
        "id": "wflYF7WgvgQ8",
        "outputId": "3a8d239c-9aa1-46aa-dd88-6b386a58f180"
      },
      "id": "wflYF7WgvgQ8",
      "execution_count": null,
      "outputs": [
        {
          "output_type": "execute_result",
          "data": {
            "text/plain": [
              "(3, 2, 4)"
            ]
          },
          "metadata": {},
          "execution_count": 137
        }
      ]
    },
    {
      "cell_type": "code",
      "source": [
        "arr_2[:,:,2]"
      ],
      "metadata": {
        "colab": {
          "base_uri": "https://localhost:8080/"
        },
        "id": "1YW9hb3qvg7H",
        "outputId": "2c14ca74-84c5-4e28-dc80-e7170a19983d"
      },
      "id": "1YW9hb3qvg7H",
      "execution_count": null,
      "outputs": [
        {
          "output_type": "execute_result",
          "data": {
            "text/plain": [
              "array([[ 2,  6],\n",
              "       [10, 14],\n",
              "       [18, 22]])"
            ]
          },
          "metadata": {},
          "execution_count": 138
        }
      ]
    },
    {
      "cell_type": "code",
      "source": [
        "arr_2[:,:,[2]]"
      ],
      "metadata": {
        "colab": {
          "base_uri": "https://localhost:8080/"
        },
        "id": "iaRsu811wFu2",
        "outputId": "251c0afa-8d92-4fba-ce32-63837a7b640d"
      },
      "id": "iaRsu811wFu2",
      "execution_count": null,
      "outputs": [
        {
          "output_type": "execute_result",
          "data": {
            "text/plain": [
              "array([[[ 2],\n",
              "        [ 6]],\n",
              "\n",
              "       [[10],\n",
              "        [14]],\n",
              "\n",
              "       [[18],\n",
              "        [22]]])"
            ]
          },
          "metadata": {},
          "execution_count": 141
        }
      ]
    },
    {
      "cell_type": "code",
      "source": [
        "arr_2[:,:,2:3]"
      ],
      "metadata": {
        "colab": {
          "base_uri": "https://localhost:8080/"
        },
        "id": "T7dS6lucv22d",
        "outputId": "411b81df-165c-4f30-e294-dcea172b25d4"
      },
      "id": "T7dS6lucv22d",
      "execution_count": null,
      "outputs": [
        {
          "output_type": "execute_result",
          "data": {
            "text/plain": [
              "array([[[ 2],\n",
              "        [ 6]],\n",
              "\n",
              "       [[10],\n",
              "        [14]],\n",
              "\n",
              "       [[18],\n",
              "        [22]]])"
            ]
          },
          "metadata": {},
          "execution_count": 142
        }
      ]
    },
    {
      "cell_type": "code",
      "source": [
        "arr_2[:,:,::2]\n",
        "# 시작:끝:step"
      ],
      "metadata": {
        "colab": {
          "base_uri": "https://localhost:8080/"
        },
        "id": "Ya94dIN2v7QS",
        "outputId": "e8b9d4a9-68f7-44aa-e96e-599a9a0015bc"
      },
      "id": "Ya94dIN2v7QS",
      "execution_count": null,
      "outputs": [
        {
          "output_type": "execute_result",
          "data": {
            "text/plain": [
              "array([[[ 0,  2],\n",
              "        [ 4,  6]],\n",
              "\n",
              "       [[ 8, 10],\n",
              "        [12, 14]],\n",
              "\n",
              "       [[16, 18],\n",
              "        [20, 22]]])"
            ]
          },
          "metadata": {},
          "execution_count": 145
        }
      ]
    },
    {
      "cell_type": "code",
      "source": [
        "arr_1 = np.arange(24)"
      ],
      "metadata": {
        "id": "NTLzT2kIxQ8f"
      },
      "id": "NTLzT2kIxQ8f",
      "execution_count": null,
      "outputs": []
    },
    {
      "cell_type": "code",
      "source": [
        "arr_1.shape"
      ],
      "metadata": {
        "colab": {
          "base_uri": "https://localhost:8080/"
        },
        "id": "73IR2ZCsCmly",
        "outputId": "1956ee41-e2e8-40e4-8af6-13f0552f58b9"
      },
      "id": "73IR2ZCsCmly",
      "execution_count": null,
      "outputs": [
        {
          "output_type": "execute_result",
          "data": {
            "text/plain": [
              "(24,)"
            ]
          },
          "metadata": {},
          "execution_count": 148
        }
      ]
    },
    {
      "cell_type": "code",
      "source": [
        "arr_1_1 = arr_1.reshape(3,2,4) "
      ],
      "metadata": {
        "id": "8_mZXIMmCqur"
      },
      "id": "8_mZXIMmCqur",
      "execution_count": null,
      "outputs": []
    },
    {
      "cell_type": "code",
      "source": [
        "arr_2 = np.arange(72)"
      ],
      "metadata": {
        "id": "fhq5UStTCsoW"
      },
      "id": "fhq5UStTCsoW",
      "execution_count": null,
      "outputs": []
    },
    {
      "cell_type": "code",
      "source": [
        "arr_2_1 = arr_2.reshape(9,8)"
      ],
      "metadata": {
        "id": "hPm-e_AoCwZP"
      },
      "id": "hPm-e_AoCwZP",
      "execution_count": null,
      "outputs": []
    },
    {
      "cell_type": "code",
      "source": [
        "arr_2_1.shape"
      ],
      "metadata": {
        "colab": {
          "base_uri": "https://localhost:8080/"
        },
        "id": "Ulo7eN2FC8tf",
        "outputId": "ae3d8740-1bb1-4910-ca06-5038c545cb1c"
      },
      "id": "Ulo7eN2FC8tf",
      "execution_count": null,
      "outputs": [
        {
          "output_type": "execute_result",
          "data": {
            "text/plain": [
              "(9, 8)"
            ]
          },
          "metadata": {},
          "execution_count": 157
        }
      ]
    },
    {
      "cell_type": "code",
      "source": [
        "arr_2_1.reshape(72)"
      ],
      "metadata": {
        "colab": {
          "base_uri": "https://localhost:8080/"
        },
        "id": "hzdLtdDUDFnh",
        "outputId": "665675a8-bb4d-4a6e-d856-371dedaa51ca"
      },
      "id": "hzdLtdDUDFnh",
      "execution_count": null,
      "outputs": [
        {
          "output_type": "execute_result",
          "data": {
            "text/plain": [
              "array([ 0,  1,  2,  3,  4,  5,  6,  7,  8,  9, 10, 11, 12, 13, 14, 15, 16,\n",
              "       17, 18, 19, 20, 21, 22, 23, 24, 25, 26, 27, 28, 29, 30, 31, 32, 33,\n",
              "       34, 35, 36, 37, 38, 39, 40, 41, 42, 43, 44, 45, 46, 47, 48, 49, 50,\n",
              "       51, 52, 53, 54, 55, 56, 57, 58, 59, 60, 61, 62, 63, 64, 65, 66, 67,\n",
              "       68, 69, 70, 71])"
            ]
          },
          "metadata": {},
          "execution_count": 159
        }
      ]
    },
    {
      "cell_type": "code",
      "source": [
        "arr_2_2 = arr_2_1.reshape(9,2,-1) #-1 을 통해 마지막 값을 저절로 결정하게 해준다. "
      ],
      "metadata": {
        "id": "yHlMFqKRDJMt"
      },
      "id": "yHlMFqKRDJMt",
      "execution_count": null,
      "outputs": []
    },
    {
      "cell_type": "code",
      "source": [
        "arr_2_2.shape"
      ],
      "metadata": {
        "colab": {
          "base_uri": "https://localhost:8080/"
        },
        "id": "xQppJT4PDOVl",
        "outputId": "61537734-3570-48c2-d95c-094adf01a100"
      },
      "id": "xQppJT4PDOVl",
      "execution_count": null,
      "outputs": [
        {
          "output_type": "execute_result",
          "data": {
            "text/plain": [
              "(9, 2, 4)"
            ]
          },
          "metadata": {},
          "execution_count": 164
        }
      ]
    },
    {
      "cell_type": "code",
      "source": [
        "arr_2_1.reshape(9,2)"
      ],
      "metadata": {
        "colab": {
          "base_uri": "https://localhost:8080/",
          "height": 174
        },
        "id": "mKn4mXkxDUi0",
        "outputId": "e37f955d-937c-4d71-dda0-d08c0e6c6087"
      },
      "id": "mKn4mXkxDUi0",
      "execution_count": null,
      "outputs": [
        {
          "output_type": "error",
          "ename": "ValueError",
          "evalue": "ignored",
          "traceback": [
            "\u001b[0;31m---------------------------------------------------------------------------\u001b[0m",
            "\u001b[0;31mValueError\u001b[0m                                Traceback (most recent call last)",
            "\u001b[0;32m<ipython-input-166-8f8121888d35>\u001b[0m in \u001b[0;36m<module>\u001b[0;34m()\u001b[0m\n\u001b[0;32m----> 1\u001b[0;31m \u001b[0marr_2_1\u001b[0m\u001b[0;34m.\u001b[0m\u001b[0mreshape\u001b[0m\u001b[0;34m(\u001b[0m\u001b[0;36m9\u001b[0m\u001b[0;34m,\u001b[0m\u001b[0;36m2\u001b[0m\u001b[0;34m)\u001b[0m\u001b[0;34m\u001b[0m\u001b[0;34m\u001b[0m\u001b[0m\n\u001b[0m",
            "\u001b[0;31mValueError\u001b[0m: cannot reshape array of size 72 into shape (9,2)"
          ]
        }
      ]
    },
    {
      "cell_type": "code",
      "source": [
        "arr_2_1.reshape(9,4)"
      ],
      "metadata": {
        "colab": {
          "base_uri": "https://localhost:8080/",
          "height": 174
        },
        "id": "Iaz_cy03DmC6",
        "outputId": "39348756-34f8-40fc-990c-da9df3ccd25b"
      },
      "id": "Iaz_cy03DmC6",
      "execution_count": null,
      "outputs": [
        {
          "output_type": "error",
          "ename": "ValueError",
          "evalue": "ignored",
          "traceback": [
            "\u001b[0;31m---------------------------------------------------------------------------\u001b[0m",
            "\u001b[0;31mValueError\u001b[0m                                Traceback (most recent call last)",
            "\u001b[0;32m<ipython-input-167-013a9ce8a8b9>\u001b[0m in \u001b[0;36m<module>\u001b[0;34m()\u001b[0m\n\u001b[0;32m----> 1\u001b[0;31m \u001b[0marr_2_1\u001b[0m\u001b[0;34m.\u001b[0m\u001b[0mreshape\u001b[0m\u001b[0;34m(\u001b[0m\u001b[0;36m9\u001b[0m\u001b[0;34m,\u001b[0m\u001b[0;36m4\u001b[0m\u001b[0;34m)\u001b[0m\u001b[0;34m\u001b[0m\u001b[0;34m\u001b[0m\u001b[0m\n\u001b[0m",
            "\u001b[0;31mValueError\u001b[0m: cannot reshape array of size 72 into shape (9,4)"
          ]
        }
      ]
    },
    {
      "cell_type": "code",
      "source": [
        "arr_3= np.arange(24).reshape(2,3,4)\n",
        "# 6과 18 만을 array에서 뽑아 보세요."
      ],
      "metadata": {
        "id": "a9bBl-8rDrLh"
      },
      "id": "a9bBl-8rDrLh",
      "execution_count": null,
      "outputs": []
    },
    {
      "cell_type": "code",
      "source": [
        "arr_3[:,[1],[2]]"
      ],
      "metadata": {
        "colab": {
          "base_uri": "https://localhost:8080/"
        },
        "id": "EnxzMo6oEjIn",
        "outputId": "aada29e2-f9d4-4863-8470-ed59c2c9ddc9"
      },
      "id": "EnxzMo6oEjIn",
      "execution_count": null,
      "outputs": [
        {
          "output_type": "execute_result",
          "data": {
            "text/plain": [
              "array([[ 6],\n",
              "       [18]])"
            ]
          },
          "metadata": {},
          "execution_count": 171
        }
      ]
    },
    {
      "cell_type": "code",
      "source": [
        "arr_3.shape"
      ],
      "metadata": {
        "colab": {
          "base_uri": "https://localhost:8080/"
        },
        "id": "tIAM2EyrFSPC",
        "outputId": "6d7fe0c6-4fb6-4d29-87d9-914fccb58214"
      },
      "id": "tIAM2EyrFSPC",
      "execution_count": null,
      "outputs": [
        {
          "output_type": "execute_result",
          "data": {
            "text/plain": [
              "(2, 3, 4)"
            ]
          },
          "metadata": {},
          "execution_count": 172
        }
      ]
    },
    {
      "cell_type": "code",
      "source": [
        "arr_3"
      ],
      "metadata": {
        "colab": {
          "base_uri": "https://localhost:8080/"
        },
        "id": "K8QY5IF0Fbn0",
        "outputId": "5872c4fa-896e-4db4-9040-8f8bc15d1946"
      },
      "id": "K8QY5IF0Fbn0",
      "execution_count": null,
      "outputs": [
        {
          "output_type": "execute_result",
          "data": {
            "text/plain": [
              "array([[[ 0,  1,  2,  3],\n",
              "        [ 4,  5,  6,  7],\n",
              "        [ 8,  9, 10, 11]],\n",
              "\n",
              "       [[12, 13, 14, 15],\n",
              "        [16, 17, 18, 19],\n",
              "        [20, 21, 22, 23]]])"
            ]
          },
          "metadata": {},
          "execution_count": 173
        }
      ]
    },
    {
      "cell_type": "markdown",
      "source": [
        "# 블리언으로 값 선택하기"
      ],
      "metadata": {
        "id": "K023xqaTFcce"
      },
      "id": "K023xqaTFcce"
    },
    {
      "cell_type": "code",
      "source": [
        "names = np.array([\"오민엽\", \"윤상원\", \"이진경\", \"김예담\", \"오민엽\",\"서동한\",\"이해규\"])"
      ],
      "metadata": {
        "id": "Oi5JjunrF8VO"
      },
      "id": "Oi5JjunrF8VO",
      "execution_count": null,
      "outputs": []
    },
    {
      "cell_type": "code",
      "source": [
        "names == \"오민엽\""
      ],
      "metadata": {
        "colab": {
          "base_uri": "https://localhost:8080/"
        },
        "id": "9XH5G-6cGR4J",
        "outputId": "c853589f-52c0-4bdb-a75c-a25ef8618d4f"
      },
      "id": "9XH5G-6cGR4J",
      "execution_count": null,
      "outputs": [
        {
          "output_type": "execute_result",
          "data": {
            "text/plain": [
              "array([ True, False, False, False,  True, False, False])"
            ]
          },
          "metadata": {},
          "execution_count": 178
        }
      ]
    },
    {
      "cell_type": "code",
      "source": [
        "data = np.random.randn(7,4)"
      ],
      "metadata": {
        "id": "ZDv1lrByGTGF"
      },
      "id": "ZDv1lrByGTGF",
      "execution_count": null,
      "outputs": []
    },
    {
      "cell_type": "code",
      "source": [
        "data"
      ],
      "metadata": {
        "colab": {
          "base_uri": "https://localhost:8080/"
        },
        "id": "S8I_SDq3Gq1G",
        "outputId": "d5e302e5-80ed-4369-f935-fe46da52c34f"
      },
      "id": "S8I_SDq3Gq1G",
      "execution_count": null,
      "outputs": [
        {
          "output_type": "execute_result",
          "data": {
            "text/plain": [
              "array([[-0.80368151,  0.93356514, -0.32292453, -0.34268275],\n",
              "       [-0.1844025 ,  0.80583999, -0.61244243, -0.93355433],\n",
              "       [ 1.79998263, -0.61730889,  0.30287584,  0.88872791],\n",
              "       [-0.77028317, -1.4703424 ,  0.36013197, -1.04212099],\n",
              "       [ 0.78712193, -0.08476365, -0.53278676,  2.04434472],\n",
              "       [-0.8583157 ,  0.29254811, -0.47308548, -0.34605248],\n",
              "       [ 1.1056219 , -0.58906373,  0.34788192, -0.44085539]])"
            ]
          },
          "metadata": {},
          "execution_count": 180
        }
      ]
    },
    {
      "cell_type": "code",
      "source": [
        "data[names == \"오민엽\"]"
      ],
      "metadata": {
        "colab": {
          "base_uri": "https://localhost:8080/"
        },
        "id": "C5X2Et4tGrfR",
        "outputId": "5e907b5c-ee64-4980-f289-c981b26aa526"
      },
      "id": "C5X2Et4tGrfR",
      "execution_count": null,
      "outputs": [
        {
          "output_type": "execute_result",
          "data": {
            "text/plain": [
              "array([[-0.80368151,  0.93356514, -0.32292453, -0.34268275],\n",
              "       [ 0.78712193, -0.08476365, -0.53278676,  2.04434472]])"
            ]
          },
          "metadata": {},
          "execution_count": 181
        }
      ]
    },
    {
      "cell_type": "code",
      "source": [
        "bools = names == \"오민엽\""
      ],
      "metadata": {
        "id": "G7XIade1INd5"
      },
      "id": "G7XIade1INd5",
      "execution_count": null,
      "outputs": []
    },
    {
      "cell_type": "code",
      "source": [
        "data[bools]"
      ],
      "metadata": {
        "colab": {
          "base_uri": "https://localhost:8080/"
        },
        "id": "g3xwzbfGIO_K",
        "outputId": "51c7d560-cc14-4d4f-fbe8-a9ec7d927349"
      },
      "id": "g3xwzbfGIO_K",
      "execution_count": null,
      "outputs": [
        {
          "output_type": "execute_result",
          "data": {
            "text/plain": [
              "array([[-0.80368151,  0.93356514, -0.32292453, -0.34268275],\n",
              "       [ 0.78712193, -0.08476365, -0.53278676,  2.04434472]])"
            ]
          },
          "metadata": {},
          "execution_count": 189
        }
      ]
    },
    {
      "cell_type": "code",
      "source": [
        "# 질문 data array에서 0 보다 큰수만 추출해 보세요 "
      ],
      "metadata": {
        "id": "DCxnsxXaG0Ik"
      },
      "id": "DCxnsxXaG0Ik",
      "execution_count": null,
      "outputs": []
    },
    {
      "cell_type": "code",
      "source": [
        "data[data>0]"
      ],
      "metadata": {
        "colab": {
          "base_uri": "https://localhost:8080/"
        },
        "id": "8Sjxjvg1H4my",
        "outputId": "e9e658dc-6847-4761-b83f-aa8ee727cdf2"
      },
      "id": "8Sjxjvg1H4my",
      "execution_count": null,
      "outputs": [
        {
          "output_type": "execute_result",
          "data": {
            "text/plain": [
              "array([0.93356514, 0.80583999, 1.79998263, 0.30287584, 0.88872791,\n",
              "       0.36013197, 0.78712193, 2.04434472, 0.29254811, 1.1056219 ,\n",
              "       0.34788192])"
            ]
          },
          "metadata": {},
          "execution_count": 183
        }
      ]
    },
    {
      "cell_type": "code",
      "source": [
        "bools = data > 0 "
      ],
      "metadata": {
        "id": "iNsk9kARH8Hz"
      },
      "id": "iNsk9kARH8Hz",
      "execution_count": null,
      "outputs": []
    },
    {
      "cell_type": "code",
      "source": [
        "data[bools]"
      ],
      "metadata": {
        "colab": {
          "base_uri": "https://localhost:8080/"
        },
        "id": "PEi6iz0ZIJXJ",
        "outputId": "5e59c6ab-3be6-4448-d413-5b6a4ef338bc"
      },
      "id": "PEi6iz0ZIJXJ",
      "execution_count": null,
      "outputs": [
        {
          "output_type": "execute_result",
          "data": {
            "text/plain": [
              "array([0.93356514, 0.80583999, 1.79998263, 0.30287584, 0.88872791,\n",
              "       0.36013197, 0.78712193, 2.04434472, 0.29254811, 1.1056219 ,\n",
              "       0.34788192])"
            ]
          },
          "metadata": {},
          "execution_count": 185
        }
      ]
    },
    {
      "cell_type": "code",
      "source": [
        "# 0보다 작은 숫자들은 0으로 치환 하세요 "
      ],
      "metadata": {
        "id": "deKgyizeIKXN"
      },
      "id": "deKgyizeIKXN",
      "execution_count": null,
      "outputs": []
    },
    {
      "cell_type": "code",
      "source": [
        "data[data<0] = 0"
      ],
      "metadata": {
        "id": "voLeVCdGIkUs"
      },
      "id": "voLeVCdGIkUs",
      "execution_count": null,
      "outputs": []
    },
    {
      "cell_type": "code",
      "source": [
        "data"
      ],
      "metadata": {
        "colab": {
          "base_uri": "https://localhost:8080/"
        },
        "id": "iBkCiMPZIlav",
        "outputId": "620d26ea-e719-488c-ea3b-21d997f54c14"
      },
      "id": "iBkCiMPZIlav",
      "execution_count": null,
      "outputs": [
        {
          "output_type": "execute_result",
          "data": {
            "text/plain": [
              "array([[0.        , 0.93356514, 0.        , 0.        ],\n",
              "       [0.        , 0.80583999, 0.        , 0.        ],\n",
              "       [1.79998263, 0.        , 0.30287584, 0.88872791],\n",
              "       [0.        , 0.        , 0.36013197, 0.        ],\n",
              "       [0.78712193, 0.        , 0.        , 2.04434472],\n",
              "       [0.        , 0.29254811, 0.        , 0.        ],\n",
              "       [1.1056219 , 0.        , 0.34788192, 0.        ]])"
            ]
          },
          "metadata": {},
          "execution_count": 194
        }
      ]
    },
    {
      "cell_type": "code",
      "source": [
        "# 팬시색인\n",
        "# - 정수배열로 색인"
      ],
      "metadata": {
        "id": "t_nzonuYJK6H"
      },
      "id": "t_nzonuYJK6H",
      "execution_count": null,
      "outputs": []
    },
    {
      "cell_type": "code",
      "source": [
        "arr = np.random.randn(8,4)"
      ],
      "metadata": {
        "id": "gtPuGQXaJbRR"
      },
      "id": "gtPuGQXaJbRR",
      "execution_count": null,
      "outputs": []
    },
    {
      "cell_type": "code",
      "source": [
        "arr[0] = 0"
      ],
      "metadata": {
        "id": "tjj0yQ1zJkkW"
      },
      "id": "tjj0yQ1zJkkW",
      "execution_count": null,
      "outputs": []
    },
    {
      "cell_type": "code",
      "source": [
        "arr"
      ],
      "metadata": {
        "colab": {
          "base_uri": "https://localhost:8080/"
        },
        "id": "I9DUheCnJxF8",
        "outputId": "3ecc6b06-0838-42a3-f63e-c2e07c97acc8"
      },
      "id": "I9DUheCnJxF8",
      "execution_count": null,
      "outputs": [
        {
          "output_type": "execute_result",
          "data": {
            "text/plain": [
              "array([[ 0.        ,  0.        ,  0.        ,  0.        ],\n",
              "       [ 0.93935194, -1.99086763, -0.72602363, -0.403365  ],\n",
              "       [-0.58658175,  0.03144443,  1.45780432,  1.03001252],\n",
              "       [ 0.54199787,  0.33461012,  0.2152422 ,  0.07107972],\n",
              "       [-1.77262258,  0.57927814, -0.59396714, -0.70818663],\n",
              "       [-0.60394579,  0.24090794, -0.23437417, -1.79442097],\n",
              "       [ 1.37830945,  1.37535811,  0.97456187,  0.4291364 ],\n",
              "       [-0.95086954, -0.43049474,  1.91525194,  0.99657951]])"
            ]
          },
          "metadata": {},
          "execution_count": 202
        }
      ]
    },
    {
      "cell_type": "code",
      "source": [
        "# 특정한 row를 선택하고 싶으면 원하는순서가 명시된 정수가 담긴 list 또는 array를 넘기면 된다."
      ],
      "metadata": {
        "id": "XMjtMQg2J1sU"
      },
      "id": "XMjtMQg2J1sU",
      "execution_count": null,
      "outputs": []
    },
    {
      "cell_type": "code",
      "source": [
        "arr"
      ],
      "metadata": {
        "colab": {
          "base_uri": "https://localhost:8080/"
        },
        "id": "WOQh5BD7KEf6",
        "outputId": "8f8dc8a7-0d81-472b-e016-6d0211be6703"
      },
      "id": "WOQh5BD7KEf6",
      "execution_count": null,
      "outputs": [
        {
          "output_type": "execute_result",
          "data": {
            "text/plain": [
              "array([[ 0.        ,  0.        ,  0.        ,  0.        ],\n",
              "       [ 0.93935194, -1.99086763, -0.72602363, -0.403365  ],\n",
              "       [-0.58658175,  0.03144443,  1.45780432,  1.03001252],\n",
              "       [ 0.54199787,  0.33461012,  0.2152422 ,  0.07107972],\n",
              "       [-1.77262258,  0.57927814, -0.59396714, -0.70818663],\n",
              "       [-0.60394579,  0.24090794, -0.23437417, -1.79442097],\n",
              "       [ 1.37830945,  1.37535811,  0.97456187,  0.4291364 ],\n",
              "       [-0.95086954, -0.43049474,  1.91525194,  0.99657951]])"
            ]
          },
          "metadata": {},
          "execution_count": 208
        }
      ]
    },
    {
      "cell_type": "code",
      "source": [
        "arr[[4,3,0]]"
      ],
      "metadata": {
        "colab": {
          "base_uri": "https://localhost:8080/"
        },
        "id": "GRy5MnGIKFPB",
        "outputId": "32955cb2-dec9-4ebc-ed9f-baa39aa2622f"
      },
      "id": "GRy5MnGIKFPB",
      "execution_count": null,
      "outputs": [
        {
          "output_type": "execute_result",
          "data": {
            "text/plain": [
              "array([[-1.77262258,  0.57927814, -0.59396714, -0.70818663],\n",
              "       [ 0.54199787,  0.33461012,  0.2152422 ,  0.07107972],\n",
              "       [ 0.        ,  0.        ,  0.        ,  0.        ]])"
            ]
          },
          "metadata": {},
          "execution_count": 209
        }
      ]
    },
    {
      "cell_type": "code",
      "source": [
        "arr = np.arange(32).reshape(8,4)"
      ],
      "metadata": {
        "id": "PoTsLFj4KJVi"
      },
      "id": "PoTsLFj4KJVi",
      "execution_count": null,
      "outputs": []
    },
    {
      "cell_type": "code",
      "source": [
        "arr[:,[1,2]]"
      ],
      "metadata": {
        "colab": {
          "base_uri": "https://localhost:8080/"
        },
        "id": "cRoDfMFfKhiV",
        "outputId": "af430ff2-665b-4133-e518-dd7733091b6a"
      },
      "id": "cRoDfMFfKhiV",
      "execution_count": null,
      "outputs": [
        {
          "output_type": "execute_result",
          "data": {
            "text/plain": [
              "array([[ 1,  2],\n",
              "       [ 5,  6],\n",
              "       [ 9, 10],\n",
              "       [13, 14],\n",
              "       [17, 18],\n",
              "       [21, 22],\n",
              "       [25, 26],\n",
              "       [29, 30]])"
            ]
          },
          "metadata": {},
          "execution_count": 215
        }
      ]
    },
    {
      "cell_type": "code",
      "source": [
        "arr[:,[1,2]][:,1]"
      ],
      "metadata": {
        "colab": {
          "base_uri": "https://localhost:8080/"
        },
        "id": "6rd4ihz-Ki0X",
        "outputId": "891d3786-257d-4f8a-82a1-05e3f7d34e5c"
      },
      "id": "6rd4ihz-Ki0X",
      "execution_count": null,
      "outputs": [
        {
          "output_type": "execute_result",
          "data": {
            "text/plain": [
              "array([ 2,  6, 10, 14, 18, 22, 26, 30])"
            ]
          },
          "metadata": {},
          "execution_count": 216
        }
      ]
    },
    {
      "cell_type": "code",
      "source": [
        "# 전치와 축변경\n",
        "# - 배열의 전치는 데이터의 행과 열을 변경 해준다. "
      ],
      "metadata": {
        "id": "we9PjnlLK0Ah"
      },
      "id": "we9PjnlLK0Ah",
      "execution_count": null,
      "outputs": []
    },
    {
      "cell_type": "code",
      "source": [
        "arr = np.arange(24)"
      ],
      "metadata": {
        "id": "LHeWJsJuLETA"
      },
      "id": "LHeWJsJuLETA",
      "execution_count": null,
      "outputs": []
    },
    {
      "cell_type": "code",
      "source": [
        "arr.shape"
      ],
      "metadata": {
        "colab": {
          "base_uri": "https://localhost:8080/"
        },
        "id": "OyXn8D1ALsIr",
        "outputId": "b3bc9d55-aa89-433c-a34c-c216d30cd6a6"
      },
      "id": "OyXn8D1ALsIr",
      "execution_count": null,
      "outputs": [
        {
          "output_type": "execute_result",
          "data": {
            "text/plain": [
              "(24,)"
            ]
          },
          "metadata": {},
          "execution_count": 221
        }
      ]
    },
    {
      "cell_type": "code",
      "source": [
        "arr = arr.reshape(3,8)"
      ],
      "metadata": {
        "id": "bloslXA3Lyec"
      },
      "id": "bloslXA3Lyec",
      "execution_count": null,
      "outputs": []
    },
    {
      "cell_type": "code",
      "source": [
        "arr"
      ],
      "metadata": {
        "colab": {
          "base_uri": "https://localhost:8080/"
        },
        "id": "IGI2ufWZL53Y",
        "outputId": "6cbf16ec-7eb9-4a06-dd3c-4f401693ace5"
      },
      "id": "IGI2ufWZL53Y",
      "execution_count": null,
      "outputs": [
        {
          "output_type": "execute_result",
          "data": {
            "text/plain": [
              "array([[ 0,  1,  2,  3,  4,  5,  6,  7],\n",
              "       [ 8,  9, 10, 11, 12, 13, 14, 15],\n",
              "       [16, 17, 18, 19, 20, 21, 22, 23]])"
            ]
          },
          "metadata": {},
          "execution_count": 225
        }
      ]
    },
    {
      "cell_type": "code",
      "source": [
        "arr.T"
      ],
      "metadata": {
        "colab": {
          "base_uri": "https://localhost:8080/"
        },
        "id": "DuiUfBC6L0v_",
        "outputId": "65153158-105f-41f8-b93b-5f041b80ad5e"
      },
      "id": "DuiUfBC6L0v_",
      "execution_count": null,
      "outputs": [
        {
          "output_type": "execute_result",
          "data": {
            "text/plain": [
              "array([[ 0,  8, 16],\n",
              "       [ 1,  9, 17],\n",
              "       [ 2, 10, 18],\n",
              "       [ 3, 11, 19],\n",
              "       [ 4, 12, 20],\n",
              "       [ 5, 13, 21],\n",
              "       [ 6, 14, 22],\n",
              "       [ 7, 15, 23]])"
            ]
          },
          "metadata": {},
          "execution_count": 224
        }
      ]
    },
    {
      "cell_type": "code",
      "source": [
        "arr.transpose()"
      ],
      "metadata": {
        "colab": {
          "base_uri": "https://localhost:8080/"
        },
        "id": "CIAexWKlL4UL",
        "outputId": "254d80cd-0732-4528-90d4-fa0eb21f58ed"
      },
      "id": "CIAexWKlL4UL",
      "execution_count": null,
      "outputs": [
        {
          "output_type": "execute_result",
          "data": {
            "text/plain": [
              "array([[ 0,  8, 16],\n",
              "       [ 1,  9, 17],\n",
              "       [ 2, 10, 18],\n",
              "       [ 3, 11, 19],\n",
              "       [ 4, 12, 20],\n",
              "       [ 5, 13, 21],\n",
              "       [ 6, 14, 22],\n",
              "       [ 7, 15, 23]])"
            ]
          },
          "metadata": {},
          "execution_count": 226
        }
      ]
    },
    {
      "cell_type": "code",
      "source": [
        "arr_1 = np.arange(8)"
      ],
      "metadata": {
        "id": "Xn7Tc-oLMD3N"
      },
      "id": "Xn7Tc-oLMD3N",
      "execution_count": null,
      "outputs": []
    },
    {
      "cell_type": "code",
      "source": [
        "arr_1"
      ],
      "metadata": {
        "colab": {
          "base_uri": "https://localhost:8080/"
        },
        "id": "5l06mM2uMJVM",
        "outputId": "45da3bd1-c4e5-40bc-c5b3-6bdd65b6f001"
      },
      "id": "5l06mM2uMJVM",
      "execution_count": null,
      "outputs": [
        {
          "output_type": "execute_result",
          "data": {
            "text/plain": [
              "array([0, 1, 2, 3, 4, 5, 6, 7])"
            ]
          },
          "metadata": {},
          "execution_count": 228
        }
      ]
    },
    {
      "cell_type": "code",
      "source": [
        "# 벡터 자체로는 전치 되지 않는다. \n",
        "arr_1.T"
      ],
      "metadata": {
        "colab": {
          "base_uri": "https://localhost:8080/"
        },
        "id": "6X56Ip9PMKVH",
        "outputId": "9ddf0349-fc62-40a1-84dc-6faf1b180657"
      },
      "id": "6X56Ip9PMKVH",
      "execution_count": null,
      "outputs": [
        {
          "output_type": "execute_result",
          "data": {
            "text/plain": [
              "array([0, 1, 2, 3, 4, 5, 6, 7])"
            ]
          },
          "metadata": {},
          "execution_count": 229
        }
      ]
    },
    {
      "cell_type": "code",
      "source": [
        "arr_1.reshape(1,-1)"
      ],
      "metadata": {
        "colab": {
          "base_uri": "https://localhost:8080/"
        },
        "id": "_R_5JmAlMLC0",
        "outputId": "7f170087-8d47-47b2-a1cd-501d022e2a48"
      },
      "id": "_R_5JmAlMLC0",
      "execution_count": null,
      "outputs": [
        {
          "output_type": "execute_result",
          "data": {
            "text/plain": [
              "array([[0, 1, 2, 3, 4, 5, 6, 7]])"
            ]
          },
          "metadata": {},
          "execution_count": 233
        }
      ]
    },
    {
      "cell_type": "code",
      "source": [
        "arr_1.reshape(1,-1).shape"
      ],
      "metadata": {
        "colab": {
          "base_uri": "https://localhost:8080/"
        },
        "id": "Ns2Wt0GKMgFi",
        "outputId": "a78fad75-f7c3-4e63-ab0e-4113c512fd85"
      },
      "id": "Ns2Wt0GKMgFi",
      "execution_count": null,
      "outputs": [
        {
          "output_type": "execute_result",
          "data": {
            "text/plain": [
              "(1, 8)"
            ]
          },
          "metadata": {},
          "execution_count": 235
        }
      ]
    },
    {
      "cell_type": "code",
      "source": [
        "arr_1.reshape(1,-1).T"
      ],
      "metadata": {
        "colab": {
          "base_uri": "https://localhost:8080/"
        },
        "id": "EYpZn_yKMSdD",
        "outputId": "5f6f842c-18ee-414e-d975-b16f2c143a7d"
      },
      "id": "EYpZn_yKMSdD",
      "execution_count": null,
      "outputs": [
        {
          "output_type": "execute_result",
          "data": {
            "text/plain": [
              "array([[0],\n",
              "       [1],\n",
              "       [2],\n",
              "       [3],\n",
              "       [4],\n",
              "       [5],\n",
              "       [6],\n",
              "       [7]])"
            ]
          },
          "metadata": {},
          "execution_count": 234
        }
      ]
    },
    {
      "cell_type": "code",
      "source": [
        "arr_1.reshape(1,-1).T.shape"
      ],
      "metadata": {
        "colab": {
          "base_uri": "https://localhost:8080/"
        },
        "id": "7DCa4WT2Mdqe",
        "outputId": "7de60f07-9994-4dce-b145-8229ea9af701"
      },
      "id": "7DCa4WT2Mdqe",
      "execution_count": null,
      "outputs": [
        {
          "output_type": "execute_result",
          "data": {
            "text/plain": [
              "(8, 1)"
            ]
          },
          "metadata": {},
          "execution_count": 236
        }
      ]
    },
    {
      "cell_type": "code",
      "source": [
        "arr = np.random.randn(5,4)"
      ],
      "metadata": {
        "id": "DnGAl0fFMict"
      },
      "id": "DnGAl0fFMict",
      "execution_count": null,
      "outputs": []
    },
    {
      "cell_type": "code",
      "source": [
        "# 평균\n",
        "arr.mean()"
      ],
      "metadata": {
        "colab": {
          "base_uri": "https://localhost:8080/"
        },
        "id": "Q7rGTb9HP-4t",
        "outputId": "6a1ad055-bb65-4a84-dd86-09db1837cd4d"
      },
      "id": "Q7rGTb9HP-4t",
      "execution_count": null,
      "outputs": [
        {
          "output_type": "execute_result",
          "data": {
            "text/plain": [
              "0.1484902142190408"
            ]
          },
          "metadata": {},
          "execution_count": 239
        }
      ]
    },
    {
      "cell_type": "code",
      "source": [
        "arr.sum()"
      ],
      "metadata": {
        "colab": {
          "base_uri": "https://localhost:8080/"
        },
        "id": "kLtDsoOiP_UW",
        "outputId": "e450616b-6162-47a3-ccbf-b7d5f58032ba"
      },
      "id": "kLtDsoOiP_UW",
      "execution_count": null,
      "outputs": [
        {
          "output_type": "execute_result",
          "data": {
            "text/plain": [
              "2.9698042843808157"
            ]
          },
          "metadata": {},
          "execution_count": 240
        }
      ]
    },
    {
      "cell_type": "code",
      "source": [
        "# axis = 0 가로 \n",
        "# axis = 1 세로"
      ],
      "metadata": {
        "id": "IJHRxM0AQQuk"
      },
      "id": "IJHRxM0AQQuk",
      "execution_count": null,
      "outputs": []
    },
    {
      "cell_type": "code",
      "source": [
        "arr.shape"
      ],
      "metadata": {
        "colab": {
          "base_uri": "https://localhost:8080/"
        },
        "id": "hBEua_cQQIvl",
        "outputId": "faceac15-3837-43d1-f3a7-bf9931693b73"
      },
      "id": "hBEua_cQQIvl",
      "execution_count": null,
      "outputs": [
        {
          "output_type": "execute_result",
          "data": {
            "text/plain": [
              "(5, 4)"
            ]
          },
          "metadata": {},
          "execution_count": 242
        }
      ]
    },
    {
      "cell_type": "code",
      "source": [
        "arr"
      ],
      "metadata": {
        "colab": {
          "base_uri": "https://localhost:8080/"
        },
        "id": "0TCrWWBiQMFn",
        "outputId": "8be11016-e853-4e06-be28-85d61b5ce407"
      },
      "id": "0TCrWWBiQMFn",
      "execution_count": null,
      "outputs": [
        {
          "output_type": "execute_result",
          "data": {
            "text/plain": [
              "array([[-1.13577487,  0.4381739 , -0.1279439 ,  1.21056427],\n",
              "       [-0.81326855,  0.07864727, -2.34015776,  0.31316436],\n",
              "       [ 0.42476862,  0.22568741, -0.96123996,  0.70962764],\n",
              "       [-0.74572584,  2.31825302,  0.5088185 ,  0.29271627],\n",
              "       [ 0.58354868,  0.61293292,  0.69203099,  0.6849813 ]])"
            ]
          },
          "metadata": {},
          "execution_count": 243
        }
      ]
    },
    {
      "cell_type": "code",
      "source": [
        "arr.mean(axis = 0)"
      ],
      "metadata": {
        "colab": {
          "base_uri": "https://localhost:8080/"
        },
        "id": "BYxJMxoWQa4K",
        "outputId": "9a752fee-af34-4e6e-9801-5eea7485be4d"
      },
      "id": "BYxJMxoWQa4K",
      "execution_count": null,
      "outputs": [
        {
          "output_type": "execute_result",
          "data": {
            "text/plain": [
              "array([-0.33729039,  0.7347389 , -0.44569843,  0.64221077])"
            ]
          },
          "metadata": {},
          "execution_count": 244
        }
      ]
    },
    {
      "cell_type": "code",
      "source": [
        "arr.mean(axis = 1)"
      ],
      "metadata": {
        "colab": {
          "base_uri": "https://localhost:8080/"
        },
        "id": "6R80HaZ7QruI",
        "outputId": "ebdae133-ec0f-483d-c552-0dbbc271f0d5"
      },
      "id": "6R80HaZ7QruI",
      "execution_count": null,
      "outputs": [
        {
          "output_type": "execute_result",
          "data": {
            "text/plain": [
              "array([ 0.09625485, -0.69040367,  0.09971093,  0.59351549,  0.64337347])"
            ]
          },
          "metadata": {},
          "execution_count": 245
        }
      ]
    },
    {
      "cell_type": "code",
      "source": [
        "arr.sum(axis = 0)"
      ],
      "metadata": {
        "colab": {
          "base_uri": "https://localhost:8080/"
        },
        "id": "Ut-NM7QYQ7Op",
        "outputId": "04ae4025-c39c-4d2a-9904-12def1f65cf4"
      },
      "id": "Ut-NM7QYQ7Op",
      "execution_count": null,
      "outputs": [
        {
          "output_type": "execute_result",
          "data": {
            "text/plain": [
              "array([-1.68645196,  3.67369452, -2.22849213,  3.21105385])"
            ]
          },
          "metadata": {},
          "execution_count": 246
        }
      ]
    },
    {
      "cell_type": "code",
      "source": [
        "arr.sum(axis = 1)"
      ],
      "metadata": {
        "colab": {
          "base_uri": "https://localhost:8080/"
        },
        "id": "bjYmmRo5RByG",
        "outputId": "776db694-e4e2-425c-9f86-29a0df8ac19d"
      },
      "id": "bjYmmRo5RByG",
      "execution_count": null,
      "outputs": [
        {
          "output_type": "execute_result",
          "data": {
            "text/plain": [
              "array([ 0.3850194 , -2.76161468,  0.39884371,  2.37406196,  2.57349389])"
            ]
          },
          "metadata": {},
          "execution_count": 247
        }
      ]
    },
    {
      "cell_type": "code",
      "source": [
        "arr_1 = np.arange(10)"
      ],
      "metadata": {
        "id": "yqDF4x29RDvr"
      },
      "id": "yqDF4x29RDvr",
      "execution_count": null,
      "outputs": []
    },
    {
      "cell_type": "code",
      "source": [
        "arr_1.cumsum()"
      ],
      "metadata": {
        "id": "qAD6isdPRX4C"
      },
      "id": "qAD6isdPRX4C",
      "execution_count": null,
      "outputs": []
    },
    {
      "cell_type": "code",
      "source": [
        "arr_1 = arr_1.reshape(2,5)"
      ],
      "metadata": {
        "id": "M0Dwm9pURTLp"
      },
      "id": "M0Dwm9pURTLp",
      "execution_count": null,
      "outputs": []
    },
    {
      "cell_type": "code",
      "source": [
        "# arr_1.T.mean(axis = 0)\n",
        "arr_1.mean(axis = 1)"
      ],
      "metadata": {
        "colab": {
          "base_uri": "https://localhost:8080/"
        },
        "id": "ENxPQMYjRLXa",
        "outputId": "6f29d903-907c-448b-fd00-6b7c192d4fa7"
      },
      "id": "ENxPQMYjRLXa",
      "execution_count": null,
      "outputs": [
        {
          "output_type": "execute_result",
          "data": {
            "text/plain": [
              "array([2., 7.])"
            ]
          },
          "metadata": {},
          "execution_count": 255
        }
      ]
    },
    {
      "cell_type": "code",
      "source": [
        "arr_1.mean(axis = 0)"
      ],
      "metadata": {
        "colab": {
          "base_uri": "https://localhost:8080/"
        },
        "id": "mpkceoRCRRIo",
        "outputId": "03c6725b-344a-40f8-8712-0bde7c96eed1"
      },
      "id": "mpkceoRCRRIo",
      "execution_count": null,
      "outputs": [
        {
          "output_type": "execute_result",
          "data": {
            "text/plain": [
              "array([2.5, 3.5, 4.5, 5.5, 6.5])"
            ]
          },
          "metadata": {},
          "execution_count": 256
        }
      ]
    },
    {
      "cell_type": "code",
      "source": [
        "# 블리언 메소드\n",
        "# 양수인 원소들의 개수\n",
        "(arr>0).sum()"
      ],
      "metadata": {
        "colab": {
          "base_uri": "https://localhost:8080/"
        },
        "id": "sxut3bQjRcSe",
        "outputId": "cb3401e6-5256-4def-ff24-c7a4814b6b3a"
      },
      "id": "sxut3bQjRcSe",
      "execution_count": null,
      "outputs": [
        {
          "output_type": "execute_result",
          "data": {
            "text/plain": [
              "14"
            ]
          },
          "metadata": {},
          "execution_count": 258
        }
      ]
    },
    {
      "cell_type": "code",
      "source": [
        "# 정렬 \n",
        "# sort()"
      ],
      "metadata": {
        "id": "iWM-bd0IRzqb"
      },
      "id": "iWM-bd0IRzqb",
      "execution_count": null,
      "outputs": []
    },
    {
      "cell_type": "code",
      "source": [
        "arr_2 = np.random.rand(6)"
      ],
      "metadata": {
        "id": "INsulJgZSqzR"
      },
      "id": "INsulJgZSqzR",
      "execution_count": null,
      "outputs": []
    },
    {
      "cell_type": "code",
      "source": [
        "arr_2.sort()"
      ],
      "metadata": {
        "id": "WcCD33OZSvFt"
      },
      "id": "WcCD33OZSvFt",
      "execution_count": null,
      "outputs": []
    },
    {
      "cell_type": "code",
      "source": [
        "arr_2"
      ],
      "metadata": {
        "colab": {
          "base_uri": "https://localhost:8080/"
        },
        "id": "5T_8yOVkSxR3",
        "outputId": "995f595f-b022-4d5e-c252-17209b0057ba"
      },
      "id": "5T_8yOVkSxR3",
      "execution_count": null,
      "outputs": [
        {
          "output_type": "execute_result",
          "data": {
            "text/plain": [
              "array([0.05042024, 0.23558475, 0.40542688, 0.53523076, 0.71897607,\n",
              "       0.90775773])"
            ]
          },
          "metadata": {},
          "execution_count": 268
        }
      ]
    },
    {
      "cell_type": "code",
      "source": [
        "# https://numpy.org/doc/stable/reference/generated/numpy.sort.html\n",
        "# 내림차순 오름차순 기능은 따로 없다. \n",
        "arr_2.sort()"
      ],
      "metadata": {
        "id": "loQyhTQLS0IQ"
      },
      "id": "loQyhTQLS0IQ",
      "execution_count": null,
      "outputs": []
    },
    {
      "cell_type": "code",
      "source": [
        "# 배열 붙이기\n",
        "# concatenate()\n",
        "arr_1 = np.array(([11,12,13], [14,15,16]))\n",
        "arr_2 = np.array(([21,22,23], [24,25,26]))"
      ],
      "metadata": {
        "id": "ZQO1pUfAS3Zi"
      },
      "id": "ZQO1pUfAS3Zi",
      "execution_count": null,
      "outputs": []
    },
    {
      "cell_type": "code",
      "source": [
        "# 브로드 캐스팅\n",
        "np.concatenate([arr_1, arr_2], axis =0)"
      ],
      "metadata": {
        "colab": {
          "base_uri": "https://localhost:8080/"
        },
        "id": "MRUEVt9TTjkI",
        "outputId": "efcd053b-0c48-4b5a-91e5-42dadd4bd71b"
      },
      "id": "MRUEVt9TTjkI",
      "execution_count": null,
      "outputs": [
        {
          "output_type": "execute_result",
          "data": {
            "text/plain": [
              "array([[11, 12, 13],\n",
              "       [14, 15, 16],\n",
              "       [21, 22, 23],\n",
              "       [24, 25, 26]])"
            ]
          },
          "metadata": {},
          "execution_count": 272
        }
      ]
    },
    {
      "cell_type": "code",
      "source": [
        "np.concatenate([arr_1, arr_2], axis = 1)"
      ],
      "metadata": {
        "colab": {
          "base_uri": "https://localhost:8080/"
        },
        "id": "3-cIhaRkUDCR",
        "outputId": "ea020e63-48c5-4015-c77a-a1950efd75b2"
      },
      "id": "3-cIhaRkUDCR",
      "execution_count": null,
      "outputs": [
        {
          "output_type": "execute_result",
          "data": {
            "text/plain": [
              "array([[11, 12, 13, 21, 22, 23],\n",
              "       [14, 15, 16, 24, 25, 26]])"
            ]
          },
          "metadata": {},
          "execution_count": 273
        }
      ]
    },
    {
      "cell_type": "code",
      "source": [
        "# 브로드 캐스팅\n",
        "# - 다른모양의 배열간의 산술 연산을 가능해주도록 한다. "
      ],
      "metadata": {
        "id": "sUexrvGRUJBb"
      },
      "id": "sUexrvGRUJBb",
      "execution_count": null,
      "outputs": []
    },
    {
      "cell_type": "code",
      "source": [
        "arr_3 = np.arange(12).reshape(4,3)"
      ],
      "metadata": {
        "id": "yGFn1iWgUToI"
      },
      "id": "yGFn1iWgUToI",
      "execution_count": null,
      "outputs": []
    },
    {
      "cell_type": "code",
      "source": [
        "arr_3"
      ],
      "metadata": {
        "colab": {
          "base_uri": "https://localhost:8080/"
        },
        "id": "2qLhZdAnUbZ9",
        "outputId": "2636862f-b3bc-4b47-bf44-62937a06aa78"
      },
      "id": "2qLhZdAnUbZ9",
      "execution_count": null,
      "outputs": [
        {
          "output_type": "execute_result",
          "data": {
            "text/plain": [
              "array([[ 0,  1,  2],\n",
              "       [ 3,  4,  5],\n",
              "       [ 6,  7,  8],\n",
              "       [ 9, 10, 11]])"
            ]
          },
          "metadata": {},
          "execution_count": 280
        }
      ]
    },
    {
      "cell_type": "code",
      "source": [
        "arr_4 = np.array([1,2,3])"
      ],
      "metadata": {
        "id": "mNtog9dhUcOP"
      },
      "id": "mNtog9dhUcOP",
      "execution_count": null,
      "outputs": []
    },
    {
      "cell_type": "code",
      "source": [
        "arr_4.shape"
      ],
      "metadata": {
        "colab": {
          "base_uri": "https://localhost:8080/"
        },
        "id": "agnHF53zUnqA",
        "outputId": "75efa7b4-8dc6-4cc3-8622-9ca54039fbfd"
      },
      "id": "agnHF53zUnqA",
      "execution_count": null,
      "outputs": [
        {
          "output_type": "execute_result",
          "data": {
            "text/plain": [
              "(3,)"
            ]
          },
          "metadata": {},
          "execution_count": 282
        }
      ]
    },
    {
      "cell_type": "code",
      "source": [
        "arr_3 + arr_4"
      ],
      "metadata": {
        "colab": {
          "base_uri": "https://localhost:8080/"
        },
        "id": "1xe2NPpLUp4b",
        "outputId": "ad33ea24-1d94-49cf-f563-cb33b7ba39f5"
      },
      "id": "1xe2NPpLUp4b",
      "execution_count": null,
      "outputs": [
        {
          "output_type": "execute_result",
          "data": {
            "text/plain": [
              "array([[ 1,  3,  5],\n",
              "       [ 4,  6,  8],\n",
              "       [ 7,  9, 11],\n",
              "       [10, 12, 14]])"
            ]
          },
          "metadata": {},
          "execution_count": 284
        }
      ]
    },
    {
      "cell_type": "code",
      "source": [
        "arr_5 = np.array([[1],[2],[3],[4]])"
      ],
      "metadata": {
        "id": "3ZTUci_sU0ex"
      },
      "id": "3ZTUci_sU0ex",
      "execution_count": null,
      "outputs": []
    },
    {
      "cell_type": "code",
      "source": [
        "arr_3 + arr_5"
      ],
      "metadata": {
        "colab": {
          "base_uri": "https://localhost:8080/"
        },
        "id": "f6_WHYKuVAx0",
        "outputId": "86408b98-8a89-4842-94b1-9f3aec2bca89"
      },
      "id": "f6_WHYKuVAx0",
      "execution_count": null,
      "outputs": [
        {
          "output_type": "execute_result",
          "data": {
            "text/plain": [
              "array([[ 1,  2,  3],\n",
              "       [ 5,  6,  7],\n",
              "       [ 9, 10, 11],\n",
              "       [13, 14, 15]])"
            ]
          },
          "metadata": {},
          "execution_count": 287
        }
      ]
    },
    {
      "cell_type": "markdown",
      "source": [
        ""
      ],
      "metadata": {
        "id": "0CkPpdpIVJIr"
      },
      "id": "0CkPpdpIVJIr"
    },
    {
      "cell_type": "code",
      "source": [
        ""
      ],
      "metadata": {
        "id": "WV_DE75AVF5z"
      },
      "id": "WV_DE75AVF5z",
      "execution_count": null,
      "outputs": []
    }
  ],
  "metadata": {
    "kernelspec": {
      "display_name": "Python 3 (ipykernel)",
      "language": "python",
      "name": "python3"
    },
    "language_info": {
      "codemirror_mode": {
        "name": "ipython",
        "version": 3
      },
      "file_extension": ".py",
      "mimetype": "text/x-python",
      "name": "python",
      "nbconvert_exporter": "python",
      "pygments_lexer": "ipython3",
      "version": "3.9.12"
    },
    "colab": {
      "name": "01_numpy.ipynb",
      "provenance": [],
      "collapsed_sections": [],
      "include_colab_link": true
    }
  },
  "nbformat": 4,
  "nbformat_minor": 5
}