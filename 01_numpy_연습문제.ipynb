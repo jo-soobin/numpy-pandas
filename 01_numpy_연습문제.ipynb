{
  "cells": [
    {
      "cell_type": "markdown",
      "metadata": {
        "id": "view-in-github",
        "colab_type": "text"
      },
      "source": [
        "<a href=\"https://colab.research.google.com/github/jo-soobin/numpy-pandas/blob/master/01_numpy_%EC%97%B0%EC%8A%B5%EB%AC%B8%EC%A0%9C.ipynb\" target=\"_parent\"><img src=\"https://colab.research.google.com/assets/colab-badge.svg\" alt=\"Open In Colab\"/></a>"
      ]
    },
    {
      "cell_type": "markdown",
      "metadata": {
        "id": "4z9zG6X8CI7U"
      },
      "source": [
        "#### 11.1 자신의 컴퓨터에 numpy을 설치하자. 그리고 NumPy의 버전을 출력해 보자. 밑줄 친 부분에 출력된 내용을 적으시오.\n",
        "\n"
      ]
    },
    {
      "cell_type": "code",
      "execution_count": null,
      "metadata": {
        "colab": {
          "base_uri": "https://localhost:8080/",
          "height": 35
        },
        "id": "QTtiuUqzh0Wm",
        "outputId": "c9083c22-6bc0-4689-d0f7-872a4e1cbdf9"
      },
      "outputs": [
        {
          "output_type": "execute_result",
          "data": {
            "text/plain": [
              "'1.21.6'"
            ],
            "application/vnd.google.colaboratory.intrinsic+json": {
              "type": "string"
            }
          },
          "metadata": {},
          "execution_count": 1
        }
      ],
      "source": [
        "import numpy as np\n",
        "np.__version__"
      ]
    },
    {
      "cell_type": "markdown",
      "metadata": {
        "id": "q4_TS0zsCYFA"
      },
      "source": [
        "#### 11.2 크기가 10인 1차원 배열을 생성하여라. 이 배열의 모든 원소는 0 값을 가진다.\n",
        "##### 1) 0을 10번 입력하여 이 배열 a를 생성하여라. 그리고 이 배열 a를 출력하여라."
      ]
    },
    {
      "cell_type": "code",
      "execution_count": null,
      "metadata": {
        "id": "PUJSVYw_h0Wo"
      },
      "outputs": [],
      "source": [
        "a = np.array([0,0,0,0,0,0,0,0,0,0])"
      ]
    },
    {
      "cell_type": "code",
      "source": [
        "a.shape"
      ],
      "metadata": {
        "colab": {
          "base_uri": "https://localhost:8080/"
        },
        "id": "tgY-NJbdiSeK",
        "outputId": "376d7071-aec2-4dbd-c460-5dd1861221cf"
      },
      "execution_count": null,
      "outputs": [
        {
          "output_type": "execute_result",
          "data": {
            "text/plain": [
              "(10,)"
            ]
          },
          "metadata": {},
          "execution_count": 3
        }
      ]
    },
    {
      "cell_type": "markdown",
      "metadata": {
        "id": "8NaIVrTeCqC5"
      },
      "source": [
        "##### 2) np.zeros() 함수를 사용하여 배열 b를 생성하여라. 이 배열을 b를 출력하여라."
      ]
    },
    {
      "cell_type": "code",
      "execution_count": null,
      "metadata": {
        "id": "r7tLYFRgh0Wp"
      },
      "outputs": [],
      "source": [
        "b = np.zeros(10)"
      ]
    },
    {
      "cell_type": "code",
      "source": [
        "b_1 = np.full(10, 0)"
      ],
      "metadata": {
        "id": "7dyJvec2if1p"
      },
      "execution_count": null,
      "outputs": []
    },
    {
      "cell_type": "code",
      "source": [
        "b_1"
      ],
      "metadata": {
        "colab": {
          "base_uri": "https://localhost:8080/"
        },
        "id": "hEyveyN_ilug",
        "outputId": "b029f1f7-e1e9-4407-8f82-6c72c4fb489f"
      },
      "execution_count": null,
      "outputs": [
        {
          "output_type": "execute_result",
          "data": {
            "text/plain": [
              "array([0, 0, 0, 0, 0, 0, 0, 0, 0, 0])"
            ]
          },
          "metadata": {},
          "execution_count": 6
        }
      ]
    },
    {
      "cell_type": "markdown",
      "metadata": {
        "id": "FlV75ktVG78g"
      },
      "source": [
        "##### 3) 배열 a와 배열 b의 형을 출력하고 그 결과를 밑줄 친 부분에 적으시오."
      ]
    },
    {
      "cell_type": "code",
      "execution_count": null,
      "metadata": {
        "colab": {
          "base_uri": "https://localhost:8080/"
        },
        "id": "KhBSAOZGh0Wq",
        "outputId": "ea441e4d-f2d8-473d-cbbc-d07d2690816b"
      },
      "outputs": [
        {
          "output_type": "stream",
          "name": "stdout",
          "text": [
            "<class 'numpy.ndarray'>\n",
            "<class 'numpy.ndarray'>\n"
          ]
        }
      ],
      "source": [
        "print(type(a))\n",
        "print(type(b))"
      ]
    },
    {
      "cell_type": "markdown",
      "metadata": {
        "id": "-CYYuu2HC5HK"
      },
      "source": [
        "#### 11.3 1에서 10까지 값을 가지는 크기가 10인 1차원 배열 n_arr을 생성하여라. 이 배열이 메모리에서 차지하는 크기는 얼마인가? 다음의 밑줄 친 부분에 알맞은 코드를 입력하여 다음과 같이 바이트 단위로 출력하여라(힌트 : itemsize와 size 속성 값을 곱한다)."
      ]
    },
    {
      "cell_type": "code",
      "execution_count": null,
      "metadata": {
        "id": "dxJug2m5h0Wr"
      },
      "outputs": [],
      "source": [
        "n_arr = np.array([1,2,3,4,5,6,7,8,9,10], dtype=np.float64)"
      ]
    },
    {
      "cell_type": "code",
      "source": [
        "n_arr.itemsize"
      ],
      "metadata": {
        "colab": {
          "base_uri": "https://localhost:8080/"
        },
        "id": "HiOQ1Gx-i_yY",
        "outputId": "c15fa014-a8f1-4116-a0e1-f845b0850813"
      },
      "execution_count": null,
      "outputs": [
        {
          "output_type": "execute_result",
          "data": {
            "text/plain": [
              "8"
            ]
          },
          "metadata": {},
          "execution_count": 9
        }
      ]
    },
    {
      "cell_type": "code",
      "source": [
        "n_arr.itemsize * n_arr.size"
      ],
      "metadata": {
        "colab": {
          "base_uri": "https://localhost:8080/"
        },
        "id": "WNZpJCIajapD",
        "outputId": "1753232c-4887-4266-f659-f744d590e784"
      },
      "execution_count": null,
      "outputs": [
        {
          "output_type": "execute_result",
          "data": {
            "text/plain": [
              "80"
            ]
          },
          "metadata": {},
          "execution_count": 10
        }
      ]
    },
    {
      "cell_type": "code",
      "source": [
        "n_arr = np.array([1,2,3,4,5,6,7,8,9,10], dtype=np.int32)"
      ],
      "metadata": {
        "id": "K1vDL71PjT7c"
      },
      "execution_count": null,
      "outputs": []
    },
    {
      "cell_type": "code",
      "source": [
        "n_arr.itemsize * n_arr.size"
      ],
      "metadata": {
        "colab": {
          "base_uri": "https://localhost:8080/"
        },
        "id": "m6io7xUEjXFB",
        "outputId": "89ee75f3-05f8-416f-cce2-5e09b5585f61"
      },
      "execution_count": null,
      "outputs": [
        {
          "output_type": "execute_result",
          "data": {
            "text/plain": [
              "40"
            ]
          },
          "metadata": {},
          "execution_count": 12
        }
      ]
    },
    {
      "cell_type": "markdown",
      "metadata": {
        "id": "dQ73jGsiKz-M"
      },
      "source": [
        "#### 11.4 1에서 10까지의 정수 값을 가지는 크기가 10인 1차원 배열 a를 arange() 함수를 사용하여 생성하여 출력하여라.\n",
        "##### 1) 다음과 같이 출력하여라."
      ]
    },
    {
      "cell_type": "code",
      "execution_count": null,
      "metadata": {
        "id": "9Q6O8fRUh0Wt"
      },
      "outputs": [],
      "source": [
        "a = np.arange(1,11)"
      ]
    },
    {
      "cell_type": "code",
      "source": [
        "print(a)"
      ],
      "metadata": {
        "colab": {
          "base_uri": "https://localhost:8080/"
        },
        "id": "MG_qVRETj0YN",
        "outputId": "b75f24cf-87fc-4447-d937-d76438020338"
      },
      "execution_count": null,
      "outputs": [
        {
          "output_type": "stream",
          "name": "stdout",
          "text": [
            "[ 1  2  3  4  5  6  7  8  9 10]\n"
          ]
        }
      ]
    },
    {
      "cell_type": "markdown",
      "metadata": {
        "id": "hU6km93ILBxm"
      },
      "source": [
        "##### 2) 다음과 같이 역순으로 출력하여라."
      ]
    },
    {
      "cell_type": "code",
      "execution_count": null,
      "metadata": {
        "id": "a4b4salDh0Wt"
      },
      "outputs": [],
      "source": [
        "a = a[::-1]\n",
        "# a[11::-1]"
      ]
    },
    {
      "cell_type": "markdown",
      "metadata": {
        "id": "gifJG8UhMob5"
      },
      "source": [
        "##### 3) 2)의 결과에 reshape()함수를 사용하여, 배열 a를 (2,5) 형태의 다음과 같은 행렬로 변경하여 출력하여라."
      ]
    },
    {
      "cell_type": "code",
      "execution_count": null,
      "metadata": {
        "id": "VuFIVArwh0Wu"
      },
      "outputs": [],
      "source": [
        "a = a.reshape(2,5)"
      ]
    },
    {
      "cell_type": "code",
      "source": [
        "print(a)"
      ],
      "metadata": {
        "id": "fnNHz1a2kSHP",
        "colab": {
          "base_uri": "https://localhost:8080/"
        },
        "outputId": "049cac31-a896-480c-e298-d16e572d71eb"
      },
      "execution_count": null,
      "outputs": [
        {
          "output_type": "stream",
          "name": "stdout",
          "text": [
            "[[10  9  8  7  6]\n",
            " [ 5  4  3  2  1]]\n"
          ]
        }
      ]
    },
    {
      "cell_type": "markdown",
      "metadata": {
        "id": "pSsVsKgUMrpN"
      },
      "source": [
        "##### 4) 3)의 결과에 reshape()함수를 사용하여, 배열 a를 (5, 2) 형태의 다음과 같은 행렬로 변경하여 출력하여라."
      ]
    },
    {
      "cell_type": "code",
      "execution_count": null,
      "metadata": {
        "id": "BsRRRtWmh0Wu"
      },
      "outputs": [],
      "source": [
        "a = a.reshape(5,2)"
      ]
    },
    {
      "cell_type": "code",
      "source": [
        "print(a)"
      ],
      "metadata": {
        "id": "BbmzkImVkQ6I",
        "colab": {
          "base_uri": "https://localhost:8080/"
        },
        "outputId": "1f54061d-fbfb-4fb2-e7c4-5beec65e565d"
      },
      "execution_count": null,
      "outputs": [
        {
          "output_type": "stream",
          "name": "stdout",
          "text": [
            "[[10  9]\n",
            " [ 8  7]\n",
            " [ 6  5]\n",
            " [ 4  3]\n",
            " [ 2  1]]\n"
          ]
        }
      ]
    },
    {
      "cell_type": "markdown",
      "metadata": {
        "id": "P8QINWA3OxPa"
      },
      "source": [
        "#### 11.5 1에서 16까지의 정수값을 가지는 4x4 크기의 배열을 만들어서 다음과 같이 출력하시오. 이 때 arange()와 reshape()을 이용하여 배열을 생성하시오."
      ]
    },
    {
      "cell_type": "code",
      "execution_count": null,
      "metadata": {
        "colab": {
          "base_uri": "https://localhost:8080/"
        },
        "id": "r0GXErbnh0Wv",
        "outputId": "46a17fb1-bfda-428e-a6e4-990f3105f3b6"
      },
      "outputs": [
        {
          "output_type": "execute_result",
          "data": {
            "text/plain": [
              "array([[ 1,  2,  3,  4],\n",
              "       [ 5,  6,  7,  8],\n",
              "       [ 9, 10, 11, 12],\n",
              "       [13, 14, 15, 16]])"
            ]
          },
          "metadata": {},
          "execution_count": 20
        }
      ],
      "source": [
        "np.arange(1,17).reshape(4,4)"
      ]
    },
    {
      "cell_type": "markdown",
      "metadata": {
        "id": "BvJISTn6PoH1"
      },
      "source": [
        "#### 11.6 random.random() 함수를 사용하여 10개의 난수값을 생성하여 다음과 같이 출력하시오. 그리고 이 수들 중에서 최댓값, 최솟값, 평균값을 각각 출력하시오."
      ]
    },
    {
      "cell_type": "code",
      "execution_count": null,
      "metadata": {
        "id": "9VzFqQ2sh0Wv"
      },
      "outputs": [],
      "source": [
        "np.random.seed(1) # random 이지만 random seed를 고정하면 random 이 아니라\n",
        "a = np.random.random(10)"
      ]
    },
    {
      "cell_type": "code",
      "source": [
        "print(a.max()) #최대\n",
        "print(a.min()) #최소\n",
        "print(a.mean()) #평균\n"
      ],
      "metadata": {
        "colab": {
          "base_uri": "https://localhost:8080/"
        },
        "id": "Za31hYtYk3Ph",
        "outputId": "ce4aba33-f4e6-4949-9009-1e047704a432"
      },
      "execution_count": null,
      "outputs": [
        {
          "output_type": "stream",
          "name": "stdout",
          "text": [
            "0.7203244934421581\n",
            "0.00011437481734488664\n",
            "0.3146293077834573\n"
          ]
        }
      ]
    },
    {
      "cell_type": "markdown",
      "metadata": {
        "id": "RX-feLxxvMRg"
      },
      "source": [
        "#### 11.7 사용자로부터 2이상의 수 n을 입력으로 받아서, 입력된 수를 바탕으로 다음과 같은 nxn 크기의 다차원 배열 a를 생성하는 프로그램을 작성하시오. 이 때 배열의 내용은 0과 1의 값이 체크 판 패턴으로 교차하여 나타나도록 하여라."
      ]
    },
    {
      "cell_type": "code",
      "execution_count": null,
      "metadata": {
        "colab": {
          "base_uri": "https://localhost:8080/"
        },
        "id": "y_YT5a9Nh0Wv",
        "outputId": "fd3e6f4d-7302-423f-b8f0-0315af74dd57"
      },
      "outputs": [
        {
          "output_type": "stream",
          "name": "stdout",
          "text": [
            "n : 10\n",
            "[[1 0 1 0 1 0 1 0 1 0]\n",
            " [0 1 0 1 0 1 0 1 0 1]\n",
            " [1 0 1 0 1 0 1 0 1 0]\n",
            " [0 1 0 1 0 1 0 1 0 1]\n",
            " [1 0 1 0 1 0 1 0 1 0]\n",
            " [0 1 0 1 0 1 0 1 0 1]\n",
            " [1 0 1 0 1 0 1 0 1 0]\n",
            " [0 1 0 1 0 1 0 1 0 1]\n",
            " [1 0 1 0 1 0 1 0 1 0]\n",
            " [0 1 0 1 0 1 0 1 0 1]]\n"
          ]
        }
      ],
      "source": [
        "n = int(input(\"n : \"))\n",
        "arr_1 = np.full((n,n), 0)\n",
        "for i in range(n):\n",
        "  for j in range(n):\n",
        "    if (i +j) % 2 ==0:\n",
        "      arr_1[i, j] = 1\n",
        "print(arr_1)"
      ]
    },
    {
      "cell_type": "code",
      "source": [
        ""
      ],
      "metadata": {
        "id": "7LAJ_mzMnnR9"
      },
      "execution_count": null,
      "outputs": []
    },
    {
      "cell_type": "code",
      "source": [
        "arr_1[0,0] = 1"
      ],
      "metadata": {
        "id": "DKEenvMsm1_B"
      },
      "execution_count": null,
      "outputs": []
    },
    {
      "cell_type": "code",
      "source": [
        "arr_1"
      ],
      "metadata": {
        "colab": {
          "base_uri": "https://localhost:8080/"
        },
        "id": "9nlpqQhznB3b",
        "outputId": "140db63e-7773-4c31-f165-602f7956c7a9"
      },
      "execution_count": null,
      "outputs": [
        {
          "output_type": "execute_result",
          "data": {
            "text/plain": [
              "array([[1, 0, 1, 0, 1, 0, 1, 0, 1, 0],\n",
              "       [0, 1, 0, 1, 0, 1, 0, 1, 0, 1],\n",
              "       [1, 0, 1, 0, 1, 0, 1, 0, 1, 0],\n",
              "       [0, 1, 0, 1, 0, 1, 0, 1, 0, 1],\n",
              "       [1, 0, 1, 0, 1, 0, 1, 0, 1, 0],\n",
              "       [0, 1, 0, 1, 0, 1, 0, 1, 0, 1],\n",
              "       [1, 0, 1, 0, 1, 0, 1, 0, 1, 0],\n",
              "       [0, 1, 0, 1, 0, 1, 0, 1, 0, 1],\n",
              "       [1, 0, 1, 0, 1, 0, 1, 0, 1, 0],\n",
              "       [0, 1, 0, 1, 0, 1, 0, 1, 0, 1]])"
            ]
          },
          "metadata": {},
          "execution_count": 25
        }
      ]
    },
    {
      "cell_type": "code",
      "source": [
        "arr_1[0,2] = 1"
      ],
      "metadata": {
        "id": "t2yRxlBgnDU3"
      },
      "execution_count": null,
      "outputs": []
    },
    {
      "cell_type": "code",
      "source": [
        "arr_1"
      ],
      "metadata": {
        "colab": {
          "base_uri": "https://localhost:8080/"
        },
        "id": "C4YUrR2AnIVu",
        "outputId": "1dfe4914-6a09-4427-ac86-24e67896c68c"
      },
      "execution_count": null,
      "outputs": [
        {
          "output_type": "execute_result",
          "data": {
            "text/plain": [
              "array([[1, 0, 1, 0, 1, 0, 1, 0, 1, 0],\n",
              "       [0, 1, 0, 1, 0, 1, 0, 1, 0, 1],\n",
              "       [1, 0, 1, 0, 1, 0, 1, 0, 1, 0],\n",
              "       [0, 1, 0, 1, 0, 1, 0, 1, 0, 1],\n",
              "       [1, 0, 1, 0, 1, 0, 1, 0, 1, 0],\n",
              "       [0, 1, 0, 1, 0, 1, 0, 1, 0, 1],\n",
              "       [1, 0, 1, 0, 1, 0, 1, 0, 1, 0],\n",
              "       [0, 1, 0, 1, 0, 1, 0, 1, 0, 1],\n",
              "       [1, 0, 1, 0, 1, 0, 1, 0, 1, 0],\n",
              "       [0, 1, 0, 1, 0, 1, 0, 1, 0, 1]])"
            ]
          },
          "metadata": {},
          "execution_count": 27
        }
      ]
    },
    {
      "cell_type": "code",
      "source": [
        "arr_1[1,1] = 1"
      ],
      "metadata": {
        "id": "fgHrYh3hnJJT"
      },
      "execution_count": null,
      "outputs": []
    },
    {
      "cell_type": "code",
      "source": [
        "arr_1"
      ],
      "metadata": {
        "colab": {
          "base_uri": "https://localhost:8080/"
        },
        "id": "EbO9XQOCnNYP",
        "outputId": "bacf3f33-8771-4939-9fed-6a11462f935a"
      },
      "execution_count": null,
      "outputs": [
        {
          "output_type": "execute_result",
          "data": {
            "text/plain": [
              "array([[1, 0, 1, 0, 1, 0, 1, 0, 1, 0],\n",
              "       [0, 1, 0, 1, 0, 1, 0, 1, 0, 1],\n",
              "       [1, 0, 1, 0, 1, 0, 1, 0, 1, 0],\n",
              "       [0, 1, 0, 1, 0, 1, 0, 1, 0, 1],\n",
              "       [1, 0, 1, 0, 1, 0, 1, 0, 1, 0],\n",
              "       [0, 1, 0, 1, 0, 1, 0, 1, 0, 1],\n",
              "       [1, 0, 1, 0, 1, 0, 1, 0, 1, 0],\n",
              "       [0, 1, 0, 1, 0, 1, 0, 1, 0, 1],\n",
              "       [1, 0, 1, 0, 1, 0, 1, 0, 1, 0],\n",
              "       [0, 1, 0, 1, 0, 1, 0, 1, 0, 1]])"
            ]
          },
          "metadata": {},
          "execution_count": 29
        }
      ]
    },
    {
      "cell_type": "code",
      "source": [
        "n=10\n",
        "np.arange(1,(n)*(n)+1).reshape(n,n)\n"
      ],
      "metadata": {
        "colab": {
          "base_uri": "https://localhost:8080/"
        },
        "id": "cYgL12KdnOc6",
        "outputId": "b05934cb-bd8f-4956-df07-5b5fa662e82f"
      },
      "execution_count": null,
      "outputs": [
        {
          "output_type": "execute_result",
          "data": {
            "text/plain": [
              "array([[  1,   2,   3,   4,   5,   6,   7,   8,   9,  10],\n",
              "       [ 11,  12,  13,  14,  15,  16,  17,  18,  19,  20],\n",
              "       [ 21,  22,  23,  24,  25,  26,  27,  28,  29,  30],\n",
              "       [ 31,  32,  33,  34,  35,  36,  37,  38,  39,  40],\n",
              "       [ 41,  42,  43,  44,  45,  46,  47,  48,  49,  50],\n",
              "       [ 51,  52,  53,  54,  55,  56,  57,  58,  59,  60],\n",
              "       [ 61,  62,  63,  64,  65,  66,  67,  68,  69,  70],\n",
              "       [ 71,  72,  73,  74,  75,  76,  77,  78,  79,  80],\n",
              "       [ 81,  82,  83,  84,  85,  86,  87,  88,  89,  90],\n",
              "       [ 91,  92,  93,  94,  95,  96,  97,  98,  99, 100]])"
            ]
          },
          "metadata": {},
          "execution_count": 30
        }
      ]
    },
    {
      "cell_type": "markdown",
      "metadata": {
        "id": "DI11ZmbBxybw"
      },
      "source": [
        "#### 11.8 사용자로부터 2이상의 수 n을 입력으로 받아서, 입력된 수를 바탕으로 다음과 같은 대각선 성분의 값이 1에서 n까지 증가하는 다차원 배열 a를 생성하는 프로그램을 작성하시오. 이때 대각선 성분 이외의 값은 모두 0으로 하시오."
      ]
    },
    {
      "cell_type": "code",
      "execution_count": null,
      "metadata": {
        "colab": {
          "base_uri": "https://localhost:8080/"
        },
        "id": "zOqQFltGh0Ww",
        "outputId": "ef00aa33-0bd9-47fa-d05e-e705e51b7f43"
      },
      "outputs": [
        {
          "output_type": "stream",
          "name": "stdout",
          "text": [
            "n : 10\n",
            "[[ 1  0  0  0  0  0  0  0  0  0]\n",
            " [ 0  2  0  0  0  0  0  0  0  0]\n",
            " [ 0  0  3  0  0  0  0  0  0  0]\n",
            " [ 0  0  0  4  0  0  0  0  0  0]\n",
            " [ 0  0  0  0  5  0  0  0  0  0]\n",
            " [ 0  0  0  0  0  6  0  0  0  0]\n",
            " [ 0  0  0  0  0  0  7  0  0  0]\n",
            " [ 0  0  0  0  0  0  0  8  0  0]\n",
            " [ 0  0  0  0  0  0  0  0  9  0]\n",
            " [ 0  0  0  0  0  0  0  0  0 10]]\n"
          ]
        }
      ],
      "source": [
        "n = int(input(\"n : \"))\n",
        "arr_1 = np.full((n,n), 0)\n",
        "for i in range(n):\n",
        "  for j in range(n):\n",
        "    if i == j:\n",
        "      arr_1[i, j] = i+1\n",
        "print(arr_1)"
      ]
    },
    {
      "cell_type": "markdown",
      "metadata": {
        "id": "I6bCZLvIlICZ"
      },
      "source": [
        "#### 11.9 사용자로부터 2이상의 수 n을 입력으로 받아서 모든 원소의 값을 1로 가지는 (n, n) shape 행렬 a를 만드시오. 그리고 아래 그림과 같이 이 행렬 a의 경계 값을 제외한 내부의 값을 모두 0으로 가지는 행렬 b를 만드시오(힌트 : np.ones((n, n), dtype='int32')로 모든 원소를 1로 가지는 행렬을 생성한 후 [1:-1, 1:-1] 인덱스를 사용하시오)."
      ]
    },
    {
      "cell_type": "code",
      "execution_count": null,
      "metadata": {
        "colab": {
          "base_uri": "https://localhost:8080/"
        },
        "id": "tXy4y5xzh0Ww",
        "outputId": "41b0eb80-59bd-46f4-af34-796635e93660"
      },
      "outputs": [
        {
          "output_type": "stream",
          "name": "stdout",
          "text": [
            "n : 10\n",
            "[[1 1 1 1 1 1 1 1 1 1]\n",
            " [1 1 1 1 1 1 1 1 1 1]\n",
            " [1 1 1 1 1 1 1 1 1 1]\n",
            " [1 1 1 1 1 1 1 1 1 1]\n",
            " [1 1 1 1 1 1 1 1 1 1]\n",
            " [1 1 1 1 1 1 1 1 1 1]\n",
            " [1 1 1 1 1 1 1 1 1 1]\n",
            " [1 1 1 1 1 1 1 1 1 1]\n",
            " [1 1 1 1 1 1 1 1 1 1]\n",
            " [1 1 1 1 1 1 1 1 1 1]]\n",
            "139922422416848\n",
            "[[1 1 1 1 1 1 1 1 1 1]\n",
            " [1 0 0 0 0 0 0 0 0 1]\n",
            " [1 0 0 0 0 0 0 0 0 1]\n",
            " [1 0 0 0 0 0 0 0 0 1]\n",
            " [1 0 0 0 0 0 0 0 0 1]\n",
            " [1 0 0 0 0 0 0 0 0 1]\n",
            " [1 0 0 0 0 0 0 0 0 1]\n",
            " [1 0 0 0 0 0 0 0 0 1]\n",
            " [1 0 0 0 0 0 0 0 0 1]\n",
            " [1 1 1 1 1 1 1 1 1 1]]\n"
          ]
        },
        {
          "output_type": "execute_result",
          "data": {
            "text/plain": [
              "139922422416848"
            ]
          },
          "metadata": {},
          "execution_count": 32
        }
      ],
      "source": [
        "n = int(input(\"n : \"))\n",
        "a = np.full((n,n), 1)\n",
        "print(a)\n",
        "print(id(a))\n",
        "# b = a.copy()\n",
        "b = a\n",
        "b[1: -1, 1:-1] = 0\n",
        "print(b)\n",
        "id(b)"
      ]
    },
    {
      "cell_type": "markdown",
      "metadata": {
        "id": "iv6U2l0veAgF"
      },
      "source": [
        "#### 11.10 14.9 문제와 달리 a 행렬로부터 경계 값이 모두 0이고 내부가 1인 행렬 c를 다음과 같이 생성하시오. 이때 배열의 슬라이싱을 사용하시오."
      ]
    },
    {
      "cell_type": "code",
      "execution_count": null,
      "metadata": {
        "colab": {
          "base_uri": "https://localhost:8080/"
        },
        "id": "JIK3PgDvh0Ww",
        "outputId": "51947c0f-bef0-448f-db5a-35a663c60656"
      },
      "outputs": [
        {
          "output_type": "stream",
          "name": "stdout",
          "text": [
            "n : 10\n",
            "[[1 1 1 1 1 1 1 1 1 1]\n",
            " [1 1 1 1 1 1 1 1 1 1]\n",
            " [1 1 1 1 1 1 1 1 1 1]\n",
            " [1 1 1 1 1 1 1 1 1 1]\n",
            " [1 1 1 1 1 1 1 1 1 1]\n",
            " [1 1 1 1 1 1 1 1 1 1]\n",
            " [1 1 1 1 1 1 1 1 1 1]\n",
            " [1 1 1 1 1 1 1 1 1 1]\n",
            " [1 1 1 1 1 1 1 1 1 1]\n",
            " [1 1 1 1 1 1 1 1 1 1]]\n",
            "[[0 0 0 0 0 0 0 0 0 0]\n",
            " [0 1 1 1 1 1 1 1 1 0]\n",
            " [0 1 1 1 1 1 1 1 1 0]\n",
            " [0 1 1 1 1 1 1 1 1 0]\n",
            " [0 1 1 1 1 1 1 1 1 0]\n",
            " [0 1 1 1 1 1 1 1 1 0]\n",
            " [0 1 1 1 1 1 1 1 1 0]\n",
            " [0 1 1 1 1 1 1 1 1 0]\n",
            " [0 1 1 1 1 1 1 1 1 0]\n",
            " [0 0 0 0 0 0 0 0 0 0]]\n",
            "[[0 0 0 0 0 0 0 0 0 0]\n",
            " [0 1 1 1 1 1 1 1 1 0]\n",
            " [0 1 1 1 1 1 1 1 1 0]\n",
            " [0 1 1 1 1 1 1 1 1 0]\n",
            " [0 1 1 1 1 1 1 1 1 0]\n",
            " [0 1 1 1 1 1 1 1 1 0]\n",
            " [0 1 1 1 1 1 1 1 1 0]\n",
            " [0 1 1 1 1 1 1 1 1 0]\n",
            " [0 1 1 1 1 1 1 1 1 0]\n",
            " [0 0 0 0 0 0 0 0 0 0]]\n"
          ]
        }
      ],
      "source": [
        "n = int(input(\"n : \"))\n",
        "a = np.full((n,n), 1)\n",
        "print(a)\n",
        "b = a.copy()\n",
        "# b = a\n",
        "b[1: -1, 1:-1] = 0\n",
        "b= (b-1)*(-1)\n",
        "print(b)\n",
        "c = a.copy()\n",
        "c[0, :] = c[-1, :] = c[:, 0] = c[:, -1] = 0\n",
        "\n",
        "# c[0, :] = 0\n",
        "# c[-1, :] = 0\n",
        "# c[:, 0] = 0\n",
        "# c[:, -1] = 0\n",
        "print(c)\n"
      ]
    },
    {
      "cell_type": "markdown",
      "metadata": {
        "id": "VNslxlXXyxxO"
      },
      "source": [
        "#### 11.11 다음과 같은 두 배열 a와 b가 있을 경우 a 배열의 원소내에 b 배열의 원소가 있는지 없는지를 판단하여 출력하는 프로그램을 작성하시오. 이 때 a 배열내의 원소가 b에 있을 경우는 True, 없을 경우는 False를 출력하여라."
      ]
    },
    {
      "cell_type": "code",
      "execution_count": null,
      "metadata": {
        "id": "rm5J34cfh0Wx"
      },
      "outputs": [],
      "source": [
        "a= np.arange(0,81,10)\n",
        "b= np.arange(0,21,20)"
      ]
    },
    {
      "cell_type": "code",
      "source": [
        "bool_arr = np.full(a.shape, False)\n",
        "indx=0\n",
        "for i in a:\n",
        "  if i in b:\n",
        "    bool_arr[indx] = True\n",
        "  indx += 1\n",
        "\n",
        "print(bool_arr)\n"
      ],
      "metadata": {
        "colab": {
          "base_uri": "https://localhost:8080/"
        },
        "id": "g-zXUu5D9svV",
        "outputId": "68ee50b3-ed95-461a-a88b-9b9b9a281a89"
      },
      "execution_count": null,
      "outputs": [
        {
          "output_type": "stream",
          "name": "stdout",
          "text": [
            "[ True False  True False False False False False False]\n"
          ]
        }
      ]
    },
    {
      "cell_type": "code",
      "source": [
        "a"
      ],
      "metadata": {
        "colab": {
          "base_uri": "https://localhost:8080/"
        },
        "id": "m1L77t2Y9b-o",
        "outputId": "2edb685a-14c1-4b2d-f4e0-8ff110904de0"
      },
      "execution_count": null,
      "outputs": [
        {
          "output_type": "execute_result",
          "data": {
            "text/plain": [
              "array([ 0, 10, 20, 30, 40, 50, 60, 70, 80])"
            ]
          },
          "metadata": {},
          "execution_count": 36
        }
      ]
    },
    {
      "cell_type": "markdown",
      "metadata": {
        "id": "_mVtSChat93w"
      },
      "source": [
        "#### 11.12 임의의 shape으로 이루어진 행렬 x에 대하여 각 성분의 출현 횟수를 구하여 다음과 같이 출력하는 프로그램을 작성하시오."
      ]
    },
    {
      "cell_type": "code",
      "execution_count": null,
      "metadata": {
        "id": "X569hvZih0Wy"
      },
      "outputs": [],
      "source": [
        "arr_1 = np.array([[10,30,40, 50], [10,20,40,50]])\n",
        "a, b = np.unique(arr_1.flatten(),return_counts=True)"
      ]
    },
    {
      "cell_type": "code",
      "source": [
        "for i,j in zip(a,b):\n",
        "  print({i}, {j})"
      ],
      "metadata": {
        "colab": {
          "base_uri": "https://localhost:8080/"
        },
        "id": "5ZYT6Yp3_A1L",
        "outputId": "633f6db5-861c-4def-9487-9cf78dece115"
      },
      "execution_count": null,
      "outputs": [
        {
          "output_type": "stream",
          "name": "stdout",
          "text": [
            "{10} {2}\n",
            "{20} {1}\n",
            "{30} {1}\n",
            "{40} {2}\n",
            "{50} {2}\n"
          ]
        }
      ]
    },
    {
      "cell_type": "markdown",
      "metadata": {
        "id": "8Eq6CWUyxX0D"
      },
      "source": [
        "#### 11.13 두 배열 a, b가 다음과 같은 원소를 가질때 , 두 배열의 뺄셈을 수행하여 아래와 같이 출력하시오.\n",
        "##### 1) 집합 연산을 사용하지 말고, for 문과 numpy.append() 메소드를 사용하여 이 문제를 해결 하시오."
      ]
    },
    {
      "cell_type": "code",
      "execution_count": null,
      "metadata": {
        "id": "HZ3kqxDdh0Wy"
      },
      "outputs": [],
      "source": [
        "a= np.arange(0,81,10)\n",
        "b= np.arange(0,21,20)\n"
      ]
    },
    {
      "cell_type": "code",
      "source": [
        "np.append?"
      ],
      "metadata": {
        "id": "LEA68ekL_6yC"
      },
      "execution_count": null,
      "outputs": []
    },
    {
      "cell_type": "code",
      "source": [
        "c= np.empty(0)\n",
        "for i in a:\n",
        "  if i not in b:\n",
        "    c = np.append(c, i)\n",
        "print(c)"
      ],
      "metadata": {
        "colab": {
          "base_uri": "https://localhost:8080/"
        },
        "id": "_Gz_Lt8M_t_0",
        "outputId": "6fc23a08-7646-48f6-aa96-f381bf13fc8f"
      },
      "execution_count": null,
      "outputs": [
        {
          "output_type": "stream",
          "name": "stdout",
          "text": [
            "[10. 30. 40. 50. 60. 70. 80.]\n"
          ]
        }
      ]
    },
    {
      "cell_type": "markdown",
      "metadata": {
        "id": "KtYUHYtr2vMX"
      },
      "source": [
        "##### 2) numpy.setdiff1d(a, b) 메소드를 사용하여 이 문제를 해결하시오."
      ]
    },
    {
      "cell_type": "code",
      "execution_count": null,
      "metadata": {
        "id": "16Qnky-Gh0Wz",
        "colab": {
          "base_uri": "https://localhost:8080/"
        },
        "outputId": "24abd408-5688-43f2-fc4a-f2465909f218"
      },
      "outputs": [
        {
          "output_type": "execute_result",
          "data": {
            "text/plain": [
              "array([10, 30, 40, 50, 60, 70, 80])"
            ]
          },
          "metadata": {},
          "execution_count": 42
        }
      ],
      "source": [
        "np.setdiff1d(a, b)"
      ]
    },
    {
      "cell_type": "markdown",
      "metadata": {
        "id": "-EqfhJMj6R7s",
        "tags": []
      },
      "source": [
        "#### 11.14 다음과 같이 사용자로부터 정수 n을 입력으로 받아서 (n, n) shape의 정방행렬을 만들고 이 행렬의 대각선 성분의 값들이 모두 1로 만드시오(X자 패턴이 되도록 할 것)."
      ]
    },
    {
      "cell_type": "code",
      "execution_count": null,
      "metadata": {
        "id": "A3iz7RMYh0Wz",
        "colab": {
          "base_uri": "https://localhost:8080/"
        },
        "outputId": "a5faaf89-3dc7-4aca-b032-986f0b70b4d9"
      },
      "outputs": [
        {
          "output_type": "stream",
          "name": "stdout",
          "text": [
            "n? : 10\n",
            "[[1 0 0 0 0 0 0 0 0 1]\n",
            " [0 1 0 0 0 0 0 0 1 0]\n",
            " [0 0 1 0 0 0 0 1 0 0]\n",
            " [0 0 0 1 0 0 1 0 0 0]\n",
            " [0 0 0 0 1 1 0 0 0 0]\n",
            " [0 0 0 0 1 1 0 0 0 0]\n",
            " [0 0 0 1 0 0 1 0 0 0]\n",
            " [0 0 1 0 0 0 0 1 0 0]\n",
            " [0 1 0 0 0 0 0 0 1 0]\n",
            " [1 0 0 0 0 0 0 0 0 1]]\n"
          ]
        }
      ],
      "source": [
        "n = int(input('n? : '))\n",
        "a = np.eye(n, dtype='int32')\n",
        "b = np.flip(a, axis=1)\n",
        "c = a + b\n",
        "if len(c) % 2 == 1:\n",
        "  c[int(len(c)/2), int(len(c)/2)] = 1\n",
        "  \n",
        "print(c)"
      ]
    },
    {
      "cell_type": "markdown",
      "metadata": {
        "id": "6XE9o_VOSTFG",
        "tags": []
      },
      "source": [
        "#### 11.15 다음과 같이 사용자로부터 정수 n을 입력으로 받아서 (n, n) shape의 정방행렬을 만드시오.\n",
        "##### 1) 이 행렬의 대각선 성분과 그 아래 값들이 다음과 같이 모두 1이 되도록 만드시오."
      ]
    },
    {
      "cell_type": "code",
      "execution_count": null,
      "metadata": {
        "id": "DzWX5Y8nh0W0",
        "colab": {
          "base_uri": "https://localhost:8080/"
        },
        "outputId": "2889d133-c663-4a54-cb0c-672a5b95d17c"
      },
      "outputs": [
        {
          "output_type": "stream",
          "name": "stdout",
          "text": [
            "n : 10\n",
            "[[1 0 0 0 0 0 0 0 0 0]\n",
            " [1 1 0 0 0 0 0 0 0 0]\n",
            " [1 1 1 0 0 0 0 0 0 0]\n",
            " [1 1 1 1 0 0 0 0 0 0]\n",
            " [1 1 1 1 1 0 0 0 0 0]\n",
            " [1 1 1 1 1 1 0 0 0 0]\n",
            " [1 1 1 1 1 1 1 0 0 0]\n",
            " [1 1 1 1 1 1 1 1 0 0]\n",
            " [1 1 1 1 1 1 1 1 1 0]\n",
            " [1 1 1 1 1 1 1 1 1 1]]\n"
          ]
        }
      ],
      "source": [
        "import numpy as np\n",
        "\n",
        "n = int(input('n : '))\n",
        "arr_1 = np.full((n, n), 0)\n",
        "\n",
        "for i in range(n):\n",
        "  for j in range(n):\n",
        "    if i >= j:\n",
        "      arr_1[i, j] = 1\n",
        "      \n",
        "print(arr_1)"
      ]
    },
    {
      "cell_type": "markdown",
      "metadata": {
        "id": "3utuEnyyot6a"
      },
      "source": [
        "##### 2) 이 때 모든 행렬의 원소의 합을 다음과 같이 구하시오."
      ]
    },
    {
      "cell_type": "code",
      "execution_count": null,
      "metadata": {
        "id": "NcWyuhCNh0W0",
        "colab": {
          "base_uri": "https://localhost:8080/"
        },
        "outputId": "bdca18ac-cfac-4e13-b07c-ab08b134032c"
      },
      "outputs": [
        {
          "output_type": "execute_result",
          "data": {
            "text/plain": [
              "55"
            ]
          },
          "metadata": {},
          "execution_count": 45
        }
      ],
      "source": [
        "arr_1.sum()"
      ]
    },
    {
      "cell_type": "markdown",
      "metadata": {
        "id": "N008GiWioEgP"
      },
      "source": [
        "##### 3) 이 행렬의 행 방향 원소의 합을 다음과 같이 구하시오(0축 방향)."
      ]
    },
    {
      "cell_type": "code",
      "execution_count": null,
      "metadata": {
        "id": "WqdrTsf8h0W1",
        "colab": {
          "base_uri": "https://localhost:8080/"
        },
        "outputId": "dbc8df73-9d04-4ac9-d0e3-447c02a3a549"
      },
      "outputs": [
        {
          "output_type": "execute_result",
          "data": {
            "text/plain": [
              "array([10,  9,  8,  7,  6,  5,  4,  3,  2,  1])"
            ]
          },
          "metadata": {},
          "execution_count": 47
        }
      ],
      "source": [
        "arr_1.sum(axis=0)"
      ]
    },
    {
      "cell_type": "markdown",
      "metadata": {
        "id": "gqiZMS1ru_14"
      },
      "source": [
        "##### 4) 이 행렬의 열 방향 성분의 합을 다음과 같이 구하시오(1축 방향)."
      ]
    },
    {
      "cell_type": "code",
      "execution_count": null,
      "metadata": {
        "id": "h1io9vwah0W1",
        "colab": {
          "base_uri": "https://localhost:8080/"
        },
        "outputId": "21ad6e0d-89ed-4dec-d2ff-478f3e2400d8"
      },
      "outputs": [
        {
          "output_type": "execute_result",
          "data": {
            "text/plain": [
              "array([ 1,  2,  3,  4,  5,  6,  7,  8,  9, 10])"
            ]
          },
          "metadata": {},
          "execution_count": 48
        }
      ],
      "source": [
        "arr_1.sum(axis=1)"
      ]
    },
    {
      "cell_type": "markdown",
      "metadata": {
        "id": "vLzJLirASILK",
        "tags": []
      },
      "source": [
        "#### 11.16 다음과 같은 행렬 a가 있다. 이 행렬 a의 각 성분 값들을 인덱싱하고 concatenate() 함수를 이용하여 b와 같은 형태의 행렬로 만들어라."
      ]
    },
    {
      "cell_type": "code",
      "execution_count": null,
      "metadata": {
        "id": "CDCIZfUnh0W1",
        "colab": {
          "base_uri": "https://localhost:8080/"
        },
        "outputId": "4aa09b3b-e07c-45b1-d558-9d2c4b4cb78b"
      },
      "outputs": [
        {
          "output_type": "stream",
          "name": "stdout",
          "text": [
            "[[ 0  1  2  0  2  4]\n",
            " [ 3  4  5  6  8 10]]\n"
          ]
        }
      ],
      "source": [
        "a = np.array([[0, 1, 2], [3, 4, 5], [0, 2, 4], [6, 8, 10]])\n",
        "a_1 = np.append(a[0], a[2])\n",
        "a_2 = np.append(a[1], a[3])\n",
        "b = np.array([a_1, a_2])\n",
        "print(b)"
      ]
    },
    {
      "cell_type": "markdown",
      "metadata": {
        "id": "DmqHq15eI4yu"
      },
      "source": [
        "#### 11.17 다음과 같은 5x5 크기의 2차원 배열 a가 있다. 이 배열을 슬라이싱하여 다음과 같은 배열 b, c, d, e를 완성하여라."
      ]
    },
    {
      "cell_type": "code",
      "execution_count": null,
      "metadata": {
        "id": "XjWqXhith0W2",
        "colab": {
          "base_uri": "https://localhost:8080/"
        },
        "outputId": "d96ed151-69dd-451f-c851-56988722b302"
      },
      "outputs": [
        {
          "output_type": "stream",
          "name": "stdout",
          "text": [
            "[[0. 0. 0. 0. 0.]\n",
            " [0. 1. 1. 1. 0.]\n",
            " [0. 1. 2. 1. 0.]\n",
            " [0. 1. 1. 1. 0.]\n",
            " [0. 0. 0. 0. 0.]]\n"
          ]
        }
      ],
      "source": [
        "n = 5\n",
        "a = np.ones((n, n))\n",
        "a[0, :] = a[-1, :] = a[:, 0] = a[:, -1] = 0\n",
        "a[2, 2] = 2\n",
        "print(a)"
      ]
    },
    {
      "cell_type": "markdown",
      "metadata": {
        "id": "SJtOq4ImkxAS"
      },
      "source": [
        "#### 11.18 다음과 같은 2차원 행렬 A, B가 있을 경우 아래 연산이나 행렬식 값를 구하시오.(단, AB는 행렬곱 연산임)"
      ]
    },
    {
      "cell_type": "code",
      "execution_count": null,
      "metadata": {
        "id": "CHrGYkPuh0W2"
      },
      "outputs": [],
      "source": [
        ""
      ]
    },
    {
      "cell_type": "markdown",
      "metadata": {
        "id": "j_JWA8peM1nU"
      },
      "source": [
        "#### 11.19 0에서 23까지의 값을 순서대로 가지는 (4, 3, 2) 형태의 3차원 배열 a가 다음과 같이 있다. 이 배열에 대하여 10번째와 20번째 원소를 구하는 식을 만드시오.\n",
        "##### 이 식을 이용하여 n과 배열 a를 매개변수로 받아서 원소를 반환하는 get_nth()라는 이름의 함수를 만들고, 10번째와 20번째 배열 원소를 다음과 같이 출력하시오."
      ]
    },
    {
      "cell_type": "code",
      "execution_count": null,
      "metadata": {
        "id": "h3A7T1F0h0W2"
      },
      "outputs": [],
      "source": [
        ""
      ]
    },
    {
      "cell_type": "markdown",
      "metadata": {
        "id": "U2VxwHB-66n9"
      },
      "source": [
        "#### 11.20 다음과 같은 관계식을 만족시키는 x, y, z를 numpy.linalg.solve() 함수를 이용하여 구하시오.\n",
        "##### 1) 위 식의 해를 다음과 같이 출력하시오."
      ]
    },
    {
      "cell_type": "code",
      "execution_count": null,
      "metadata": {
        "id": "u2nx94MGh0W3"
      },
      "outputs": [],
      "source": [
        ""
      ]
    },
    {
      "cell_type": "markdown",
      "metadata": {
        "id": "azhToIm5DPr_"
      },
      "source": [
        "##### 2) 선형방정식에서 왼쪽 변의 방정식의 계수는 다음과 같은 행렬로 표기할 수 있다.\n",
        "##### 이 행렬의 행렬식을 linalg.det() 함수를 사용하여 다음과 같이 구하여라."
      ]
    },
    {
      "cell_type": "code",
      "execution_count": null,
      "metadata": {
        "id": "XmwOrqH9h0W3"
      },
      "outputs": [],
      "source": [
        ""
      ]
    }
  ],
  "metadata": {
    "colab": {
      "collapsed_sections": [],
      "name": "01_numpy_연습문제.ipynb",
      "provenance": [],
      "include_colab_link": true
    },
    "kernelspec": {
      "display_name": "Python 3 (ipykernel)",
      "language": "python",
      "name": "python3"
    },
    "language_info": {
      "codemirror_mode": {
        "name": "ipython",
        "version": 3
      },
      "file_extension": ".py",
      "mimetype": "text/x-python",
      "name": "python",
      "nbconvert_exporter": "python",
      "pygments_lexer": "ipython3",
      "version": "3.9.12"
    }
  },
  "nbformat": 4,
  "nbformat_minor": 0
}